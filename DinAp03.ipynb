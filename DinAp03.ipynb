{
 "cells": [
  {
   "cell_type": "markdown",
   "metadata": {
    "slideshow": {
     "slide_type": "slide"
    }
   },
   "source": [
    "# Restrições Cinemáticas\n",
    "Professor Paulo Victor <br>\n",
    "E-mail: paulo.gomes@cefet-rj.br <br>\n",
    "CEFET-RJ Campus Angra dos Reis Sala 6E\n"
   ]
  },
  {
   "cell_type": "markdown",
   "metadata": {
    "slideshow": {
     "slide_type": "fragment"
    }
   },
   "source": [
    "Um sistema mecânico é frequentemente restringido no modo em que ele pode se mover ou em que ele é configurado. <br>\n"
   ]
  },
  {
   "cell_type": "markdown",
   "metadata": {
    "slideshow": {
     "slide_type": "slide"
    }
   },
   "source": [
    "## Restrições de Configuração"
   ]
  },
  {
   "cell_type": "markdown",
   "metadata": {
    "slideshow": {
     "slide_type": "subslide"
    }
   },
   "source": [
    "A configuração de um conjunto $S$ de $\\nu$ partículas $P_1,...,P_{\\nu}$ em um sistema de referência $A$ é conhecida quando se conhece o vetor posição de cada partícula em relação a um ponto fixo em $A$. <br>\n",
    "Se o movimento de $S$ é afetado pela presença de corpos que entram em contato com uma ou mais $P_1,...,P_{\\nu}$, restrições são impostas nas posições que as partículas afetadas podem ocupar, e $S$ é dito estar sujeito uma restrição de configuração. <br>\n",
    "Se $\\boldsymbol{p}_i$ é o vetor posição de $P_i$ em relação ao ponto $O$, fixo em $A$, então a equação de restrição holonômica pode ser expressa como:\n",
    "$$g(\\boldsymbol{p}_1,\\boldsymbol{p}_2,...,\\boldsymbol{p}_{\\nu},t) = 0 $$"
   ]
  },
  {
   "cell_type": "markdown",
   "metadata": {
    "slideshow": {
     "slide_type": "subslide"
    }
   },
   "source": [
    "De modo alternativo, se $\\hat{\\boldsymbol{a}}_x,\\hat{\\boldsymbol{a}}_y,\\hat{\\boldsymbol{a}}_z$ são vetores de uma base ortonormal fixa em $A$, então $x_i$, $y_i$, $z_i$ são chamadas *Coordenadas Cartesianas* de $P_i$ em $A$:\n",
    "$$ x_i = \\boldsymbol{p}_i \\cdot \\hat{\\boldsymbol{a}}_x \\quad y_i = \\boldsymbol{p}_i \\cdot \\hat{\\boldsymbol{a}}_y \\quad z_i = \\boldsymbol{p}_i \\cdot \\hat{\\boldsymbol{a}}_z \\quad (i=1,..., \\nu)$$\n",
    "A equação de restrição holonômica pode ser escrita então da seguinte forma:\n",
    "$$f(x_1,y_1,z_1,...,x_{\\nu},y_{\\nu},z_{\\nu},t) = 0$$"
   ]
  },
  {
   "cell_type": "markdown",
   "metadata": {
    "slideshow": {
     "slide_type": "subslide"
    }
   },
   "source": [
    "**Exemplo 1:** <br>\n",
    "Na figura a seguir são mostrados dois pequenos blocos $P_1$ e $P_2$ conectador por uma barra fina $R$ de comprimento $L$, e restringidos de modo a permanecer entre dois planos paralelos de vidro que são fixados um ao outro, formando um corpo rígido $B$. Os blocos $P_1$ e $P_2$ são tratados como um conjunto de duas partículas, e $\\boldsymbol{p}_1$ e $\\boldsymbol{p}_2$ representam seus vetores posição em relação ao ponto $O$. Obtenha as equações de restrição na forma escalar. "
   ]
  },
  {
   "cell_type": "markdown",
   "metadata": {
    "slideshow": {
     "slide_type": "subslide"
    }
   },
   "source": [
    "![Exemplo 1](cap3-1.png)"
   ]
  },
  {
   "cell_type": "code",
   "execution_count": 1,
   "metadata": {
    "slideshow": {
     "slide_type": "subslide"
    }
   },
   "outputs": [],
   "source": [
    "import sympy as sy\n",
    "import sympy.physics.mechanics as me"
   ]
  },
  {
   "cell_type": "code",
   "execution_count": 2,
   "metadata": {
    "slideshow": {
     "slide_type": "fragment"
    }
   },
   "outputs": [],
   "source": [
    "x1,y1,z1 = me.dynamicsymbols('x1 y1 z1')\n",
    "x2,y2,z2 = me.dynamicsymbols('x2 y2 z2')\n",
    "omega,L = sy.symbols('omega L')\n",
    "t = me.dynamicsymbols._t"
   ]
  },
  {
   "cell_type": "code",
   "execution_count": 3,
   "metadata": {
    "slideshow": {
     "slide_type": "fragment"
    }
   },
   "outputs": [
    {
     "data": {
      "text/latex": [
       "$\\displaystyle \\omega\\mathbf{\\hat{a}_y}$"
      ],
      "text/plain": [
       "omega*A.y"
      ]
     },
     "execution_count": 3,
     "metadata": {},
     "output_type": "execute_result"
    }
   ],
   "source": [
    "A = me.ReferenceFrame('A')\n",
    "B = me.ReferenceFrame('B')\n",
    "B.orient(A,'Axis',[omega*t,A.y])\n",
    "B.ang_vel_in(A)"
   ]
  },
  {
   "cell_type": "code",
   "execution_count": 4,
   "metadata": {
    "slideshow": {
     "slide_type": "fragment"
    }
   },
   "outputs": [
    {
     "data": {
      "text/latex": [
       "$\\displaystyle 0$"
      ],
      "text/plain": [
       "0"
      ]
     },
     "execution_count": 4,
     "metadata": {},
     "output_type": "execute_result"
    }
   ],
   "source": [
    "B.ang_acc_in(A)"
   ]
  },
  {
   "cell_type": "code",
   "execution_count": 5,
   "metadata": {
    "slideshow": {
     "slide_type": "subslide"
    }
   },
   "outputs": [
    {
     "data": {
      "text/latex": [
       "$\\displaystyle x_{1}\\mathbf{\\hat{a}_x} + y_{1}\\mathbf{\\hat{a}_y} + z_{1}\\mathbf{\\hat{a}_z}$"
      ],
      "text/plain": [
       "x1*A.x + y1*A.y + z1*A.z"
      ]
     },
     "execution_count": 5,
     "metadata": {},
     "output_type": "execute_result"
    }
   ],
   "source": [
    "p1 = x1*A.x + y1*A.y + z1*A.z\n",
    "p1"
   ]
  },
  {
   "cell_type": "code",
   "execution_count": 6,
   "metadata": {
    "slideshow": {
     "slide_type": "fragment"
    }
   },
   "outputs": [
    {
     "data": {
      "text/latex": [
       "$\\displaystyle x_{2}\\mathbf{\\hat{a}_x} + y_{2}\\mathbf{\\hat{a}_y} + z_{2}\\mathbf{\\hat{a}_z}$"
      ],
      "text/plain": [
       "x2*A.x + y2*A.y + z2*A.z"
      ]
     },
     "execution_count": 6,
     "metadata": {},
     "output_type": "execute_result"
    }
   ],
   "source": [
    "p2 = x2*A.x + y2*A.y + z2*A.z\n",
    "p2"
   ]
  },
  {
   "cell_type": "markdown",
   "metadata": {
    "slideshow": {
     "slide_type": "subslide"
    }
   },
   "source": [
    "Como $P_1$ e $P_2$ pertencem ao plano formado pelo corpo $B$:\n",
    "$$\\boldsymbol{p}_i \\cdot \\hat{\\boldsymbol{b}}_z = 0 \\qquad i=1,2$$\n",
    "Além disso, $P_1$ e $P_2$ estarem conectados por uma barra de comprimento $L$ constitui mais uma restrição de configuração:\n",
    "$$(\\boldsymbol{p}_1 - \\boldsymbol{p}_2) \\cdot (\\boldsymbol{p}_1 - \\boldsymbol{p}_2) - L^2 = 0$$"
   ]
  },
  {
   "cell_type": "markdown",
   "metadata": {
    "slideshow": {
     "slide_type": "subslide"
    }
   },
   "source": [
    "![Exemplo 1 - vetores](cap3-2.png)"
   ]
  },
  {
   "cell_type": "code",
   "execution_count": 32,
   "metadata": {
    "slideshow": {
     "slide_type": "subslide"
    }
   },
   "outputs": [
    {
     "data": {
      "text/latex": [
       "$\\displaystyle \\operatorname{x_{1}}{\\left(t \\right)} \\sin{\\left(\\omega t \\right)} + \\operatorname{z_{1}}{\\left(t \\right)} \\cos{\\left(\\omega t \\right)} = 0$"
      ],
      "text/plain": [
       "Eq(x1(t)*sin(omega*t) + z1(t)*cos(omega*t), 0)"
      ]
     },
     "execution_count": 32,
     "metadata": {},
     "output_type": "execute_result"
    }
   ],
   "source": [
    "Eq1 = sy.Eq(p1.dot(B.z),0)\n",
    "Eq1"
   ]
  },
  {
   "cell_type": "code",
   "execution_count": 8,
   "metadata": {
    "slideshow": {
     "slide_type": "fragment"
    }
   },
   "outputs": [
    {
     "data": {
      "text/latex": [
       "$\\displaystyle \\operatorname{x_{2}}{\\left(t \\right)} \\sin{\\left(\\omega t \\right)} + \\operatorname{z_{2}}{\\left(t \\right)} \\cos{\\left(\\omega t \\right)} = 0$"
      ],
      "text/plain": [
       "Eq(x2(t)*sin(omega*t) + z2(t)*cos(omega*t), 0)"
      ]
     },
     "execution_count": 8,
     "metadata": {},
     "output_type": "execute_result"
    }
   ],
   "source": [
    "Eq2 = sy.Eq(p2.dot(B.z),0)\n",
    "Eq2"
   ]
  },
  {
   "cell_type": "markdown",
   "metadata": {
    "slideshow": {
     "slide_type": "fragment"
    }
   },
   "source": [
    "As 2 equações a cima são equações de restrição reonômicas"
   ]
  },
  {
   "cell_type": "code",
   "execution_count": 9,
   "metadata": {
    "slideshow": {
     "slide_type": "fragment"
    }
   },
   "outputs": [
    {
     "data": {
      "text/latex": [
       "$\\displaystyle - L^{2} + \\left(\\operatorname{x_{1}}{\\left(t \\right)} - \\operatorname{x_{2}}{\\left(t \\right)}\\right)^{2} + \\left(\\operatorname{y_{1}}{\\left(t \\right)} - \\operatorname{y_{2}}{\\left(t \\right)}\\right)^{2} + \\left(\\operatorname{z_{1}}{\\left(t \\right)} - \\operatorname{z_{2}}{\\left(t \\right)}\\right)^{2} = 0$"
      ],
      "text/plain": [
       "Eq(-L**2 + (x1(t) - x2(t))**2 + (y1(t) - y2(t))**2 + (z1(t) - z2(t))**2, 0)"
      ]
     },
     "execution_count": 9,
     "metadata": {},
     "output_type": "execute_result"
    }
   ],
   "source": [
    "Eq3 = sy.Eq((p1-p2).dot(p1-p2) - L**2,0)\n",
    "Eq3"
   ]
  },
  {
   "cell_type": "markdown",
   "metadata": {
    "slideshow": {
     "slide_type": "fragment"
    }
   },
   "source": [
    "A equação a cima é uma equação de restrição escleronômica\n",
    "* Observa-se que este sistema mecânico possui 3 equações de restrição"
   ]
  },
  {
   "cell_type": "markdown",
   "metadata": {
    "slideshow": {
     "slide_type": "subslide"
    }
   },
   "source": [
    "**Exemplo 2:** <br>\n",
    "Obtenha a equação de restrição para a junta de hooke e a relação entre a velocidade angular de entrada e de saída."
   ]
  },
  {
   "cell_type": "code",
   "execution_count": 10,
   "metadata": {
    "slideshow": {
     "slide_type": "subslide"
    }
   },
   "outputs": [
    {
     "data": {
      "text/html": [
       "<video src=\"hooke.mp4\" controls  width=\"720\" >\n",
       "      Your browser does not support the <code>video</code> element.\n",
       "    </video>"
      ],
      "text/plain": [
       "<IPython.core.display.Video object>"
      ]
     },
     "execution_count": 10,
     "metadata": {},
     "output_type": "execute_result"
    }
   ],
   "source": [
    "from IPython.display import Video\n",
    "Video('hooke.mp4', width = 720)"
   ]
  },
  {
   "cell_type": "markdown",
   "metadata": {
    "slideshow": {
     "slide_type": "slide"
    }
   },
   "source": [
    "## Coordenadas Generalizadas"
   ]
  },
  {
   "cell_type": "markdown",
   "metadata": {
    "slideshow": {
     "slide_type": "subslide"
    }
   },
   "source": [
    "Quando um conjunto de $S$ partículas $P_1$,...,$P_{\\nu}$ está sujeita a restrições de movimento representadas por $M$ equações de restrição holonômicas, então $n$  das $3\\nu$ coordenadas cartesianas $x_i,y_i,z_i$ $(i=1,...,\\nu)$ de $S$ em $A$ serão independentes em relação às outras. Onde $n=3\\nu - M$. <br>\n",
    "Sob essas circunstâncias, podemos expressar cada um dos $x_i,y_i,z_i$ $(i=1,...,\\nu)$ como uma função simples do tempo $t$ e como $n$ funções de $t$: $q_1(t),...,q_n(t)$ de modo que cada equação de restrição é igualmente satisfeita para todos os valores de $t$ e $q_1,...,q_n$ em um dado domínio.\n",
    "* As quantidades $q_1,...,q_n$ são chamadas coordenadas generalizadas de $S$ em $A$. "
   ]
  },
  {
   "cell_type": "markdown",
   "metadata": {
    "slideshow": {
     "slide_type": "subslide"
    }
   },
   "source": [
    "Voltando ao **Exemplo 1:** <br>\n",
    "Para o conjunto de $S$ partículas: $\\nu = 2$ e $M = 3$, então $n=3$:"
   ]
  },
  {
   "cell_type": "markdown",
   "metadata": {
    "slideshow": {
     "slide_type": "subslide"
    }
   },
   "source": [
    "![Exemplo 1 Continuação](cap3-3.png)"
   ]
  },
  {
   "cell_type": "code",
   "execution_count": 11,
   "metadata": {
    "slideshow": {
     "slide_type": "subslide"
    }
   },
   "outputs": [],
   "source": [
    "q1,q2,q3 = me.dynamicsymbols('q1 q2 q3')"
   ]
  },
  {
   "cell_type": "code",
   "execution_count": 12,
   "metadata": {
    "slideshow": {
     "slide_type": "fragment"
    }
   },
   "outputs": [
    {
     "data": {
      "text/latex": [
       "$\\displaystyle q_{1}\\mathbf{\\hat{b}_x} + q_{2}\\mathbf{\\hat{b}_y}$"
      ],
      "text/plain": [
       "q1*B.x + q2*B.y"
      ]
     },
     "execution_count": 12,
     "metadata": {},
     "output_type": "execute_result"
    }
   ],
   "source": [
    "p1_qs = q1*B.x + q2*B.y\n",
    "p1_qs"
   ]
  },
  {
   "cell_type": "code",
   "execution_count": 13,
   "metadata": {
    "slideshow": {
     "slide_type": "fragment"
    }
   },
   "outputs": [
    {
     "data": {
      "text/latex": [
       "$\\displaystyle q_{1} \\operatorname{cos}\\left(\\omega t\\right)\\mathbf{\\hat{a}_x} + q_{2}\\mathbf{\\hat{a}_y} -  q_{1} \\operatorname{sin}\\left(\\omega t\\right)\\mathbf{\\hat{a}_z}$"
      ],
      "text/plain": [
       "q1*cos(omega*t)*A.x + q2*A.y - q1*sin(omega*t)*A.z"
      ]
     },
     "execution_count": 13,
     "metadata": {},
     "output_type": "execute_result"
    }
   ],
   "source": [
    "p1_qs.express(A)"
   ]
  },
  {
   "cell_type": "code",
   "execution_count": 14,
   "metadata": {
    "slideshow": {
     "slide_type": "fragment"
    }
   },
   "outputs": [
    {
     "data": {
      "text/latex": [
       "$\\displaystyle x_{1}\\mathbf{\\hat{a}_x} + y_{1}\\mathbf{\\hat{a}_y} + z_{1}\\mathbf{\\hat{a}_z}$"
      ],
      "text/plain": [
       "x1*A.x + y1*A.y + z1*A.z"
      ]
     },
     "execution_count": 14,
     "metadata": {},
     "output_type": "execute_result"
    }
   ],
   "source": [
    "p1.express(A)"
   ]
  },
  {
   "cell_type": "code",
   "execution_count": 15,
   "metadata": {
    "slideshow": {
     "slide_type": "subslide"
    }
   },
   "outputs": [],
   "source": [
    "x1_q = q1*sy.cos(omega*t)\n",
    "y1_q = q2\n",
    "z1_q = -q1*sy.sin(omega*t)"
   ]
  },
  {
   "cell_type": "code",
   "execution_count": 16,
   "metadata": {
    "slideshow": {
     "slide_type": "fragment"
    }
   },
   "outputs": [],
   "source": [
    "C = me.ReferenceFrame('C')\n",
    "C.orient(B,'Axis',[q3,B.z])"
   ]
  },
  {
   "cell_type": "code",
   "execution_count": 17,
   "metadata": {
    "slideshow": {
     "slide_type": "fragment"
    }
   },
   "outputs": [
    {
     "data": {
      "text/latex": [
       "$\\displaystyle q_{1}\\mathbf{\\hat{b}_x} + q_{2}\\mathbf{\\hat{b}_y} + L\\mathbf{\\hat{c}_x}$"
      ],
      "text/plain": [
       "q1*B.x + q2*B.y + L*C.x"
      ]
     },
     "execution_count": 17,
     "metadata": {},
     "output_type": "execute_result"
    }
   ],
   "source": [
    "p2_qs = p1_qs + L*C.x\n",
    "p2_qs"
   ]
  },
  {
   "cell_type": "code",
   "execution_count": 18,
   "metadata": {
    "slideshow": {
     "slide_type": "fragment"
    }
   },
   "outputs": [
    {
     "data": {
      "text/latex": [
       "$\\displaystyle (L \\operatorname{cos}\\left(\\omega t\\right) \\operatorname{cos}\\left(q_{3}\\right) + q_{1} \\operatorname{cos}\\left(\\omega t\\right))\\mathbf{\\hat{a}_x} + (L \\operatorname{sin}\\left(q_{3}\\right) + q_{2})\\mathbf{\\hat{a}_y} + (- L \\operatorname{sin}\\left(\\omega t\\right) \\operatorname{cos}\\left(q_{3}\\right) - q_{1} \\operatorname{sin}\\left(\\omega t\\right))\\mathbf{\\hat{a}_z}$"
      ],
      "text/plain": [
       "(L*cos(omega*t)*cos(q3) + q1*cos(omega*t))*A.x + (L*sin(q3) + q2)*A.y + (-L*sin(omega*t)*cos(q3) - q1*sin(omega*t))*A.z"
      ]
     },
     "execution_count": 18,
     "metadata": {},
     "output_type": "execute_result"
    }
   ],
   "source": [
    "p2_qs.express(A)"
   ]
  },
  {
   "cell_type": "code",
   "execution_count": 19,
   "metadata": {
    "slideshow": {
     "slide_type": "fragment"
    }
   },
   "outputs": [
    {
     "data": {
      "text/latex": [
       "$\\displaystyle \\left(L \\operatorname{cos}\\left(q_{3}\\right) + q_{1}\\right) \\operatorname{cos}\\left(\\omega t\\right)\\mathbf{\\hat{a}_x} + (L \\operatorname{sin}\\left(q_{3}\\right) + q_{2})\\mathbf{\\hat{a}_y} -  \\left(L \\operatorname{cos}\\left(q_{3}\\right) + q_{1}\\right) \\operatorname{sin}\\left(\\omega t\\right)\\mathbf{\\hat{a}_z}$"
      ],
      "text/plain": [
       "(L*cos(q3) + q1)*cos(omega*t)*A.x + (L*sin(q3) + q2)*A.y - (L*cos(q3) + q1)*sin(omega*t)*A.z"
      ]
     },
     "execution_count": 19,
     "metadata": {},
     "output_type": "execute_result"
    }
   ],
   "source": [
    "p2_qs.express(A).simplify()"
   ]
  },
  {
   "cell_type": "code",
   "execution_count": 20,
   "metadata": {
    "slideshow": {
     "slide_type": "fragment"
    }
   },
   "outputs": [
    {
     "data": {
      "text/latex": [
       "$\\displaystyle x_{2}\\mathbf{\\hat{a}_x} + y_{2}\\mathbf{\\hat{a}_y} + z_{2}\\mathbf{\\hat{a}_z}$"
      ],
      "text/plain": [
       "x2*A.x + y2*A.y + z2*A.z"
      ]
     },
     "execution_count": 20,
     "metadata": {},
     "output_type": "execute_result"
    }
   ],
   "source": [
    "p2.express(A)"
   ]
  },
  {
   "cell_type": "code",
   "execution_count": 21,
   "metadata": {
    "slideshow": {
     "slide_type": "fragment"
    }
   },
   "outputs": [
    {
     "name": "stdout",
     "output_type": "stream",
     "text": [
      "(L*cos(q3) + q1)*cos(omega*t)*A.x + (L*sin(q3) + q2)*A.y - (L*cos(q3) + q1)*sin(omega*t)*A.z\n"
     ]
    }
   ],
   "source": [
    "me.mprint(p2_qs.express(A).simplify())"
   ]
  },
  {
   "cell_type": "code",
   "execution_count": 22,
   "metadata": {
    "slideshow": {
     "slide_type": "subslide"
    }
   },
   "outputs": [],
   "source": [
    "x2_q = (L*sy.cos(q3) + q1)*sy.cos(omega*t)\n",
    "y2_q = (L*sy.sin(q3) + q2)\n",
    "z2_q = - (L*sy.cos(q3) + q1)*sy.sin(omega*t)"
   ]
  },
  {
   "cell_type": "code",
   "execution_count": 23,
   "metadata": {
    "slideshow": {
     "slide_type": "subslide"
    }
   },
   "outputs": [],
   "source": [
    "dic = {x1:x1_q,y1:y1_q,z1:z1_q,x2:x2_q,y2:y2_q,z2:z2_q}"
   ]
  },
  {
   "cell_type": "code",
   "execution_count": 24,
   "metadata": {
    "slideshow": {
     "slide_type": "fragment"
    }
   },
   "outputs": [
    {
     "data": {
      "text/latex": [
       "$\\displaystyle \\text{True}$"
      ],
      "text/plain": [
       "True"
      ]
     },
     "execution_count": 24,
     "metadata": {},
     "output_type": "execute_result"
    }
   ],
   "source": [
    "Eq1.subs(dic)"
   ]
  },
  {
   "cell_type": "code",
   "execution_count": 35,
   "metadata": {
    "slideshow": {
     "slide_type": "fragment"
    }
   },
   "outputs": [
    {
     "data": {
      "text/latex": [
       "$\\displaystyle \\text{True}$"
      ],
      "text/plain": [
       "True"
      ]
     },
     "execution_count": 35,
     "metadata": {},
     "output_type": "execute_result"
    }
   ],
   "source": [
    "Eq2.subs(dic).simplify()"
   ]
  },
  {
   "cell_type": "code",
   "execution_count": 26,
   "metadata": {
    "slideshow": {
     "slide_type": "fragment"
    }
   },
   "outputs": [
    {
     "data": {
      "text/latex": [
       "$\\displaystyle \\text{True}$"
      ],
      "text/plain": [
       "True"
      ]
     },
     "execution_count": 26,
     "metadata": {},
     "output_type": "execute_result"
    }
   ],
   "source": [
    "Eq3.subs(dic).simplify()"
   ]
  },
  {
   "cell_type": "markdown",
   "metadata": {
    "slideshow": {
     "slide_type": "fragment"
    }
   },
   "source": [
    "* Poderíamos ter feito outras escolhas de coordenadas generalizadas.\n",
    "    * Por exemplo, $q_3$ ao invés de ser uma ângulo, poderia ter sido escolhido como a distância de $P_2$ a $O$ ao longo do eixo $Y$. "
   ]
  },
  {
   "cell_type": "markdown",
   "metadata": {
    "slideshow": {
     "slide_type": "slide"
    }
   },
   "source": [
    "## Número de Coordenadas Generalizadas"
   ]
  },
  {
   "cell_type": "markdown",
   "metadata": {
    "slideshow": {
     "slide_type": "fragment"
    }
   },
   "source": [
    "O número $n$ de coordenadas generalizadas de um conjunto $S$ de $\\nu$ partículas em um sistema de referência $A$ é o menor número de quantidades escalares tal que toda atribuição de valores destas quantidades e do tempo $t$ corresponderá a uma configuração admissível de $S$ em $A$. <br>\n",
    "Frequentemente, pode-se encontrar $n$ por inspeção (analisando o problema), ao invés de ser obtido através da determinação do número $M$ de equações de restrição holonômicas."
   ]
  },
  {
   "cell_type": "code",
   "execution_count": null,
   "metadata": {},
   "outputs": [],
   "source": []
  }
 ],
 "metadata": {
  "kernelspec": {
   "display_name": "Python 3",
   "language": "python",
   "name": "python3"
  },
  "language_info": {
   "codemirror_mode": {
    "name": "ipython",
    "version": 3
   },
   "file_extension": ".py",
   "mimetype": "text/x-python",
   "name": "python",
   "nbconvert_exporter": "python",
   "pygments_lexer": "ipython3",
   "version": "3.8.5"
  }
 },
 "nbformat": 4,
 "nbformat_minor": 4
}
