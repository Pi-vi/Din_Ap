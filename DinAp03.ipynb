{
 "cells": [
  {
   "cell_type": "markdown",
   "metadata": {
    "slideshow": {
     "slide_type": "slide"
    }
   },
   "source": [
    "# Restrições Cinemáticas\n",
    "Professor Paulo Victor <br>\n",
    "E-mail: paulo.gomes@cefet-rj.br <br>\n",
    "CEFET-RJ Campus Angra dos Reis Sala 6E\n"
   ]
  },
  {
   "cell_type": "markdown",
   "metadata": {
    "slideshow": {
     "slide_type": "fragment"
    }
   },
   "source": [
    "Um sistema mecânico é frequentemente restringido no modo em que ele pode se mover ou em que ele é configurado. <br>\n"
   ]
  },
  {
   "cell_type": "markdown",
   "metadata": {
    "slideshow": {
     "slide_type": "slide"
    }
   },
   "source": [
    "## Restrições de Configuração"
   ]
  },
  {
   "cell_type": "markdown",
   "metadata": {
    "slideshow": {
     "slide_type": "subslide"
    }
   },
   "source": [
    "A configuração de um conjunto $S$ de $\\nu$ partículas $P_1,...,P_{\\nu}$ em um sistema de referência $A$ é conhecida quando se conhece o vetor posição de cada partícula em relação a um ponto fixo em $A$. <br>\n",
    "Se o movimento de $S$ é afetado pela presença de corpos que entram em contato com uma ou mais $P_1,...,P_{\\nu}$, restrições são impostas nas posições que as partículas afetadas podem ocupar, e $S$ é dito estar sujeito uma restrição de configuração. <br>\n",
    "Se $\\boldsymbol{p}_i$ é o vetor posição de $P_i$ em relação ao ponto $O$, fixo em $A$, então a equação de restrição holonômica pode ser expressa como:\n",
    "$$g(\\boldsymbol{p}_1,\\boldsymbol{p}_2,...,\\boldsymbol{p}_{\\nu},t) = 0 $$"
   ]
  },
  {
   "cell_type": "markdown",
   "metadata": {
    "slideshow": {
     "slide_type": "subslide"
    }
   },
   "source": [
    "De modo alternativo, se $\\hat{\\boldsymbol{a}}_x,\\hat{\\boldsymbol{a}}_y,\\hat{\\boldsymbol{a}}_z$ são vetores de uma base ortonormal fixa em $A$, então $x_i$, $y_i$, $z_i$ são chamadas *Coordenadas Cartesianas* de $P_i$ em $A$:\n",
    "$$ x_i = \\boldsymbol{p}_i \\cdot \\hat{\\boldsymbol{a}}_x \\quad y_i = \\boldsymbol{p}_i \\cdot \\hat{\\boldsymbol{a}}_y \\quad z_i = \\boldsymbol{p}_i \\cdot \\hat{\\boldsymbol{a}}_z \\quad (i=1,..., \\nu)$$\n",
    "A equação de restrição holonômica pode ser escrita então da seguinte forma:\n",
    "$$f(x_1,y_1,z_1,...,x_{\\nu},y_{\\nu},z_{\\nu},t) = 0$$"
   ]
  },
  {
   "cell_type": "markdown",
   "metadata": {
    "slideshow": {
     "slide_type": "subslide"
    }
   },
   "source": [
    "**Exemplo 1:** <br>\n",
    "Na figura a seguir são mostrados dois pequenos blocos $P_1$ e $P_2$ conectador por uma barra fina $R$ de comprimento $L$, e restringidos de modo a permanecer entre dois planos paralelos de vidro que são fixados um ao outro, formando um corpo rígido $B$. Os blocos $P_1$ e $P_2$ são tratados como um conjunto de duas partículas, e $\\boldsymbol{p}_1$ e $\\boldsymbol{p}_2$ representam seus vetores posição em relação ao ponto $O$. Obtenha as equações de restrição na forma escalar. "
   ]
  },
  {
   "cell_type": "markdown",
   "metadata": {
    "slideshow": {
     "slide_type": "subslide"
    }
   },
   "source": [
    "![Exemplo 1](cap3-1.png)"
   ]
  },
  {
   "cell_type": "code",
   "execution_count": 1,
   "metadata": {
    "slideshow": {
     "slide_type": "subslide"
    }
   },
   "outputs": [],
   "source": [
    "import sympy as sy\n",
    "import sympy.physics.mechanics as me"
   ]
  },
  {
   "cell_type": "code",
   "execution_count": 2,
   "metadata": {
    "slideshow": {
     "slide_type": "fragment"
    }
   },
   "outputs": [],
   "source": [
    "x1,y1,z1 = me.dynamicsymbols('x1 y1 z1')\n",
    "x2,y2,z2 = me.dynamicsymbols('x2 y2 z2')\n",
    "omega,L = sy.symbols('omega L')\n",
    "t = me.dynamicsymbols._t"
   ]
  },
  {
   "cell_type": "code",
   "execution_count": 3,
   "metadata": {
    "slideshow": {
     "slide_type": "fragment"
    }
   },
   "outputs": [
    {
     "data": {
      "text/latex": [
       "$\\displaystyle \\omega\\mathbf{\\hat{a}_y}$"
      ],
      "text/plain": [
       "omega*A.y"
      ]
     },
     "execution_count": 3,
     "metadata": {},
     "output_type": "execute_result"
    }
   ],
   "source": [
    "A = me.ReferenceFrame('A')\n",
    "B = me.ReferenceFrame('B')\n",
    "B.orient(A,'Axis',[omega*t,A.y])\n",
    "B.ang_vel_in(A)"
   ]
  },
  {
   "cell_type": "code",
   "execution_count": 4,
   "metadata": {
    "slideshow": {
     "slide_type": "fragment"
    }
   },
   "outputs": [
    {
     "data": {
      "text/latex": [
       "$\\displaystyle 0$"
      ],
      "text/plain": [
       "0"
      ]
     },
     "execution_count": 4,
     "metadata": {},
     "output_type": "execute_result"
    }
   ],
   "source": [
    "B.ang_acc_in(A)"
   ]
  },
  {
   "cell_type": "code",
   "execution_count": 5,
   "metadata": {
    "slideshow": {
     "slide_type": "subslide"
    }
   },
   "outputs": [
    {
     "data": {
      "text/latex": [
       "$\\displaystyle x_{1}\\mathbf{\\hat{a}_x} + y_{1}\\mathbf{\\hat{a}_y} + z_{1}\\mathbf{\\hat{a}_z}$"
      ],
      "text/plain": [
       "x1*A.x + y1*A.y + z1*A.z"
      ]
     },
     "execution_count": 5,
     "metadata": {},
     "output_type": "execute_result"
    }
   ],
   "source": [
    "p1 = x1*A.x + y1*A.y + z1*A.z\n",
    "p1"
   ]
  },
  {
   "cell_type": "code",
   "execution_count": 6,
   "metadata": {
    "slideshow": {
     "slide_type": "fragment"
    }
   },
   "outputs": [
    {
     "data": {
      "text/latex": [
       "$\\displaystyle x_{2}\\mathbf{\\hat{a}_x} + y_{2}\\mathbf{\\hat{a}_y} + z_{2}\\mathbf{\\hat{a}_z}$"
      ],
      "text/plain": [
       "x2*A.x + y2*A.y + z2*A.z"
      ]
     },
     "execution_count": 6,
     "metadata": {},
     "output_type": "execute_result"
    }
   ],
   "source": [
    "p2 = x2*A.x + y2*A.y + z2*A.z\n",
    "p2"
   ]
  },
  {
   "cell_type": "markdown",
   "metadata": {
    "slideshow": {
     "slide_type": "subslide"
    }
   },
   "source": [
    "Como $P_1$ e $P_2$ pertencem ao plano formado pelo corpo $B$:\n",
    "$$\\boldsymbol{p}_i \\cdot \\hat{\\boldsymbol{b}}_z = 0 \\qquad i=1,2$$\n",
    "Além disso, $P_1$ e $P_2$ estarem conectados por uma barra de comprimento $L$ constitui mais uma restrição de configuração:\n",
    "$$(\\boldsymbol{p}_1 - \\boldsymbol{p}_2) \\cdot (\\boldsymbol{p}_1 - \\boldsymbol{p}_2) - L^2 = 0$$"
   ]
  },
  {
   "cell_type": "markdown",
   "metadata": {
    "slideshow": {
     "slide_type": "subslide"
    }
   },
   "source": [
    "![Exemplo 1 - vetores](cap3-2.png)"
   ]
  },
  {
   "cell_type": "code",
   "execution_count": 7,
   "metadata": {
    "slideshow": {
     "slide_type": "subslide"
    }
   },
   "outputs": [
    {
     "data": {
      "text/latex": [
       "$\\displaystyle \\operatorname{x_{1}}{\\left(t \\right)} \\sin{\\left(\\omega t \\right)} + \\operatorname{z_{1}}{\\left(t \\right)} \\cos{\\left(\\omega t \\right)} = 0$"
      ],
      "text/plain": [
       "Eq(x1(t)*sin(omega*t) + z1(t)*cos(omega*t), 0)"
      ]
     },
     "execution_count": 7,
     "metadata": {},
     "output_type": "execute_result"
    }
   ],
   "source": [
    "Eq1 = sy.Eq(p1.dot(B.z),0)\n",
    "Eq1"
   ]
  },
  {
   "cell_type": "code",
   "execution_count": 8,
   "metadata": {
    "slideshow": {
     "slide_type": "fragment"
    }
   },
   "outputs": [
    {
     "data": {
      "text/latex": [
       "$\\displaystyle \\operatorname{x_{2}}{\\left(t \\right)} \\sin{\\left(\\omega t \\right)} + \\operatorname{z_{2}}{\\left(t \\right)} \\cos{\\left(\\omega t \\right)} = 0$"
      ],
      "text/plain": [
       "Eq(x2(t)*sin(omega*t) + z2(t)*cos(omega*t), 0)"
      ]
     },
     "execution_count": 8,
     "metadata": {},
     "output_type": "execute_result"
    }
   ],
   "source": [
    "Eq2 = sy.Eq(p2.dot(B.z),0)\n",
    "Eq2"
   ]
  },
  {
   "cell_type": "markdown",
   "metadata": {
    "slideshow": {
     "slide_type": "fragment"
    }
   },
   "source": [
    "As 2 equações a cima são equações de restrição reonômicas"
   ]
  },
  {
   "cell_type": "code",
   "execution_count": 9,
   "metadata": {
    "slideshow": {
     "slide_type": "fragment"
    }
   },
   "outputs": [
    {
     "data": {
      "text/latex": [
       "$\\displaystyle - L^{2} + \\left(\\operatorname{x_{1}}{\\left(t \\right)} - \\operatorname{x_{2}}{\\left(t \\right)}\\right)^{2} + \\left(\\operatorname{y_{1}}{\\left(t \\right)} - \\operatorname{y_{2}}{\\left(t \\right)}\\right)^{2} + \\left(\\operatorname{z_{1}}{\\left(t \\right)} - \\operatorname{z_{2}}{\\left(t \\right)}\\right)^{2} = 0$"
      ],
      "text/plain": [
       "Eq(-L**2 + (x1(t) - x2(t))**2 + (y1(t) - y2(t))**2 + (z1(t) - z2(t))**2, 0)"
      ]
     },
     "execution_count": 9,
     "metadata": {},
     "output_type": "execute_result"
    }
   ],
   "source": [
    "Eq3 = sy.Eq((p1-p2).dot(p1-p2) - L**2,0)\n",
    "Eq3"
   ]
  },
  {
   "cell_type": "markdown",
   "metadata": {
    "slideshow": {
     "slide_type": "fragment"
    }
   },
   "source": [
    "A equação acima é uma equação de restrição escleronômica\n",
    "* Observa-se que este sistema mecânico possui 3 equações de restrição"
   ]
  },
  {
   "cell_type": "markdown",
   "metadata": {
    "slideshow": {
     "slide_type": "slide"
    }
   },
   "source": [
    "## Coordenadas Generalizadas"
   ]
  },
  {
   "cell_type": "markdown",
   "metadata": {
    "slideshow": {
     "slide_type": "subslide"
    }
   },
   "source": [
    "Quando um conjunto de $S$ partículas $P_1$,...,$P_{\\nu}$ está sujeita a restrições de movimento representadas por $M$ equações de restrição holonômicas, então $n$  das $3\\nu$ coordenadas cartesianas $x_i,y_i,z_i$ $(i=1,...,\\nu)$ de $S$ em $A$ serão independentes em relação às outras. Onde $n=3\\nu - M$. <br>\n",
    "Sob essas circunstâncias, podemos expressar cada um dos $x_i,y_i,z_i$ $(i=1,...,\\nu)$ como uma função simples do tempo $t$ e como $n$ funções de $t$: $q_1(t),...,q_n(t)$ de modo que cada equação de restrição é igualmente satisfeita para todos os valores de $t$ e $q_1,...,q_n$ em um dado domínio.\n",
    "* As quantidades $q_1,...,q_n$ são chamadas coordenadas generalizadas de $S$ em $A$. "
   ]
  },
  {
   "cell_type": "markdown",
   "metadata": {
    "slideshow": {
     "slide_type": "subslide"
    }
   },
   "source": [
    "Voltando ao **Exemplo 1:** <br>\n",
    "Para o conjunto de $S$ partículas: $\\nu = 2$ e $M = 3$, então $n=3$:"
   ]
  },
  {
   "cell_type": "markdown",
   "metadata": {
    "slideshow": {
     "slide_type": "subslide"
    }
   },
   "source": [
    "![Exemplo 1 Continuação](cap3-3.png)"
   ]
  },
  {
   "cell_type": "code",
   "execution_count": 10,
   "metadata": {
    "slideshow": {
     "slide_type": "subslide"
    }
   },
   "outputs": [],
   "source": [
    "q1,q2,q3 = me.dynamicsymbols('q1 q2 q3')"
   ]
  },
  {
   "cell_type": "code",
   "execution_count": 11,
   "metadata": {
    "slideshow": {
     "slide_type": "fragment"
    }
   },
   "outputs": [
    {
     "data": {
      "text/latex": [
       "$\\displaystyle q_{1}\\mathbf{\\hat{b}_x} + q_{2}\\mathbf{\\hat{b}_y}$"
      ],
      "text/plain": [
       "q1*B.x + q2*B.y"
      ]
     },
     "execution_count": 11,
     "metadata": {},
     "output_type": "execute_result"
    }
   ],
   "source": [
    "p1_qs = q1*B.x + q2*B.y\n",
    "p1_qs"
   ]
  },
  {
   "cell_type": "code",
   "execution_count": 12,
   "metadata": {
    "slideshow": {
     "slide_type": "fragment"
    }
   },
   "outputs": [
    {
     "data": {
      "text/latex": [
       "$\\displaystyle q_{1} \\operatorname{cos}\\left(\\omega t\\right)\\mathbf{\\hat{a}_x} + q_{2}\\mathbf{\\hat{a}_y} -  q_{1} \\operatorname{sin}\\left(\\omega t\\right)\\mathbf{\\hat{a}_z}$"
      ],
      "text/plain": [
       "q1*cos(omega*t)*A.x + q2*A.y - q1*sin(omega*t)*A.z"
      ]
     },
     "execution_count": 12,
     "metadata": {},
     "output_type": "execute_result"
    }
   ],
   "source": [
    "p1_qs.express(A)"
   ]
  },
  {
   "cell_type": "code",
   "execution_count": 13,
   "metadata": {
    "slideshow": {
     "slide_type": "fragment"
    }
   },
   "outputs": [
    {
     "data": {
      "text/latex": [
       "$\\displaystyle x_{1}\\mathbf{\\hat{a}_x} + y_{1}\\mathbf{\\hat{a}_y} + z_{1}\\mathbf{\\hat{a}_z}$"
      ],
      "text/plain": [
       "x1*A.x + y1*A.y + z1*A.z"
      ]
     },
     "execution_count": 13,
     "metadata": {},
     "output_type": "execute_result"
    }
   ],
   "source": [
    "p1.express(A)"
   ]
  },
  {
   "cell_type": "code",
   "execution_count": 14,
   "metadata": {
    "slideshow": {
     "slide_type": "subslide"
    }
   },
   "outputs": [],
   "source": [
    "x1_q = q1*sy.cos(omega*t)\n",
    "y1_q = q2\n",
    "z1_q = -q1*sy.sin(omega*t)"
   ]
  },
  {
   "cell_type": "code",
   "execution_count": 15,
   "metadata": {
    "slideshow": {
     "slide_type": "fragment"
    }
   },
   "outputs": [],
   "source": [
    "C = me.ReferenceFrame('C')\n",
    "C.orient(B,'Axis',[q3,B.z])"
   ]
  },
  {
   "cell_type": "code",
   "execution_count": 16,
   "metadata": {
    "slideshow": {
     "slide_type": "fragment"
    }
   },
   "outputs": [
    {
     "data": {
      "text/latex": [
       "$\\displaystyle q_{1}\\mathbf{\\hat{b}_x} + q_{2}\\mathbf{\\hat{b}_y} + L\\mathbf{\\hat{c}_x}$"
      ],
      "text/plain": [
       "q1*B.x + q2*B.y + L*C.x"
      ]
     },
     "execution_count": 16,
     "metadata": {},
     "output_type": "execute_result"
    }
   ],
   "source": [
    "p2_qs = p1_qs + L*C.x\n",
    "p2_qs"
   ]
  },
  {
   "cell_type": "code",
   "execution_count": 17,
   "metadata": {
    "slideshow": {
     "slide_type": "fragment"
    }
   },
   "outputs": [
    {
     "data": {
      "text/latex": [
       "$\\displaystyle (L \\operatorname{cos}\\left(\\omega t\\right) \\operatorname{cos}\\left(q_{3}\\right) + q_{1} \\operatorname{cos}\\left(\\omega t\\right))\\mathbf{\\hat{a}_x} + (L \\operatorname{sin}\\left(q_{3}\\right) + q_{2})\\mathbf{\\hat{a}_y} + (- L \\operatorname{sin}\\left(\\omega t\\right) \\operatorname{cos}\\left(q_{3}\\right) - q_{1} \\operatorname{sin}\\left(\\omega t\\right))\\mathbf{\\hat{a}_z}$"
      ],
      "text/plain": [
       "(L*cos(omega*t)*cos(q3) + q1*cos(omega*t))*A.x + (L*sin(q3) + q2)*A.y + (-L*sin(omega*t)*cos(q3) - q1*sin(omega*t))*A.z"
      ]
     },
     "execution_count": 17,
     "metadata": {},
     "output_type": "execute_result"
    }
   ],
   "source": [
    "p2_qs.express(A)"
   ]
  },
  {
   "cell_type": "code",
   "execution_count": 18,
   "metadata": {
    "slideshow": {
     "slide_type": "fragment"
    }
   },
   "outputs": [
    {
     "data": {
      "text/latex": [
       "$\\displaystyle \\left(L \\operatorname{cos}\\left(q_{3}\\right) + q_{1}\\right) \\operatorname{cos}\\left(\\omega t\\right)\\mathbf{\\hat{a}_x} + (L \\operatorname{sin}\\left(q_{3}\\right) + q_{2})\\mathbf{\\hat{a}_y} -  \\left(L \\operatorname{cos}\\left(q_{3}\\right) + q_{1}\\right) \\operatorname{sin}\\left(\\omega t\\right)\\mathbf{\\hat{a}_z}$"
      ],
      "text/plain": [
       "(L*cos(q3) + q1)*cos(omega*t)*A.x + (L*sin(q3) + q2)*A.y - (L*cos(q3) + q1)*sin(omega*t)*A.z"
      ]
     },
     "execution_count": 18,
     "metadata": {},
     "output_type": "execute_result"
    }
   ],
   "source": [
    "p2_qs.express(A).simplify()"
   ]
  },
  {
   "cell_type": "code",
   "execution_count": 19,
   "metadata": {
    "slideshow": {
     "slide_type": "fragment"
    }
   },
   "outputs": [
    {
     "data": {
      "text/latex": [
       "$\\displaystyle x_{2}\\mathbf{\\hat{a}_x} + y_{2}\\mathbf{\\hat{a}_y} + z_{2}\\mathbf{\\hat{a}_z}$"
      ],
      "text/plain": [
       "x2*A.x + y2*A.y + z2*A.z"
      ]
     },
     "execution_count": 19,
     "metadata": {},
     "output_type": "execute_result"
    }
   ],
   "source": [
    "p2.express(A)"
   ]
  },
  {
   "cell_type": "code",
   "execution_count": 20,
   "metadata": {
    "slideshow": {
     "slide_type": "fragment"
    }
   },
   "outputs": [
    {
     "name": "stdout",
     "output_type": "stream",
     "text": [
      "(L*cos(q3) + q1)*cos(omega*t)*A.x + (L*sin(q3) + q2)*A.y - (L*cos(q3) + q1)*sin(omega*t)*A.z\n"
     ]
    }
   ],
   "source": [
    "me.mprint(p2_qs.express(A).simplify())"
   ]
  },
  {
   "cell_type": "code",
   "execution_count": 21,
   "metadata": {
    "slideshow": {
     "slide_type": "subslide"
    }
   },
   "outputs": [],
   "source": [
    "x2_q = (L*sy.cos(q3) + q1)*sy.cos(omega*t)\n",
    "y2_q = (L*sy.sin(q3) + q2)\n",
    "z2_q = - (L*sy.cos(q3) + q1)*sy.sin(omega*t)"
   ]
  },
  {
   "cell_type": "code",
   "execution_count": 22,
   "metadata": {
    "slideshow": {
     "slide_type": "subslide"
    }
   },
   "outputs": [],
   "source": [
    "dic = {x1:x1_q,y1:y1_q,z1:z1_q,x2:x2_q,y2:y2_q,z2:z2_q}"
   ]
  },
  {
   "cell_type": "code",
   "execution_count": 23,
   "metadata": {
    "slideshow": {
     "slide_type": "fragment"
    }
   },
   "outputs": [
    {
     "data": {
      "text/latex": [
       "$\\displaystyle \\text{True}$"
      ],
      "text/plain": [
       "True"
      ]
     },
     "execution_count": 23,
     "metadata": {},
     "output_type": "execute_result"
    }
   ],
   "source": [
    "Eq1.subs(dic)"
   ]
  },
  {
   "cell_type": "code",
   "execution_count": 24,
   "metadata": {
    "slideshow": {
     "slide_type": "fragment"
    }
   },
   "outputs": [
    {
     "data": {
      "text/latex": [
       "$\\displaystyle \\text{True}$"
      ],
      "text/plain": [
       "True"
      ]
     },
     "execution_count": 24,
     "metadata": {},
     "output_type": "execute_result"
    }
   ],
   "source": [
    "Eq2.subs(dic).simplify()"
   ]
  },
  {
   "cell_type": "code",
   "execution_count": 25,
   "metadata": {
    "slideshow": {
     "slide_type": "fragment"
    }
   },
   "outputs": [
    {
     "data": {
      "text/latex": [
       "$\\displaystyle \\text{True}$"
      ],
      "text/plain": [
       "True"
      ]
     },
     "execution_count": 25,
     "metadata": {},
     "output_type": "execute_result"
    }
   ],
   "source": [
    "Eq3.subs(dic).simplify()"
   ]
  },
  {
   "cell_type": "markdown",
   "metadata": {
    "slideshow": {
     "slide_type": "fragment"
    }
   },
   "source": [
    "* Poderíamos ter feito outras escolhas de coordenadas generalizadas.\n",
    "    * Por exemplo, $q_3$ ao invés de ser uma ângulo, poderia ter sido escolhido como a distância de $P_2$ a $O$ ao longo do eixo $Y$. "
   ]
  },
  {
   "cell_type": "markdown",
   "metadata": {
    "slideshow": {
     "slide_type": "slide"
    }
   },
   "source": [
    "## Número de Coordenadas Generalizadas"
   ]
  },
  {
   "cell_type": "markdown",
   "metadata": {
    "slideshow": {
     "slide_type": "fragment"
    }
   },
   "source": [
    "O número $n$ de coordenadas generalizadas de um conjunto $S$ de $\\nu$ partículas em um sistema de referência $A$ é o menor número de quantidades escalares tal que toda atribuição de valores destas quantidades e do tempo $t$ corresponderá a uma configuração admissível de $S$ em $A$. <br>\n",
    "Frequentemente, pode-se encontrar $n$ por inspeção (analisando o problema), ao invés de ser obtido através da determinação do número $M$ de equações de restrição holonômicas."
   ]
  },
  {
   "cell_type": "markdown",
   "metadata": {},
   "source": [
    "## Variáveis de Movimento"
   ]
  },
  {
   "cell_type": "markdown",
   "metadata": {},
   "source": [
    "Expressões para as velocidades angulares de corpos rígidos e as velocidades de pontos em uma sistema $S$, nas quais a configuração em um sistema de referência $A$ é caracterizado por $n$ coordenadas generalizadas $q_1,...,q_n$, podem ser escritas de uma forma particularmente vantajosa através da introdução de $n$ quantidades $u_1,...,u_n$, chamadas de variáveis de movimento de $S$ em $A$.\n",
    "$$ u_r = \\sum^{n}_{s=1} Y_{rs} \\dot{q}_s + Z_r \\qquad (r=1,...,n)$$\n",
    "Onde $Y_{rs}$ e $Z_{r}$ são funções de $q_1,...,q_n$ e o tempo $t$.\n",
    "Essa equação é chamada de **Equação Diferencial de Movimento** de $S$ em $A$. <br>\n",
    "* Estas funções devem ser escolhidas de modo a serem unicamente resolvidas para $\\dot{q}_1,...,\\dot{q}_n$."
   ]
  },
  {
   "cell_type": "markdown",
   "metadata": {},
   "source": [
    "**Exemplo 2** <br>\n",
    "Voltando ao sistema do **Exemplo 1**, queremos agora obter ~a~ *uma* Equação Diferencial de Movimento para este exemplo:"
   ]
  },
  {
   "cell_type": "markdown",
   "metadata": {},
   "source": [
    "![Exemplo 1 Continuação](cap3-3.png)"
   ]
  },
  {
   "cell_type": "code",
   "execution_count": 26,
   "metadata": {},
   "outputs": [
    {
     "data": {
      "text/latex": [
       "$\\displaystyle x_{1}\\mathbf{\\hat{a}_x} + y_{1}\\mathbf{\\hat{a}_y} + z_{1}\\mathbf{\\hat{a}_z}$"
      ],
      "text/plain": [
       "x1*A.x + y1*A.y + z1*A.z"
      ]
     },
     "execution_count": 26,
     "metadata": {},
     "output_type": "execute_result"
    }
   ],
   "source": [
    "p1"
   ]
  },
  {
   "cell_type": "code",
   "execution_count": 27,
   "metadata": {},
   "outputs": [
    {
     "data": {
      "text/latex": [
       "$\\displaystyle x_{2}\\mathbf{\\hat{a}_x} + y_{2}\\mathbf{\\hat{a}_y} + z_{2}\\mathbf{\\hat{a}_z}$"
      ],
      "text/plain": [
       "x2*A.x + y2*A.y + z2*A.z"
      ]
     },
     "execution_count": 27,
     "metadata": {},
     "output_type": "execute_result"
    }
   ],
   "source": [
    "p2"
   ]
  },
  {
   "cell_type": "code",
   "execution_count": 28,
   "metadata": {},
   "outputs": [
    {
     "data": {
      "text/latex": [
       "$\\displaystyle q_{1} \\operatorname{cos}\\left(\\omega t\\right)\\mathbf{\\hat{a}_x} + q_{2}\\mathbf{\\hat{a}_y} -  q_{1} \\operatorname{sin}\\left(\\omega t\\right)\\mathbf{\\hat{a}_z}$"
      ],
      "text/plain": [
       "q1*cos(omega*t)*A.x + q2*A.y - q1*sin(omega*t)*A.z"
      ]
     },
     "execution_count": 28,
     "metadata": {},
     "output_type": "execute_result"
    }
   ],
   "source": [
    "p1_qs.express(A)"
   ]
  },
  {
   "cell_type": "code",
   "execution_count": 29,
   "metadata": {},
   "outputs": [
    {
     "data": {
      "text/latex": [
       "$\\displaystyle (L \\operatorname{cos}\\left(\\omega t\\right) \\operatorname{cos}\\left(q_{3}\\right) + q_{1} \\operatorname{cos}\\left(\\omega t\\right))\\mathbf{\\hat{a}_x} + (L \\operatorname{sin}\\left(q_{3}\\right) + q_{2})\\mathbf{\\hat{a}_y} + (- L \\operatorname{sin}\\left(\\omega t\\right) \\operatorname{cos}\\left(q_{3}\\right) - q_{1} \\operatorname{sin}\\left(\\omega t\\right))\\mathbf{\\hat{a}_z}$"
      ],
      "text/plain": [
       "(L*cos(omega*t)*cos(q3) + q1*cos(omega*t))*A.x + (L*sin(q3) + q2)*A.y + (-L*sin(omega*t)*cos(q3) - q1*sin(omega*t))*A.z"
      ]
     },
     "execution_count": 29,
     "metadata": {},
     "output_type": "execute_result"
    }
   ],
   "source": [
    "p2_qs.express(A)"
   ]
  },
  {
   "cell_type": "markdown",
   "metadata": {},
   "source": [
    "Vamos investigar a velocidade dos pontos $P_1$ e $P_2$ em relação a $A$:"
   ]
  },
  {
   "cell_type": "code",
   "execution_count": 30,
   "metadata": {},
   "outputs": [
    {
     "data": {
      "text/latex": [
       "$\\displaystyle (- \\omega q_{1} \\operatorname{sin}\\left(\\omega t\\right) + \\operatorname{cos}\\left(\\omega t\\right) \\dot{q}_{1})\\mathbf{\\hat{a}_x} + \\dot{q}_{2}\\mathbf{\\hat{a}_y} + (- \\omega q_{1} \\operatorname{cos}\\left(\\omega t\\right) - \\operatorname{sin}\\left(\\omega t\\right) \\dot{q}_{1})\\mathbf{\\hat{a}_z}$"
      ],
      "text/plain": [
       "(-omega*q1*sin(omega*t) + cos(omega*t)*q1')*A.x + q2'*A.y + (-omega*q1*cos(omega*t) - sin(omega*t)*q1')*A.z"
      ]
     },
     "execution_count": 30,
     "metadata": {},
     "output_type": "execute_result"
    }
   ],
   "source": [
    "vp1_A = p1_qs.dt(A)\n",
    "vp1_A.express(A)"
   ]
  },
  {
   "cell_type": "code",
   "execution_count": 31,
   "metadata": {},
   "outputs": [
    {
     "data": {
      "text/latex": [
       "$\\displaystyle (- L \\omega \\operatorname{sin}\\left(\\omega t\\right) \\operatorname{cos}\\left(q_{3}\\right) - L \\operatorname{sin}\\left(q_{3}\\right) \\operatorname{cos}\\left(\\omega t\\right) \\dot{q}_{3} - \\omega q_{1} \\operatorname{sin}\\left(\\omega t\\right) + \\operatorname{cos}\\left(\\omega t\\right) \\dot{q}_{1})\\mathbf{\\hat{a}_x} + (L \\operatorname{cos}\\left(q_{3}\\right) \\dot{q}_{3} + \\dot{q}_{2})\\mathbf{\\hat{a}_y} + (- L \\omega \\operatorname{cos}\\left(\\omega t\\right) \\operatorname{cos}\\left(q_{3}\\right) + L \\operatorname{sin}\\left(\\omega t\\right) \\operatorname{sin}\\left(q_{3}\\right) \\dot{q}_{3} - \\omega q_{1} \\operatorname{cos}\\left(\\omega t\\right) - \\operatorname{sin}\\left(\\omega t\\right) \\dot{q}_{1})\\mathbf{\\hat{a}_z}$"
      ],
      "text/plain": [
       "(-L*omega*sin(omega*t)*cos(q3) - L*sin(q3)*cos(omega*t)*q3' - omega*q1*sin(omega*t) + cos(omega*t)*q1')*A.x + (L*cos(q3)*q3' + q2')*A.y + (-L*omega*cos(omega*t)*cos(q3) + L*sin(omega*t)*sin(q3)*q3' - omega*q1*cos(omega*t) - sin(omega*t)*q1')*A.z"
      ]
     },
     "execution_count": 31,
     "metadata": {},
     "output_type": "execute_result"
    }
   ],
   "source": [
    "vp2_A = p2_qs.dt(A)\n",
    "vp2_A.express(A)"
   ]
  },
  {
   "cell_type": "markdown",
   "metadata": {},
   "source": [
    "Vamos fazer algumas escolhas para as variáveis de movimento. A primeira será:\n",
    "$$u_1 = \\dot{q}_1 cos \\omega t - \\omega q_1 sen \\omega t \\qquad u_2 = \\dot{q}_2 \\qquad u_3 = \\dot{q}_3 $$"
   ]
  },
  {
   "cell_type": "code",
   "execution_count": 32,
   "metadata": {},
   "outputs": [
    {
     "data": {
      "text/latex": [
       "$\\displaystyle - \\omega \\operatorname{q_{1}}{\\left(t \\right)} \\sin{\\left(\\omega t \\right)} + \\cos{\\left(\\omega t \\right)} \\frac{d}{d t} \\operatorname{q_{1}}{\\left(t \\right)}$"
      ],
      "text/plain": [
       "-omega*q1(t)*sin(omega*t) + cos(omega*t)*Derivative(q1(t), t)"
      ]
     },
     "execution_count": 32,
     "metadata": {},
     "output_type": "execute_result"
    }
   ],
   "source": [
    "u1 = q1.diff()*sy.cos(omega*t) - omega*q1*sy.sin(omega*t)\n",
    "u1"
   ]
  },
  {
   "cell_type": "code",
   "execution_count": 33,
   "metadata": {},
   "outputs": [
    {
     "data": {
      "text/latex": [
       "$\\displaystyle \\frac{d}{d t} \\operatorname{q_{2}}{\\left(t \\right)}$"
      ],
      "text/plain": [
       "Derivative(q2(t), t)"
      ]
     },
     "execution_count": 33,
     "metadata": {},
     "output_type": "execute_result"
    }
   ],
   "source": [
    "u2 = q2.diff()\n",
    "u2"
   ]
  },
  {
   "cell_type": "code",
   "execution_count": 34,
   "metadata": {},
   "outputs": [
    {
     "data": {
      "text/latex": [
       "$\\displaystyle \\frac{d}{d t} \\operatorname{q_{3}}{\\left(t \\right)}$"
      ],
      "text/plain": [
       "Derivative(q3(t), t)"
      ]
     },
     "execution_count": 34,
     "metadata": {},
     "output_type": "execute_result"
    }
   ],
   "source": [
    "u3 = q3.diff()\n",
    "u3"
   ]
  },
  {
   "cell_type": "markdown",
   "metadata": {},
   "source": [
    "Escolhemos então:\n",
    "$$u_1 = \\dot{q}_1 cos \\omega t - \\omega q_1 sen \\omega t \\qquad u_2 = \\dot{q}_2 \\qquad u_3 = \\dot{q}_3 $$\n",
    "Lembrando que:\n",
    "$$ u_r = \\sum^{n}_{s=1} Y_{rs} \\dot{q}_s + Z_r \\qquad (r=1,...,n)$$\n",
    "Teremos que:\n",
    "$$Y_{11} = cos \\omega t \\qquad Y_{12} = Y_{13} = 0 \\qquad Z_{1} = - \\omega q_1 sen \\omega t $$\n",
    "$$Y_{21} = 0 \\qquad Y_{22} = 1 \\qquad Y_{23} = 0 \\qquad Z_{2} = 0 $$\n",
    "$$Y_{31} = 0 \\qquad Y_{32} = 0 \\qquad Y_{33} = 1 \\qquad Z_3 = 0 $$"
   ]
  },
  {
   "cell_type": "code",
   "execution_count": 35,
   "metadata": {},
   "outputs": [
    {
     "data": {
      "text/latex": [
       "$\\displaystyle \\cos{\\left(\\omega t \\right)}$"
      ],
      "text/plain": [
       "cos(omega*t)"
      ]
     },
     "execution_count": 35,
     "metadata": {},
     "output_type": "execute_result"
    }
   ],
   "source": [
    "Y11 = u1.diff(q1.diff())\n",
    "Y11"
   ]
  },
  {
   "cell_type": "code",
   "execution_count": 36,
   "metadata": {},
   "outputs": [
    {
     "data": {
      "text/latex": [
       "$\\displaystyle 0$"
      ],
      "text/plain": [
       "0"
      ]
     },
     "execution_count": 36,
     "metadata": {},
     "output_type": "execute_result"
    }
   ],
   "source": [
    "Y12 = u1.diff(q2.diff())\n",
    "Y13 = u1.diff(q3.diff())\n",
    "Y13"
   ]
  },
  {
   "cell_type": "code",
   "execution_count": 37,
   "metadata": {},
   "outputs": [
    {
     "data": {
      "text/latex": [
       "$\\displaystyle - \\omega \\operatorname{q_{1}}{\\left(t \\right)} \\sin{\\left(\\omega t \\right)}$"
      ],
      "text/plain": [
       "-omega*q1(t)*sin(omega*t)"
      ]
     },
     "execution_count": 37,
     "metadata": {},
     "output_type": "execute_result"
    }
   ],
   "source": [
    "Z1 = u1 - q1.diff()*Y11 - q2.diff()*Y12 - q3.diff()*Y13\n",
    "Z1"
   ]
  },
  {
   "cell_type": "code",
   "execution_count": 38,
   "metadata": {},
   "outputs": [],
   "source": [
    "Y21 = u2.diff(q1.diff())\n",
    "Y22 = u2.diff(q2.diff())\n",
    "Y23 = u2.diff(q3.diff())\n",
    "Z2 = u2 - q1.diff()*Y21 - q2.diff()*Y22 - q3.diff()*Y23"
   ]
  },
  {
   "cell_type": "code",
   "execution_count": 39,
   "metadata": {},
   "outputs": [],
   "source": [
    "Y31 = u3.diff(q1.diff())\n",
    "Y32 = u3.diff(q2.diff())\n",
    "Y33 = u3.diff(q3.diff())\n",
    "Z3 = u3 - q1.diff()*Y31 - q2.diff()*Y32 - q3.diff()*Y33"
   ]
  },
  {
   "cell_type": "markdown",
   "metadata": {},
   "source": [
    "Para a programação é mais interessante definirmos as variáveis de movimente de outra forma:"
   ]
  },
  {
   "cell_type": "code",
   "execution_count": 40,
   "metadata": {},
   "outputs": [],
   "source": [
    "q1d,q2d,q3d = me.dynamicsymbols('q1 q2 q3',1)\n",
    "u1,u2,u3 = me.dynamicsymbols('u1 u2 u3')"
   ]
  },
  {
   "cell_type": "code",
   "execution_count": 41,
   "metadata": {},
   "outputs": [
    {
     "data": {
      "text/plain": [
       "[omega*q1(t)*sin(omega*t) + u1(t) - cos(omega*t)*Derivative(q1(t), t),\n",
       " u2(t) - Derivative(q2(t), t),\n",
       " u3(t) - Derivative(q3(t), t)]"
      ]
     },
     "execution_count": 41,
     "metadata": {},
     "output_type": "execute_result"
    }
   ],
   "source": [
    "kde = [u1-(q1d*sy.cos(omega*t) - omega*q1*sy.sin(omega*t)),u2-q2d,u3-q3d]\n",
    "kde"
   ]
  },
  {
   "cell_type": "markdown",
   "metadata": {},
   "source": [
    "Uma das exigências para a escolha das variáveis de movimento é que elas possuam uma única solução para cada $\\dot{q}_1,...,\\dot{q}_n$"
   ]
  },
  {
   "cell_type": "code",
   "execution_count": 42,
   "metadata": {},
   "outputs": [
    {
     "data": {
      "text/plain": [
       "{Derivative(q1(t), t): (omega*q1(t)*sin(omega*t) + u1(t))/cos(omega*t)}"
      ]
     },
     "execution_count": 42,
     "metadata": {},
     "output_type": "execute_result"
    }
   ],
   "source": [
    "sol1 = sy.solve(kde,q1d)\n",
    "sol1"
   ]
  },
  {
   "cell_type": "code",
   "execution_count": 43,
   "metadata": {},
   "outputs": [
    {
     "data": {
      "text/plain": [
       "1"
      ]
     },
     "execution_count": 43,
     "metadata": {},
     "output_type": "execute_result"
    }
   ],
   "source": [
    "len(sol1)"
   ]
  },
  {
   "cell_type": "code",
   "execution_count": 44,
   "metadata": {},
   "outputs": [
    {
     "data": {
      "text/latex": [
       "$\\displaystyle \\frac{\\omega \\operatorname{q_{1}}{\\left(t \\right)} \\sin{\\left(\\omega t \\right)} + \\operatorname{u_{1}}{\\left(t \\right)}}{\\cos{\\left(\\omega t \\right)}}$"
      ],
      "text/plain": [
       "(omega*q1(t)*sin(omega*t) + u1(t))/cos(omega*t)"
      ]
     },
     "execution_count": 44,
     "metadata": {},
     "output_type": "execute_result"
    }
   ],
   "source": [
    "sol1[q1d]"
   ]
  },
  {
   "cell_type": "code",
   "execution_count": 45,
   "metadata": {},
   "outputs": [
    {
     "data": {
      "text/plain": [
       "{Derivative(q2(t), t): u2(t)}"
      ]
     },
     "execution_count": 45,
     "metadata": {},
     "output_type": "execute_result"
    }
   ],
   "source": [
    "sol2 = sy.solve(kde,q2d)\n",
    "sol2"
   ]
  },
  {
   "cell_type": "code",
   "execution_count": 46,
   "metadata": {},
   "outputs": [
    {
     "data": {
      "text/plain": [
       "1"
      ]
     },
     "execution_count": 46,
     "metadata": {},
     "output_type": "execute_result"
    }
   ],
   "source": [
    "len(sol2)"
   ]
  },
  {
   "cell_type": "code",
   "execution_count": 47,
   "metadata": {},
   "outputs": [
    {
     "data": {
      "text/latex": [
       "$\\displaystyle \\operatorname{u_{2}}{\\left(t \\right)}$"
      ],
      "text/plain": [
       "u2(t)"
      ]
     },
     "execution_count": 47,
     "metadata": {},
     "output_type": "execute_result"
    }
   ],
   "source": [
    "sol2[q2d]"
   ]
  },
  {
   "cell_type": "code",
   "execution_count": 48,
   "metadata": {},
   "outputs": [
    {
     "data": {
      "text/plain": [
       "{Derivative(q3(t), t): u3(t)}"
      ]
     },
     "execution_count": 48,
     "metadata": {},
     "output_type": "execute_result"
    }
   ],
   "source": [
    "sol3 = sy.solve(kde,q3d)\n",
    "sol3"
   ]
  },
  {
   "cell_type": "code",
   "execution_count": 49,
   "metadata": {},
   "outputs": [
    {
     "data": {
      "text/plain": [
       "1"
      ]
     },
     "execution_count": 49,
     "metadata": {},
     "output_type": "execute_result"
    }
   ],
   "source": [
    "len(sol3)"
   ]
  },
  {
   "cell_type": "code",
   "execution_count": 50,
   "metadata": {},
   "outputs": [
    {
     "data": {
      "text/latex": [
       "$\\displaystyle \\operatorname{u_{3}}{\\left(t \\right)}$"
      ],
      "text/plain": [
       "u3(t)"
      ]
     },
     "execution_count": 50,
     "metadata": {},
     "output_type": "execute_result"
    }
   ],
   "source": [
    "sol3[q3d]"
   ]
  },
  {
   "cell_type": "code",
   "execution_count": 51,
   "metadata": {},
   "outputs": [
    {
     "data": {
      "text/plain": [
       "[-5/2 + sqrt(57)/2, -sqrt(57)/2 - 5/2]"
      ]
     },
     "execution_count": 51,
     "metadata": {},
     "output_type": "execute_result"
    }
   ],
   "source": [
    "# Para exemplificar um sistema com mais de uma solução:\n",
    "sol_ex = sy.solve(q1d**2 + 5*q1d - 8, q1d)\n",
    "sol_ex"
   ]
  },
  {
   "cell_type": "code",
   "execution_count": 52,
   "metadata": {},
   "outputs": [
    {
     "data": {
      "text/plain": [
       "2"
      ]
     },
     "execution_count": 52,
     "metadata": {},
     "output_type": "execute_result"
    }
   ],
   "source": [
    "len(sol_ex)"
   ]
  },
  {
   "cell_type": "markdown",
   "metadata": {},
   "source": [
    "Podemos escrever ${}^A \\boldsymbol{v}^{P_1}$ e ${}^A \\boldsymbol{v}^{P_2}$ em função das variáveis de movimento:"
   ]
  },
  {
   "cell_type": "code",
   "execution_count": 53,
   "metadata": {},
   "outputs": [
    {
     "data": {
      "text/plain": [
       "{Derivative(q1(t), t): (omega*q1(t)*sin(omega*t) + u1(t))/cos(omega*t)}"
      ]
     },
     "execution_count": 53,
     "metadata": {},
     "output_type": "execute_result"
    }
   ],
   "source": [
    "sol = sol1\n",
    "sol"
   ]
  },
  {
   "cell_type": "code",
   "execution_count": 54,
   "metadata": {},
   "outputs": [
    {
     "data": {
      "text/plain": [
       "{Derivative(q1(t), t): (omega*q1(t)*sin(omega*t) + u1(t))/cos(omega*t),\n",
       " Derivative(q2(t), t): u2(t)}"
      ]
     },
     "execution_count": 54,
     "metadata": {},
     "output_type": "execute_result"
    }
   ],
   "source": [
    "sol.update(sol2)\n",
    "sol"
   ]
  },
  {
   "cell_type": "code",
   "execution_count": 55,
   "metadata": {},
   "outputs": [
    {
     "data": {
      "text/plain": [
       "{Derivative(q1(t), t): (omega*q1(t)*sin(omega*t) + u1(t))/cos(omega*t),\n",
       " Derivative(q2(t), t): u2(t),\n",
       " Derivative(q3(t), t): u3(t)}"
      ]
     },
     "execution_count": 55,
     "metadata": {},
     "output_type": "execute_result"
    }
   ],
   "source": [
    "sol.update(sol3)\n",
    "sol"
   ]
  },
  {
   "cell_type": "code",
   "execution_count": 56,
   "metadata": {},
   "outputs": [
    {
     "data": {
      "text/latex": [
       "$\\displaystyle u_{1}\\mathbf{\\hat{a}_x} + u_{2}\\mathbf{\\hat{a}_y} + (- \\omega q_{1} \\operatorname{cos}\\left(\\omega t\\right) - \\frac{\\left(\\omega q_{1} \\operatorname{sin}\\left(\\omega t\\right) + u_{1}\\right) \\operatorname{sin}\\left(\\omega t\\right)}{\\operatorname{cos}\\left(\\omega t\\right)})\\mathbf{\\hat{a}_z}$"
      ],
      "text/plain": [
       "u1*A.x + u2*A.y + (-omega*q1*cos(omega*t) - (omega*q1*sin(omega*t) + u1)*sin(omega*t)/cos(omega*t))*A.z"
      ]
     },
     "execution_count": 56,
     "metadata": {},
     "output_type": "execute_result"
    }
   ],
   "source": [
    "vp1_A.subs(sol).express(A)"
   ]
  },
  {
   "cell_type": "code",
   "execution_count": 57,
   "metadata": {},
   "outputs": [
    {
     "data": {
      "text/latex": [
       "$\\displaystyle (- L \\omega \\operatorname{sin}\\left(\\omega t\\right) \\operatorname{cos}\\left(q_{3}\\right) - L u_{3} \\operatorname{sin}\\left(q_{3}\\right) \\operatorname{cos}\\left(\\omega t\\right) + u_{1})\\mathbf{\\hat{a}_x} + (L u_{3} \\operatorname{cos}\\left(q_{3}\\right) + u_{2})\\mathbf{\\hat{a}_y} + (- L \\omega \\operatorname{cos}\\left(\\omega t\\right) \\operatorname{cos}\\left(q_{3}\\right) + L u_{3} \\operatorname{sin}\\left(\\omega t\\right) \\operatorname{sin}\\left(q_{3}\\right) - \\omega q_{1} \\operatorname{cos}\\left(\\omega t\\right) - \\frac{\\left(\\omega q_{1} \\operatorname{sin}\\left(\\omega t\\right) + u_{1}\\right) \\operatorname{sin}\\left(\\omega t\\right)}{\\operatorname{cos}\\left(\\omega t\\right)})\\mathbf{\\hat{a}_z}$"
      ],
      "text/plain": [
       "(-L*omega*sin(omega*t)*cos(q3) - L*u3*sin(q3)*cos(omega*t) + u1)*A.x + (L*u3*cos(q3) + u2)*A.y + (-L*omega*cos(omega*t)*cos(q3) + L*u3*sin(omega*t)*sin(q3) - omega*q1*cos(omega*t) - (omega*q1*sin(omega*t) + u1)*sin(omega*t)/cos(omega*t))*A.z"
      ]
     },
     "execution_count": 57,
     "metadata": {},
     "output_type": "execute_result"
    }
   ],
   "source": [
    "vp2_A.subs(sol).express(A)"
   ]
  },
  {
   "cell_type": "markdown",
   "metadata": {},
   "source": [
    "Observe que nas equações acima a solução tende a infinito quando $cos \\omega t$ tende a zero."
   ]
  },
  {
   "cell_type": "code",
   "execution_count": 58,
   "metadata": {},
   "outputs": [
    {
     "data": {
      "text/latex": [
       "$\\displaystyle u_{1}\\mathbf{\\hat{a}_x} + u_{2}\\mathbf{\\hat{a}_y} + \\tilde{\\infty} \\left(- \\omega q_{1} - u_{1}\\right)\\mathbf{\\hat{a}_z}$"
      ],
      "text/plain": [
       "u1*A.x + u2*A.y + zoo*(-omega*q1 - u1)*A.z"
      ]
     },
     "execution_count": 58,
     "metadata": {},
     "output_type": "execute_result"
    }
   ],
   "source": [
    "(vp1_A.subs(sol).express(A)).subs(omega*t,sy.pi/2)"
   ]
  },
  {
   "cell_type": "markdown",
   "metadata": {},
   "source": [
    "Para resolvermos esse problema, vamos definir as variáveis de movimento da seguinte forma:\n",
    "$$u_1 = \\dot{q}_1 cos q_3 + \\dot{q}_2 sen q_3 $$\n",
    "$$u_2 = - \\dot{q}_1 sen q_3 + \\dot{q}_2 cos q_3$$\n",
    "$$u_3 = \\dot{q}_3$$\n"
   ]
  },
  {
   "cell_type": "code",
   "execution_count": 59,
   "metadata": {},
   "outputs": [],
   "source": [
    "kde = [u1 - q1d*sy.cos(q3) - q2d*sy.sin(q3),u2 + q1d*sy.sin(q3) - q2d*sy.cos(q3),u3 - q3d]"
   ]
  },
  {
   "cell_type": "markdown",
   "metadata": {},
   "source": [
    "$$ \\dot{q}_1 = u_1 cos q_3 - u_2 sen q_3 \\qquad \\dot{q}_2 = u_1 sen q_3 + u_2 cos q_3 \\qquad \\dot{q}_3 = u_3$$"
   ]
  },
  {
   "cell_type": "code",
   "execution_count": 60,
   "metadata": {},
   "outputs": [],
   "source": [
    "dic = {q1d:u1*sy.cos(q3) - u2*sy.sin(q3), q2d:u1*sy.sin(q3) + u2*sy.cos(q3),q3d:u3}"
   ]
  },
  {
   "cell_type": "code",
   "execution_count": 61,
   "metadata": {},
   "outputs": [
    {
     "data": {
      "text/latex": [
       "$\\displaystyle u_{1}\\mathbf{\\hat{a}_x} + u_{2}\\mathbf{\\hat{a}_y} + (- \\omega q_{1} \\operatorname{cos}\\left(\\omega t\\right) - \\frac{\\left(\\omega q_{1} \\operatorname{sin}\\left(\\omega t\\right) + u_{1}\\right) \\operatorname{sin}\\left(\\omega t\\right)}{\\operatorname{cos}\\left(\\omega t\\right)})\\mathbf{\\hat{a}_z}$"
      ],
      "text/plain": [
       "u1*A.x + u2*A.y + (-omega*q1*cos(omega*t) - (omega*q1*sin(omega*t) + u1)*sin(omega*t)/cos(omega*t))*A.z"
      ]
     },
     "execution_count": 61,
     "metadata": {},
     "output_type": "execute_result"
    }
   ],
   "source": [
    "vp1_A.subs(sol).express(A)"
   ]
  },
  {
   "cell_type": "code",
   "execution_count": 62,
   "metadata": {},
   "outputs": [
    {
     "data": {
      "text/latex": [
       "$\\displaystyle (- L \\omega \\operatorname{sin}\\left(\\omega t\\right) \\operatorname{cos}\\left(q_{3}\\right) - L u_{3} \\operatorname{sin}\\left(q_{3}\\right) \\operatorname{cos}\\left(\\omega t\\right) + u_{1})\\mathbf{\\hat{a}_x} + (L u_{3} \\operatorname{cos}\\left(q_{3}\\right) + u_{2})\\mathbf{\\hat{a}_y} + (- L \\omega \\operatorname{cos}\\left(\\omega t\\right) \\operatorname{cos}\\left(q_{3}\\right) + L u_{3} \\operatorname{sin}\\left(\\omega t\\right) \\operatorname{sin}\\left(q_{3}\\right) - \\omega q_{1} \\operatorname{cos}\\left(\\omega t\\right) - \\frac{\\left(\\omega q_{1} \\operatorname{sin}\\left(\\omega t\\right) + u_{1}\\right) \\operatorname{sin}\\left(\\omega t\\right)}{\\operatorname{cos}\\left(\\omega t\\right)})\\mathbf{\\hat{a}_z}$"
      ],
      "text/plain": [
       "(-L*omega*sin(omega*t)*cos(q3) - L*u3*sin(q3)*cos(omega*t) + u1)*A.x + (L*u3*cos(q3) + u2)*A.y + (-L*omega*cos(omega*t)*cos(q3) + L*u3*sin(omega*t)*sin(q3) - omega*q1*cos(omega*t) - (omega*q1*sin(omega*t) + u1)*sin(omega*t)/cos(omega*t))*A.z"
      ]
     },
     "execution_count": 62,
     "metadata": {},
     "output_type": "execute_result"
    }
   ],
   "source": [
    "vp2_A.express(A).subs(sol)"
   ]
  },
  {
   "cell_type": "markdown",
   "metadata": {},
   "source": [
    "Observa-se que $q_3$ está definido entre $0$ e $\\pi/2$."
   ]
  },
  {
   "cell_type": "markdown",
   "metadata": {},
   "source": [
    "Vamos escolher variáveis de movimento mais simples:\n",
    "$$u_1 = \\dot{q}_1$$\n",
    "$$u_2 = \\dot{q}_2$$\n",
    "$$u_3 = \\dot{q}_3$$"
   ]
  },
  {
   "cell_type": "code",
   "execution_count": 63,
   "metadata": {},
   "outputs": [
    {
     "data": {
      "text/latex": [
       "$\\displaystyle (u_{1} \\operatorname{cos}\\left(q_{3}\\right) - u_{2} \\operatorname{sin}\\left(q_{3}\\right))\\mathbf{\\hat{b}_x} + (u_{1} \\operatorname{sin}\\left(q_{3}\\right) + u_{2} \\operatorname{cos}\\left(q_{3}\\right))\\mathbf{\\hat{b}_y} -  \\omega q_{1}\\mathbf{\\hat{b}_z}$"
      ],
      "text/plain": [
       "(u1*cos(q3) - u2*sin(q3))*B.x + (u1*sin(q3) + u2*cos(q3))*B.y - omega*q1*B.z"
      ]
     },
     "execution_count": 63,
     "metadata": {},
     "output_type": "execute_result"
    }
   ],
   "source": [
    "vp1_A.subs(dic)"
   ]
  },
  {
   "cell_type": "code",
   "execution_count": 64,
   "metadata": {},
   "outputs": [],
   "source": [
    "kde = [u1-q1d,u2-q2d,u3-q3d]\n",
    "dic = {q1d:u1,q2d:u2,q3d:u3}"
   ]
  },
  {
   "cell_type": "code",
   "execution_count": 65,
   "metadata": {},
   "outputs": [
    {
     "data": {
      "text/latex": [
       "$\\displaystyle u_{1}\\mathbf{\\hat{b}_x} + u_{2}\\mathbf{\\hat{b}_y} -  \\omega q_{1}\\mathbf{\\hat{b}_z}$"
      ],
      "text/plain": [
       "u1*B.x + u2*B.y - omega*q1*B.z"
      ]
     },
     "execution_count": 65,
     "metadata": {},
     "output_type": "execute_result"
    }
   ],
   "source": [
    "vp1_A.subs(dic)"
   ]
  },
  {
   "cell_type": "code",
   "execution_count": 66,
   "metadata": {},
   "outputs": [
    {
     "data": {
      "text/latex": [
       "$\\displaystyle u_{1}\\mathbf{\\hat{b}_x} + u_{2}\\mathbf{\\hat{b}_y} -  \\omega q_{1}\\mathbf{\\hat{b}_z} + L u_{3}\\mathbf{\\hat{c}_y} -  L \\omega \\operatorname{cos}\\left(q_{3}\\right)\\mathbf{\\hat{c}_z}$"
      ],
      "text/plain": [
       "u1*B.x + u2*B.y - omega*q1*B.z + L*u3*C.y - L*omega*cos(q3)*C.z"
      ]
     },
     "execution_count": 66,
     "metadata": {},
     "output_type": "execute_result"
    }
   ],
   "source": [
    "vp2_A.subs(dic)"
   ]
  },
  {
   "cell_type": "code",
   "execution_count": 67,
   "metadata": {},
   "outputs": [
    {
     "data": {
      "text/latex": [
       "$\\displaystyle (- \\omega q_{1} \\operatorname{sin}\\left(\\omega t\\right) + u_{1} \\operatorname{cos}\\left(\\omega t\\right))\\mathbf{\\hat{a}_x} + u_{2}\\mathbf{\\hat{a}_y} + (- \\omega q_{1} \\operatorname{cos}\\left(\\omega t\\right) - u_{1} \\operatorname{sin}\\left(\\omega t\\right))\\mathbf{\\hat{a}_z}$"
      ],
      "text/plain": [
       "(-omega*q1*sin(omega*t) + u1*cos(omega*t))*A.x + u2*A.y + (-omega*q1*cos(omega*t) - u1*sin(omega*t))*A.z"
      ]
     },
     "execution_count": 67,
     "metadata": {},
     "output_type": "execute_result"
    }
   ],
   "source": [
    "vp1_A.subs(dic).express(A)"
   ]
  },
  {
   "cell_type": "markdown",
   "metadata": {},
   "source": [
    "O objetivo de definir $u_1$, $u_2$ e $u_3$ como vimos anteriormente é que a velocidade de $P_1$ e de $P_2$ em $A$ podem ser escritas de várias maneiras diferentes. <br>\n",
    "Observa-se que também podemos expressar as velocidades angulares em função das variáveis de movimento."
   ]
  },
  {
   "cell_type": "markdown",
   "metadata": {},
   "source": [
    "## Restrições de Movimento"
   ]
  },
  {
   "cell_type": "markdown",
   "metadata": {},
   "source": [
    "Em um sistema mecânico, podem ocorrer restrições em ${}^A\\boldsymbol{v}^{P_1},...,{}^A\\boldsymbol{v}^{P_v}$, velocidades das partículas $P_1,...,P_v$ pertencentes ao sistema $S$. Em geral, estas restrições podem ser escritas como: <br>\n",
    "$$f({}^{A} \\boldsymbol{v}^{P_1},...,{}^{A}\\boldsymbol{v}^{P_v},t) = 0$$"
   ]
  },
  {
   "cell_type": "markdown",
   "metadata": {},
   "source": [
    "Em alguns casos, essas equações não podem ser integradas no tempo, de modo que as equações de restrição só podem ser escritas em função da velocidade. Nestes casos, $S$ é dito sujeito a uma restrição de movimento, e a equação de restrição é chamada de não-holonômica. "
   ]
  },
  {
   "cell_type": "markdown",
   "metadata": {},
   "source": [
    "Como consequência da equação de restrição não-holonômica, as variáveis de movimento $u_1,...,u_n$ de $S$ em $A$ são dependentes uma em relação a outra. <br>\n",
    "Frequentemente, a natureza física das restrições de movimento oriundam em equações que são lineares em ${}^A \\boldsymbol{v}^{P_1},...,{}^{A}\\boldsymbol{v}^{P_v}$. <br>\n",
    "Quando todas as equações de restrição não-holonômicas puderem ser expressas como $m$ equações:\n",
    "$$u_r = \\sum^{p}_{s=1} A_{rs} u_s + B_{r} \\qquad (r=p+1,...,n) \\qquad p = n - m$$\n",
    "Onde $A_{rs}$ e $B_r$ são funções de $q_1,...,q_n$ e o tempo $t$. Neste caso, $S$ é dito como um *sistema não-holonômico simples possuindo p graus de liberdade em $A$*. <br>\n",
    "Variáveis de movimento independentes são chamadas de **velocidades generalizadas**. Deste modo, $u_1,...,u_n$ são velocidades generalizadas de um sistema holonômico $S$ em $A$, enquanto $u_1,...,u_p$ são velocidades generalizadas de um sistemas não-holonômico simples $S$ em $A$. "
   ]
  },
  {
   "cell_type": "markdown",
   "metadata": {},
   "source": [
    "**Exemplo 3:** <br>\n",
    "As partículas $P_1$ e $P_2$ consideradas no Exemplo 1 formam um sistema holonômico possuindo 3 graus de liberdade em $A$. Suponha que $P_2$ é substituido por um pequeno disco $D$ de arestas afiadas, na qual o eixo é normal a haste $R$ e paralelo ao plano na qual $R$ se move.$D$ está em contato as duas placas de vidro nos pontos $D_1$ e $D_2$. <br>\n",
    "A aresta afiada permite $D^*$, o centro de $D$, se mover livremente em $B$ em uma direção paralela a $\\hat{\\boldsymbol{e}}_x$ e, ao mesmo tempo, previne $D^*$ de se mover em uma direção paralela a $\\hat{\\boldsymbol{e}}_y$, onde $\\hat{\\boldsymbol{e}}_x$ e $\\hat{\\boldsymbol{e}}_y$ são vetores unitários nas direções mostradas na figura. "
   ]
  },
  {
   "cell_type": "markdown",
   "metadata": {},
   "source": [
    "![Exemplo 3](cap3-4.png)"
   ]
  },
  {
   "cell_type": "markdown",
   "metadata": {},
   "source": [
    "Podemos escrever a seguinte equação de restrição não-holonômica:\n",
    "$${}^{B}\\boldsymbol{v}^{D^*} \\cdot \\hat{\\boldsymbol{e}}_y = 0$$\n",
    "Podemos escrever essa velocidade da seguinte forma: \n",
    "$${}^{B}\\boldsymbol{v}^{D^*} = {}^{A}\\boldsymbol{v}^{D^*} - {}^{A}\\boldsymbol{v}^{\\bar{B}}$$\n",
    "Onde $\\bar{B}$ é um ponto de $B$ na qual $D^*$ coincide. <br>\n",
    "Logo:\n",
    "$$\\left( {}^{A}\\boldsymbol{v}^{D^*} - {}^{A}\\boldsymbol{v}^{\\bar{B}} \\right) \\cdot \\hat{\\boldsymbol{e}}_y = 0$$\n",
    "A restrição de configuração de $D^*$ pode ser expressa como:\n",
    "$$\\boldsymbol{p} \\cdot \\hat{\\boldsymbol{e}}_z = 0$$\n",
    "Onde $\\boldsymbol{p}$ é o vetor posição de $D^*$ em relação a $O$. Podemos derivar esta expressão em relação a $B$:\n",
    "$${}^{B}\\boldsymbol{v}^{D^*} \\cdot \\hat{\\boldsymbol{e}}_z = \\left( {}^{A}\\boldsymbol{v}^{D^*} - {}^{A}\\boldsymbol{v}^{\\bar{B}} \\right) \\cdot \\hat{\\boldsymbol{e}}_z = 0 $$\n",
    "Esta restrição não é uma restrição não-holonômica, porque é obtida através da diferenciação temporal de uma equação de restrição holonômica. <br>\n",
    "O ponto $\\bar{B}$ se move em um circulo de raio $q_1 + L cos q_3$ e possui a velocidade:\n",
    "$${}^{A}\\boldsymbol{v}^{\\bar{B}} = - \\omega (q_1 + L cos q_3) \\hat{\\boldsymbol{e}}_z $$"
   ]
  },
  {
   "cell_type": "markdown",
   "metadata": {},
   "source": [
    "Temos que:\n",
    "$${}^{A}\\boldsymbol{v}^{D^*} = \\left( \\dot{q}_1 cos q_3 + \\dot{q}_2 sen q_3 \\right) \\hat{\\boldsymbol{e}}_x + \\left( - \\dot{q}_1 sen q_3 + \\dot{q}_2 cos q_3 + L \\dot{q}_3 \\right) \\hat{\\boldsymbol{e}}_y - \\omega(q_1 + L cos q_3) \\hat{\\boldsymbol{e}}_z$$\n",
    "Utilizando a segunda equação desse exemplo:\n",
    "$${}^{B}\\boldsymbol{v}^{D^*} = (\\dot{q}_1 cos q_3 + \\dot{q}_2 sen q_3 ) \\hat{\\boldsymbol{e}}_x + (- \\dot{q}_1 sen q_3 + \\dot{q}_2 cos q_3 + L \\dot{q}_3) \\hat{\\boldsymbol{e}}_y $$\n",
    "<br>\n",
    "Deste modo, obtemos a equação de restrição de movimento: <br>\n",
    "$$- \\dot{q}_1 sen q_3 + \\dot{q}_2 cos q_3 + L \\dot{q}_3 = 0$$\n",
    "Utilizando:\n",
    "$$u_1 = \\dot{q}_1 cos \\omega t - \\omega q_1 sen \\omega t \\qquad u_2 = \\dot{q}_2 \\qquad u_3 = \\dot{q}_3$$"
   ]
  },
  {
   "cell_type": "markdown",
   "metadata": {},
   "source": [
    "Substituindo as variáveis de movimento na equação de restrição de movimento: <br>\n",
    "$$u_3 = \\dfrac{1}{L} [ (u_1 sec \\omega t + \\omega q_1 tan \\omega t) sen q_3 - u_2 cos q_3] $$"
   ]
  },
  {
   "cell_type": "markdown",
   "metadata": {},
   "source": [
    "**As velocidades generalizadas do sistema são $u_1$ e $u_2$.** <br>\n",
    "Se utilizarmos:\n",
    "$$u_1 = \\dot{q}_1 \\qquad u_2 = \\dot{q}_2 \\qquad u_3 = \\dot{q}_3 $$\n",
    "Obtemos:\n",
    "$$u_3 = \\dfrac{1}{L}(u_1 sen q_3 - u_2 cos q_3)$$"
   ]
  },
  {
   "cell_type": "markdown",
   "metadata": {},
   "source": [
    "## Velocidades Angulares Parciais e Velocidades Parciais"
   ]
  },
  {
   "cell_type": "markdown",
   "metadata": {},
   "source": [
    "Se $q_1,...,q_n$ e $u_1,...,u_n$ são, respectivamente, coordenadas generalizadas e variáveis de movimento para um sistema simples não-holonômico $S$ possuindo $p$ graus de liberdade em um sistema de referência $A$. Então, $\\boldsymbol{\\omega}$, a velocidade angular em $A$ de um corpo rígido $B$ pertencente a $S$, e $\\boldsymbol{v}$, a velocidade em $A$ de uma partícula $P$ pertencente a $S$, podem ser expressas unicamente como:\n",
    "$$ \\boldsymbol{\\omega} = \\sum^{n}_{r=1} \\boldsymbol{\\omega}_r u_r + \\boldsymbol{\\omega}_t$$\n",
    "$$ \\boldsymbol{v} = \\sum^{n}_{r=1} \\boldsymbol{v}_r u_r + \\boldsymbol{v}_t $$\n",
    "Onde $\\boldsymbol{\\omega}_r$, $\\boldsymbol{v}_r$ $(r = 1,...,n)$, $\\boldsymbol{\\omega}_t$, e $\\boldsymbol{v}_t$ são funções de $q_1,...,q_n$ e do tempo $t$. O vetor $\\boldsymbol{\\omega}_r$ é chamado de *r-ésima velocidade angular parcial holonômica de B em A*, e $\\boldsymbol{v}_r$ é referido como a *r-ésima velocidade parcial holonômica de P em A*. <br>\n",
    "Os vetores $\\boldsymbol{\\omega}$ e $\\boldsymbol{v}$ podem ser expressos unicamente como:\n",
    "$$ \\boldsymbol{\\omega} = \\sum^{n}_{r=1} \\tilde{\\boldsymbol{\\omega}}_r u_r + \\tilde{\\boldsymbol{\\omega}}_t$$\n",
    "$$ \\boldsymbol{v} = \\sum^{n}_{r=1} \\tilde{\\boldsymbol{v}}_r u_r + \\tilde{\\boldsymbol{v}}_t $$\n",
    "Onde $\\tilde{\\boldsymbol{\\omega}}_r$, $\\tilde{\\boldsymbol{v}}_r$ $(r = 1,...,n)$, $\\tilde{\\boldsymbol{\\omega}}_t$, e $\\tilde{\\boldsymbol{v}}_t$ são funções de $q_1,...,q_n$ e do tempo $t$. O vetor $\\tilde{\\boldsymbol{\\omega}}_r$ é chamado de *r-ésima velocidade angular parcial não-holonômica de B em A*, e $\\tilde{\\boldsymbol{v}}_r$ é referido como a *r-ésima velocidade parcial não-holonômica de P em A*."
   ]
  },
  {
   "cell_type": "markdown",
   "metadata": {},
   "source": [
    " [Voltar para o capítulo anterior](DinAp02.ipynb)     $\\qquad$   [Avançar para o próximo capítulo](DinAp04.ipynb)"
   ]
  }
 ],
 "metadata": {
  "kernelspec": {
   "display_name": "Python 3",
   "language": "python",
   "name": "python3"
  },
  "language_info": {
   "codemirror_mode": {
    "name": "ipython",
    "version": 3
   },
   "file_extension": ".py",
   "mimetype": "text/x-python",
   "name": "python",
   "nbconvert_exporter": "python",
   "pygments_lexer": "ipython3",
   "version": "3.8.10"
  }
 },
 "nbformat": 4,
 "nbformat_minor": 4
}
