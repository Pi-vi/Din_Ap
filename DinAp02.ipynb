{
 "cells": [
  {
   "cell_type": "markdown",
   "metadata": {
    "slideshow": {
     "slide_type": "slide"
    }
   },
   "source": [
    "# Cinemática\n",
    "Professor Paulo Victor <br>\n",
    "E-mail: paulo.gomes@cefet-rj.br <br>\n",
    "CEFET-RJ Campus Angra dos Reis Sala 6E"
   ]
  },
  {
   "cell_type": "markdown",
   "metadata": {
    "slideshow": {
     "slide_type": "subslide"
    }
   },
   "source": [
    "O estudo da cinemática possui um papel central na Dinâmica. De fato, a eficácia em formular  as equações de movimento depende primariamente da habilidade de se construir corretamente expressões matemáticas para as quantidades cinemáticas como, por exemplo, velocidades angulares de corpos rígidos, velocidades de pontos e etc."
   ]
  },
  {
   "cell_type": "markdown",
   "metadata": {
    "slideshow": {
     "slide_type": "slide"
    }
   },
   "source": [
    "## Velocidade Angular\n",
    "\n",
    "Seja $\\hat{\\textbf{b}}_1$, $\\hat{\\textbf{b}}_2$, $\\hat{\\textbf{b}}_3$ vetores que compõem uma base ortonormal fixa em um corpo rígido $B$, que se move no sistema de referência $A$. A velocidade angular de $B$ em relação a $A$, denotada por ${}^{A}\\boldsymbol{\\omega}^{B}$, é definida como:\n",
    "\n",
    "$${}^{A}\\boldsymbol{\\omega}^{B} = \\hat{\\textbf{b}}_1 \\dfrac{{}^{A} d \\hat{\\textbf{b}}_2}{dt} \\cdot \\hat{\\textbf{b}}_3 + \\hat{\\textbf{b}}_2 \\dfrac{{}^{A} d \\hat{\\textbf{b}}_3}{dt} \\cdot \\hat{\\textbf{b}}_1 + \\hat{\\textbf{b}}_3 \\dfrac{{}^{A} d \\hat{\\textbf{b}}_1}{dt} \\cdot \\hat{\\textbf{b}}_2$$\n",
    "\n",
    "O uso de vetores de velocidade angular facilita muito a tarefa de derivar temporalmente vetores fixos em um corpo rígido: \n",
    "\n",
    "$$\\dfrac{{}^{A} d \\boldsymbol{\\beta}}{dt} = {}^{A}\\boldsymbol{\\omega}^{B} \\times \\boldsymbol{\\beta}$$\n",
    "\n",
    "**Exemplo**: \n",
    "\n",
    "Obtenha a velocidade e a aceleração do ponto $P$ em relação ao ponto $O$. \n",
    "\n",
    "![Exemplo 1](Cin01.png)"
   ]
  },
  {
   "cell_type": "code",
   "execution_count": 1,
   "metadata": {
    "slideshow": {
     "slide_type": "subslide"
    }
   },
   "outputs": [],
   "source": [
    "import sympy as sy\n",
    "import sympy.physics.mechanics as me"
   ]
  },
  {
   "cell_type": "code",
   "execution_count": 2,
   "metadata": {
    "slideshow": {
     "slide_type": "fragment"
    }
   },
   "outputs": [],
   "source": [
    "theta = me.dynamicsymbols('theta')\n",
    "L1,L3 = sy.symbols('L1 L3')"
   ]
  },
  {
   "cell_type": "code",
   "execution_count": 3,
   "metadata": {
    "slideshow": {
     "slide_type": "fragment"
    }
   },
   "outputs": [],
   "source": [
    "A = me.ReferenceFrame('A',indices=('1','2','3'))\n",
    "B = me.ReferenceFrame('B',indices=('1','2','3'))\n",
    "B.orient(A, 'Axis',[theta,A.z])"
   ]
  },
  {
   "cell_type": "code",
   "execution_count": 4,
   "metadata": {
    "slideshow": {
     "slide_type": "fragment"
    }
   },
   "outputs": [
    {
     "data": {
      "text/latex": [
       "$\\displaystyle \\left[\\begin{matrix}\\cos{\\left(\\theta{\\left(t \\right)} \\right)} & - \\sin{\\left(\\theta{\\left(t \\right)} \\right)} & 0\\\\\\sin{\\left(\\theta{\\left(t \\right)} \\right)} & \\cos{\\left(\\theta{\\left(t \\right)} \\right)} & 0\\\\0 & 0 & 1\\end{matrix}\\right]$"
      ],
      "text/plain": [
       "Matrix([\n",
       "[cos(theta(t)), -sin(theta(t)), 0],\n",
       "[sin(theta(t)),  cos(theta(t)), 0],\n",
       "[            0,              0, 1]])"
      ]
     },
     "execution_count": 4,
     "metadata": {},
     "output_type": "execute_result"
    }
   ],
   "source": [
    "A.dcm(B)"
   ]
  },
  {
   "cell_type": "code",
   "execution_count": 5,
   "metadata": {
    "slideshow": {
     "slide_type": "fragment"
    }
   },
   "outputs": [
    {
     "data": {
      "text/latex": [
       "$\\displaystyle \\dot{\\theta}\\mathbf{\\hat{a}_{3}}$"
      ],
      "text/plain": [
       "theta'*A['3']"
      ]
     },
     "execution_count": 5,
     "metadata": {},
     "output_type": "execute_result"
    }
   ],
   "source": [
    "B.ang_vel_in(A)"
   ]
  },
  {
   "cell_type": "code",
   "execution_count": 6,
   "metadata": {
    "slideshow": {
     "slide_type": "fragment"
    }
   },
   "outputs": [
    {
     "data": {
      "text/latex": [
       "$\\displaystyle L_{1}\\mathbf{\\hat{b}_{1}} + L_{3}\\mathbf{\\hat{b}_{3}}$"
      ],
      "text/plain": [
       "L1*B['1'] + L3*B['3']"
      ]
     },
     "execution_count": 6,
     "metadata": {},
     "output_type": "execute_result"
    }
   ],
   "source": [
    "rOP = L1*B.x + L3*B.z\n",
    "rOP"
   ]
  },
  {
   "cell_type": "code",
   "execution_count": 7,
   "metadata": {
    "slideshow": {
     "slide_type": "fragment"
    }
   },
   "outputs": [],
   "source": [
    "P = me.Point('P')\n",
    "P.set_vel(A,0)"
   ]
  },
  {
   "cell_type": "code",
   "execution_count": 8,
   "metadata": {
    "slideshow": {
     "slide_type": "fragment"
    }
   },
   "outputs": [],
   "source": [
    "O = me.Point('O')\n",
    "O.set_pos(P,rOP)\n",
    "O.set_vel(A,rOP.dt(A))"
   ]
  },
  {
   "cell_type": "code",
   "execution_count": 9,
   "metadata": {
    "slideshow": {
     "slide_type": "fragment"
    }
   },
   "outputs": [
    {
     "data": {
      "text/latex": [
       "$\\displaystyle L_{1} \\dot{\\theta}\\mathbf{\\hat{b}_{2}}$"
      ],
      "text/plain": [
       "L1*theta'*B['2']"
      ]
     },
     "execution_count": 9,
     "metadata": {},
     "output_type": "execute_result"
    }
   ],
   "source": [
    "O.vel(A)"
   ]
  },
  {
   "cell_type": "code",
   "execution_count": 10,
   "metadata": {
    "scrolled": true,
    "slideshow": {
     "slide_type": "fragment"
    }
   },
   "outputs": [
    {
     "data": {
      "text/latex": [
       "$\\displaystyle -  L_{1} \\dot{\\theta}^{2}\\mathbf{\\hat{b}_{1}} + L_{1} \\ddot{\\theta}\\mathbf{\\hat{b}_{2}}$"
      ],
      "text/plain": [
       "- L1*theta'**2*B['1'] + L1*theta''*B['2']"
      ]
     },
     "execution_count": 10,
     "metadata": {},
     "output_type": "execute_result"
    }
   ],
   "source": [
    "O.acc(A)"
   ]
  },
  {
   "cell_type": "code",
   "execution_count": 11,
   "metadata": {},
   "outputs": [
    {
     "data": {
      "text/latex": [
       "$\\displaystyle -  L_{1} \\dot{\\theta}\\mathbf{\\hat{b}_{2}}$"
      ],
      "text/plain": [
       "- L1*theta'*B['2']"
      ]
     },
     "execution_count": 11,
     "metadata": {},
     "output_type": "execute_result"
    }
   ],
   "source": [
    "vP_O = (P.pos_from(O)).dt(A)\n",
    "vP_O"
   ]
  },
  {
   "cell_type": "code",
   "execution_count": 12,
   "metadata": {},
   "outputs": [
    {
     "data": {
      "text/latex": [
       "$\\displaystyle L_{1} \\dot{\\theta}^{2}\\mathbf{\\hat{b}_{1}} -  L_{1} \\ddot{\\theta}\\mathbf{\\hat{b}_{2}}$"
      ],
      "text/plain": [
       "L1*theta'**2*B['1'] - L1*theta''*B['2']"
      ]
     },
     "execution_count": 12,
     "metadata": {},
     "output_type": "execute_result"
    }
   ],
   "source": [
    "aP_O = vP_O.dt(A)\n",
    "aP_O"
   ]
  },
  {
   "cell_type": "markdown",
   "metadata": {
    "slideshow": {
     "slide_type": "slide"
    }
   },
   "source": [
    "### Velocidade Angular Simples\n",
    "\n",
    "Quando um corpo rígido $B$ se move em um sistema de referência $A$ de modo que existe durante todo o intervalo de tempo de análise um vetor unitário $\\hat{\\mathbf{k}}$ na qual a orientação tanto em $A$ quanto em $B$ é independente do tempo $t$, é dito que $B$ possui uma *velocidade angular simples* em $A$ durante este intervalo de tempo. Esta velocidade angular pode ser expressa como:\n",
    "\n",
    "$${}^{A}\\boldsymbol{\\omega}^{B} = \\omega \\hat{\\mathbf{k}} $$\n",
    "\n",
    "Em que $\\omega$ é definido como:\n",
    "$$\\omega = \\dot{\\theta}$$\n",
    "\n",
    "**Exemplo:**\n",
    "![Giroscópio](giro01.png)"
   ]
  },
  {
   "cell_type": "code",
   "execution_count": 13,
   "metadata": {
    "slideshow": {
     "slide_type": "subslide"
    }
   },
   "outputs": [],
   "source": [
    "q1,q2,q3 = me.dynamicsymbols('q1 q2 q3')\n",
    "\n",
    "A = me.ReferenceFrame('A',indices=('1','2','3'))\n",
    "B = me.ReferenceFrame('B',indices=('1','2','3'))\n",
    "C = me.ReferenceFrame('C',indices=('1','2','3'))\n",
    "D = me.ReferenceFrame('D',indices=('1','2','3'))\n",
    "\n",
    "C.orient(B,'Axis',[q1,B.x])\n",
    "B.orient(A,'Axis',[q2,A.y])\n",
    "A.orient(D,'Axis',[q3,D.z])"
   ]
  },
  {
   "cell_type": "markdown",
   "metadata": {
    "slideshow": {
     "slide_type": "fragment"
    }
   },
   "source": [
    "$${}^{D}\\boldsymbol{\\omega}^{A}$$"
   ]
  },
  {
   "cell_type": "code",
   "execution_count": 14,
   "metadata": {
    "slideshow": {
     "slide_type": "fragment"
    }
   },
   "outputs": [
    {
     "data": {
      "text/latex": [
       "$\\displaystyle \\dot{q}_{3}\\mathbf{\\hat{d}_{3}}$"
      ],
      "text/plain": [
       "q3'*D['3']"
      ]
     },
     "execution_count": 14,
     "metadata": {},
     "output_type": "execute_result"
    }
   ],
   "source": [
    "A.ang_vel_in(D)"
   ]
  },
  {
   "cell_type": "markdown",
   "metadata": {
    "slideshow": {
     "slide_type": "fragment"
    }
   },
   "source": [
    "$${}^{A}\\boldsymbol{\\omega}^{B}$$"
   ]
  },
  {
   "cell_type": "code",
   "execution_count": 15,
   "metadata": {
    "slideshow": {
     "slide_type": "fragment"
    }
   },
   "outputs": [
    {
     "data": {
      "text/latex": [
       "$\\displaystyle \\dot{q}_{2}\\mathbf{\\hat{a}_{2}}$"
      ],
      "text/plain": [
       "q2'*A['2']"
      ]
     },
     "execution_count": 15,
     "metadata": {},
     "output_type": "execute_result"
    }
   ],
   "source": [
    "B.ang_vel_in(A)"
   ]
  },
  {
   "cell_type": "markdown",
   "metadata": {
    "slideshow": {
     "slide_type": "fragment"
    }
   },
   "source": [
    "$${}^{B}\\boldsymbol{\\omega}^{C}$$"
   ]
  },
  {
   "cell_type": "code",
   "execution_count": 16,
   "metadata": {
    "slideshow": {
     "slide_type": "fragment"
    }
   },
   "outputs": [
    {
     "data": {
      "text/latex": [
       "$\\displaystyle \\dot{q}_{1}\\mathbf{\\hat{b}_{1}}$"
      ],
      "text/plain": [
       "q1'*B['1']"
      ]
     },
     "execution_count": 16,
     "metadata": {},
     "output_type": "execute_result"
    }
   ],
   "source": [
    "C.ang_vel_in(B)"
   ]
  },
  {
   "cell_type": "markdown",
   "metadata": {
    "slideshow": {
     "slide_type": "fragment"
    }
   },
   "source": [
    "$${}^{D}\\boldsymbol{\\omega}^{C}$$"
   ]
  },
  {
   "cell_type": "code",
   "execution_count": 17,
   "metadata": {
    "slideshow": {
     "slide_type": "fragment"
    }
   },
   "outputs": [
    {
     "data": {
      "text/latex": [
       "$\\displaystyle \\dot{q}_{1}\\mathbf{\\hat{b}_{1}} + \\dot{q}_{2}\\mathbf{\\hat{a}_{2}} + \\dot{q}_{3}\\mathbf{\\hat{d}_{3}}$"
      ],
      "text/plain": [
       "q2'*A['2'] + q1'*B['1'] + q3'*D['3']"
      ]
     },
     "execution_count": 17,
     "metadata": {},
     "output_type": "execute_result"
    }
   ],
   "source": [
    "C.ang_vel_in(D)"
   ]
  },
  {
   "cell_type": "markdown",
   "metadata": {
    "slideshow": {
     "slide_type": "slide"
    }
   },
   "source": [
    "## Diferenciação em Dois Sistemas de Referência\n",
    "\n",
    "Se $A$ e $B$ são quaisquer dois sistemas de referência, a primeira derivada temporal de qualquer vetor $\\mathbf{v}$ em $A$ e em $B$ relacionam-se da seguinte forma:\n",
    "$$\\dfrac{{}^A d \\mathbf{v}}{dt} = \\dfrac{{}^B d \\mathbf{v}}{dt} + {}^A \\boldsymbol{\\omega}^{B} \\times \\mathbf{v} $$\n",
    "\n",
    "**Exemplo:**\n",
    "![Exemplo 2](Cin02.svg)"
   ]
  },
  {
   "cell_type": "code",
   "execution_count": 18,
   "metadata": {
    "slideshow": {
     "slide_type": "subslide"
    }
   },
   "outputs": [],
   "source": [
    "A = me.ReferenceFrame('A',indices=('1','2','3'))\n",
    "B = me.ReferenceFrame('B',indices = ('1','2','3'))\n",
    "B.orient(A,'Axis',[theta,A.z])\n",
    "\n",
    "R = me.dynamicsymbols('R')"
   ]
  },
  {
   "cell_type": "code",
   "execution_count": 19,
   "metadata": {
    "slideshow": {
     "slide_type": "fragment"
    }
   },
   "outputs": [
    {
     "data": {
      "text/latex": [
       "$\\displaystyle R\\mathbf{\\hat{b}_{1}}$"
      ],
      "text/plain": [
       "R*B['1']"
      ]
     },
     "execution_count": 19,
     "metadata": {},
     "output_type": "execute_result"
    }
   ],
   "source": [
    "rPO = R*B.x\n",
    "rPO"
   ]
  },
  {
   "cell_type": "markdown",
   "metadata": {
    "slideshow": {
     "slide_type": "fragment"
    }
   },
   "source": [
    "$$ \\dfrac{{}^A d \\mathbf{r}^{P/O}}{dt} =  \\dfrac{{}^B d \\mathbf{r}^{P/O}}{dt} + {}^A \\boldsymbol{\\omega}^{B} \\times \\mathbf{r}^{P/O} $$"
   ]
  },
  {
   "cell_type": "code",
   "execution_count": 20,
   "metadata": {
    "slideshow": {
     "slide_type": "fragment"
    }
   },
   "outputs": [
    {
     "data": {
      "text/latex": [
       "$\\displaystyle \\dot{R}\\mathbf{\\hat{b}_{1}}$"
      ],
      "text/plain": [
       "R'*B['1']"
      ]
     },
     "execution_count": 20,
     "metadata": {},
     "output_type": "execute_result"
    }
   ],
   "source": [
    "rPO.dt(B)"
   ]
  },
  {
   "cell_type": "code",
   "execution_count": 21,
   "metadata": {
    "slideshow": {
     "slide_type": "fragment"
    }
   },
   "outputs": [
    {
     "data": {
      "text/latex": [
       "$\\displaystyle R \\dot{\\theta}\\mathbf{\\hat{b}_{2}}$"
      ],
      "text/plain": [
       "R*theta'*B['2']"
      ]
     },
     "execution_count": 21,
     "metadata": {},
     "output_type": "execute_result"
    }
   ],
   "source": [
    "B.ang_vel_in(A).cross(rPO)"
   ]
  },
  {
   "cell_type": "code",
   "execution_count": 22,
   "metadata": {
    "slideshow": {
     "slide_type": "fragment"
    }
   },
   "outputs": [
    {
     "data": {
      "text/latex": [
       "$\\displaystyle \\dot{R}\\mathbf{\\hat{b}_{1}} + R \\dot{\\theta}\\mathbf{\\hat{b}_{2}}$"
      ],
      "text/plain": [
       "R'*B['1'] + R*theta'*B['2']"
      ]
     },
     "execution_count": 22,
     "metadata": {},
     "output_type": "execute_result"
    }
   ],
   "source": [
    "rPO.dt(A)"
   ]
  },
  {
   "cell_type": "markdown",
   "metadata": {
    "slideshow": {
     "slide_type": "slide"
    }
   },
   "source": [
    "## Sistemas de Referência Auxiliares\n",
    "\n",
    "A velocidade angular de um corpo rígido $B$ em um sistema de referência A pode ser expressa envolvendo $n$ sistemas de referência auxiliares $A_1,...,A_n$: \n",
    "$${}^{A} \\boldsymbol{\\omega}^{B} = {}^{A}\\boldsymbol{\\omega}^{A_1} + {}^{A_1}\\boldsymbol{\\omega}^{A_2} + ... + {}^{A_{n-1}}\\boldsymbol{\\omega}^{A_n} + {}^{A_n}\\boldsymbol{\\omega}^{B} $$\n",
    "\n",
    "Essa relação é útil quando cada um desses termos representa uma velocidade angular simples.\n",
    "\n",
    "Os sistemas de referência $A_1,...,A_n$ podem ou não corresponder a corpos rígidos reais. Frequentemente, esses sistemas de referência não possuem uma contrapartida real, servindo apenas de auxílio na análise. "
   ]
  },
  {
   "cell_type": "markdown",
   "metadata": {
    "slideshow": {
     "slide_type": "slide"
    }
   },
   "source": [
    "## Aceleração Angular\n",
    "\n",
    "A *aceleração angular* ${}^A \\boldsymbol{\\alpha}^{B}$ de um corpo rígido $B$ em um sistema de referência $A$ é definida como a primeira derivada temporal em $A$ da velocidade angular de $B$ em $A$.\n",
    "\n",
    "$${}^{A} \\boldsymbol{\\alpha} ^{B} = \\dfrac{{}^A d {}^A \\boldsymbol{\\omega}^B}{dt} $$\n",
    "\n",
    "Se a velocidade angular de $B$ em $A$ puder ser expressa como ${}^A \\boldsymbol{\\omega}^B = \\omega \\hat{\\mathbf{k}}_{\\omega}$, onde $\\hat{\\mathbf{k}}_{\\omega}$ é um vetor unitário paralelo a ${}^A \\boldsymbol{\\omega}^B $, temos que a aceleração angular de $B$ em $A$ pode ser expressa de modo similar como: \n",
    "\n",
    "$$ {}^{A} \\boldsymbol{\\alpha}^{B} = \\alpha \\hat{\\mathbf{k}}_{\\omega} $$\n",
    "\n",
    "Onde $\\alpha$ é uma aceleração angular escalar dada por:\n",
    "\n",
    "$$\\alpha = \\dfrac{d \\omega}{dt} $$\n",
    "\n",
    "**Exemplo:**\n",
    "![Exemplo 2](Cin02.svg)"
   ]
  },
  {
   "cell_type": "code",
   "execution_count": 23,
   "metadata": {
    "slideshow": {
     "slide_type": "subslide"
    }
   },
   "outputs": [
    {
     "data": {
      "text/latex": [
       "$\\displaystyle \\dot{\\theta}\\mathbf{\\hat{a}_{3}}$"
      ],
      "text/plain": [
       "theta'*A['3']"
      ]
     },
     "execution_count": 23,
     "metadata": {},
     "output_type": "execute_result"
    }
   ],
   "source": [
    "B.ang_vel_in(A)"
   ]
  },
  {
   "cell_type": "code",
   "execution_count": 24,
   "metadata": {
    "slideshow": {
     "slide_type": "fragment"
    }
   },
   "outputs": [
    {
     "data": {
      "text/latex": [
       "$\\displaystyle \\ddot{\\theta}\\mathbf{\\hat{a}_{3}}$"
      ],
      "text/plain": [
       "theta''*A['3']"
      ]
     },
     "execution_count": 24,
     "metadata": {},
     "output_type": "execute_result"
    }
   ],
   "source": [
    "B.ang_acc_in(A)"
   ]
  },
  {
   "cell_type": "markdown",
   "metadata": {
    "slideshow": {
     "slide_type": "slide"
    }
   },
   "source": [
    "## Velocidade e Aceleração \n",
    "\n",
    "A solução para quase todo problema de dinâmica requer a formulação de expressões para a velocidade e aceleração de pontos do sistema em análise. \n",
    "\n",
    "Seja $\\mathbf{p}$ um vetor posição de um ponto $P$ em relação a um ponto $O$ fixo no sistema de referência A. A velocidade e a aceleração de $P$ em $A$ são definidas como:\n",
    "\n",
    "$${}^{A}\\mathbf{v}^{P} = \\dfrac{{}^{A}d \\mathbf{p}}{dt} $$\n",
    "\n",
    "$${}^{A}\\mathbf{a}^{P} = \\dfrac{{}^{A} d {}^{A} \\mathbf{v}^{P}}{dt} $$\n",
    "\n",
    "**Exemplo:** \n",
    "Na figura a seguir, $P_1$ e $P_2$ designam dois pontos conectador por uma linha de comprimento $L$ que é livre para mover no plano $B$ que está girando com uma velocidade constante $\\omega$ em relação a linha $Y$ fixa tanto em $B$ quanto no sistema de referência $A$. Obtenha as velocidades ${}^A \\mathbf{v}^{P_1}$ e ${}^A \\mathbf{v}^{P_2}$ de $P_1$ e $P_2$ em $A$ em termos de $ q_1$, $q_2$, $q_3$, $\\dot{q}_1$, $\\dot{q}_2$, $\\dot{q}_3$, $\\hat{\\mathbf{e}}_x$, $\\hat{\\mathbf{e}}_y$, $\\hat{\\mathbf{e}}_z$. \n",
    "\n",
    "![Exemplo 3](cin03.png)"
   ]
  },
  {
   "cell_type": "code",
   "execution_count": 25,
   "metadata": {
    "slideshow": {
     "slide_type": "subslide"
    }
   },
   "outputs": [],
   "source": [
    "q1,q2,q3,theta = me.dynamicsymbols('q1 q2 q3 theta')\n",
    "L,omega = sy.symbols('L omega')\n",
    "t = me.dynamicsymbols._t\n",
    "\n",
    "A = me.ReferenceFrame('A')\n",
    "B = me.ReferenceFrame('B')\n",
    "E = me.ReferenceFrame('E')\n",
    "B.orient(A,'Axis',[omega*t,A.y])"
   ]
  },
  {
   "cell_type": "code",
   "execution_count": 26,
   "metadata": {
    "slideshow": {
     "slide_type": "fragment"
    }
   },
   "outputs": [
    {
     "data": {
      "text/latex": [
       "$\\displaystyle \\omega\\mathbf{\\hat{a}_y}$"
      ],
      "text/plain": [
       "omega*A.y"
      ]
     },
     "execution_count": 26,
     "metadata": {},
     "output_type": "execute_result"
    }
   ],
   "source": [
    "B.ang_vel_in(A)"
   ]
  },
  {
   "cell_type": "code",
   "execution_count": 27,
   "metadata": {
    "slideshow": {
     "slide_type": "fragment"
    }
   },
   "outputs": [
    {
     "data": {
      "text/latex": [
       "$\\displaystyle 0$"
      ],
      "text/plain": [
       "0"
      ]
     },
     "execution_count": 27,
     "metadata": {},
     "output_type": "execute_result"
    }
   ],
   "source": [
    "B.ang_acc_in(A)"
   ]
  },
  {
   "cell_type": "code",
   "execution_count": 28,
   "metadata": {
    "slideshow": {
     "slide_type": "fragment"
    }
   },
   "outputs": [],
   "source": [
    "E.orient(B,'Axis',[q3,B.z])"
   ]
  },
  {
   "cell_type": "code",
   "execution_count": 29,
   "metadata": {
    "slideshow": {
     "slide_type": "fragment"
    }
   },
   "outputs": [],
   "source": [
    "O = me.Point('O')\n",
    "O.set_vel(A,0)"
   ]
  },
  {
   "cell_type": "code",
   "execution_count": 30,
   "metadata": {
    "slideshow": {
     "slide_type": "fragment"
    }
   },
   "outputs": [],
   "source": [
    "P1 = me.Point('P1')\n",
    "P1.set_pos(O,q1*B.x + q2*B.y)\n",
    "P1.set_vel(A,(q1*B.x + q2*B.y).dt(A))"
   ]
  },
  {
   "cell_type": "code",
   "execution_count": 31,
   "metadata": {
    "slideshow": {
     "slide_type": "fragment"
    }
   },
   "outputs": [
    {
     "data": {
      "text/latex": [
       "$\\displaystyle \\dot{q}_{1}\\mathbf{\\hat{b}_x} + \\dot{q}_{2}\\mathbf{\\hat{b}_y} -  \\omega q_{1}\\mathbf{\\hat{b}_z}$"
      ],
      "text/plain": [
       "q1'*B.x + q2'*B.y - omega*q1*B.z"
      ]
     },
     "execution_count": 31,
     "metadata": {},
     "output_type": "execute_result"
    }
   ],
   "source": [
    "P1.vel(A)"
   ]
  },
  {
   "cell_type": "code",
   "execution_count": 32,
   "metadata": {
    "slideshow": {
     "slide_type": "fragment"
    }
   },
   "outputs": [],
   "source": [
    "P2 = me.Point('P2')\n",
    "P2.set_pos(P1, L*E.x)\n",
    "P2.set_vel(A, P2.pos_from(O).dt(A))"
   ]
  },
  {
   "cell_type": "code",
   "execution_count": 33,
   "metadata": {
    "slideshow": {
     "slide_type": "fragment"
    }
   },
   "outputs": [
    {
     "data": {
      "text/latex": [
       "$\\displaystyle L\\mathbf{\\hat{e}_x} + q_{1}\\mathbf{\\hat{b}_x} + q_{2}\\mathbf{\\hat{b}_y}$"
      ],
      "text/plain": [
       "q1*B.x + q2*B.y + L*E.x"
      ]
     },
     "execution_count": 33,
     "metadata": {},
     "output_type": "execute_result"
    }
   ],
   "source": [
    "P2.pos_from(O)"
   ]
  },
  {
   "cell_type": "code",
   "execution_count": 34,
   "metadata": {
    "slideshow": {
     "slide_type": "fragment"
    }
   },
   "outputs": [
    {
     "data": {
      "text/latex": [
       "$\\displaystyle L \\dot{q}_{3}\\mathbf{\\hat{e}_y} -  L \\omega \\operatorname{cos}\\left(q_{3}\\right)\\mathbf{\\hat{e}_z} + \\dot{q}_{1}\\mathbf{\\hat{b}_x} + \\dot{q}_{2}\\mathbf{\\hat{b}_y} -  \\omega q_{1}\\mathbf{\\hat{b}_z}$"
      ],
      "text/plain": [
       "q1'*B.x + q2'*B.y - omega*q1*B.z + L*q3'*E.y - L*omega*cos(q3)*E.z"
      ]
     },
     "execution_count": 34,
     "metadata": {},
     "output_type": "execute_result"
    }
   ],
   "source": [
    "P2.vel(A)"
   ]
  },
  {
   "cell_type": "markdown",
   "metadata": {
    "slideshow": {
     "slide_type": "slide"
    }
   },
   "source": [
    "## Dois pontos fixos em um Corpo Rígido\n",
    "\n",
    "Se $P$ e $Q$ são dois pontos fixos em um corpo rígido $B$ que possui uma velocidade angular ${}^{A}\\boldsymbol{\\omega}^{B}$ em $A$, então a velocidade ${}^{A}\\mathbf{v}^{P} $ do ponto $P$ em $A$ e a velocidade ${}^{A} \\mathbf{v}^{Q} $ de $Q$ em $A$ se relacionam da seguinte forma: \n",
    "\n",
    "$$ {}^{A}\\mathbf{v}^{P} =  {}^{A}\\mathbf{v}^{Q} + {}^{A}\\boldsymbol{\\omega}^{B} \\times \\mathbf{r}^{P/Q}$$\n",
    "\n",
    "Onde $\\mathbf{r}^{P/Q}$ é o vetor posição de $Q$ para $P$. A relação entre a aceleração ${}^{A}\\mathbf{a}^{P}$ de $P$ em $A$ e a aceleração ${}^{A}\\mathbf{a}^{Q}$ de $Q$ e o vetor aceleração angular de $B$ em $A$ ${}^{A}\\boldsymbol{\\alpha}^{B}$ de $B$ em $A$ é dada por: \n",
    "$$ {}^{A}\\mathbf{a}^{P} = {}^{A}\\mathbf{a}^{Q} + {}^{A}\\boldsymbol{\\omega}^{B} \\times  ({}^{A}\\boldsymbol{\\omega}^{B} \\times \\mathbf{r}^{P/Q} ) + {}^{A}\\boldsymbol{\\alpha}^{B} \\times \\mathbf{r}^{P/Q}$$"
   ]
  },
  {
   "cell_type": "code",
   "execution_count": 35,
   "metadata": {
    "slideshow": {
     "slide_type": "subslide"
    }
   },
   "outputs": [
    {
     "data": {
      "text/latex": [
       "$\\displaystyle \\dot{q}_{1}\\mathbf{\\hat{b}_x} + \\dot{q}_{2}\\mathbf{\\hat{b}_y} -  \\omega q_{1}\\mathbf{\\hat{b}_z} + L \\dot{q}_{3}\\mathbf{\\hat{e}_y} -  L \\omega \\operatorname{cos}\\left(q_{3}\\right)\\mathbf{\\hat{e}_z}$"
      ],
      "text/plain": [
       "q1'*B.x + q2'*B.y - omega*q1*B.z + L*q3'*E.y - L*omega*cos(q3)*E.z"
      ]
     },
     "execution_count": 35,
     "metadata": {},
     "output_type": "execute_result"
    }
   ],
   "source": [
    "P2 = me.Point('P2') # Do exemplo anterior\n",
    "P2.set_pos(P1, L*E.x)\n",
    "P2.v2pt_theory(P1,A,E)"
   ]
  },
  {
   "cell_type": "markdown",
   "metadata": {},
   "source": [
    " [Voltar para o capítulo anterior](DinAp01.ipynb)     $\\qquad$   [Avançar para o próximo capítulo](DinAp03.ipynb)"
   ]
  }
 ],
 "metadata": {
  "kernelspec": {
   "display_name": "Python 3",
   "language": "python",
   "name": "python3"
  },
  "language_info": {
   "codemirror_mode": {
    "name": "ipython",
    "version": 3
   },
   "file_extension": ".py",
   "mimetype": "text/x-python",
   "name": "python",
   "nbconvert_exporter": "python",
   "pygments_lexer": "ipython3",
   "version": "3.8.10"
  }
 },
 "nbformat": 4,
 "nbformat_minor": 4
}
