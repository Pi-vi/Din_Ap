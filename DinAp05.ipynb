{
 "cells": [
  {
   "cell_type": "markdown",
   "metadata": {
    "slideshow": {
     "slide_type": "slide"
    }
   },
   "source": [
    "# Forças Generalizadas\n",
    "Professor Paulo Victor <br>\n",
    "E-mail: paulo.gomes@cefet-rj.br <br>\n",
    "CEFET-RJ Campus Angra dos Reis Sala 6E"
   ]
  },
  {
   "cell_type": "markdown",
   "metadata": {
    "slideshow": {
     "slide_type": "subslide"
    }
   },
   "source": [
    "A necessidade de se realizar o produto vetorial de um vetor $\\mathbf{v}$ com o vetor posição $\\mathbf{p}^{AB}$ do ponto $A$ para o ponto $B$ surge frequentemente. Observe que, $\\mathbf{p}^{AB} \\times \\mathbf{v}  = \\mathbf{p}^{AC} \\times \\mathbf{v}$ onde $\\mathbf{p}^{AC}$ é o vetor posição de $A$ para qualquer ponto $C$ na linha $L$ que é paralela com $\\mathbf{V}$ e passa por B; e quando $C$ é escolhido de modo adequado, torna-se mais fácil calcular $\\mathbf{p}^{AC} \\times \\mathbf{v}$ a $ \\mathbf{p}^{AB} \\times \\mathbf{v}$. Este fato motiva a introdução de conceitos de vetores vinculados e momentos de tais vetores. "
   ]
  },
  {
   "cell_type": "markdown",
   "metadata": {
    "slideshow": {
     "slide_type": "slide"
    }
   },
   "source": [
    "## Momento em relação a um ponto, vetores vinculados e resultante"
   ]
  },
  {
   "cell_type": "markdown",
   "metadata": {
    "slideshow": {
     "slide_type": "subslide"
    }
   },
   "source": [
    "Das infinitas linhas que são paralelas a todo vetor $\\mathbf{v}$, uma particular, digamos $L$  (chamada de *linha de ação* de $\\mathbf{v}$) deve ser escolhida antes de $\\mathbf{M}$ (o momento de $\\mathbf{v}$ em relação a um ponto $P$) ser calculado, para $\\mathbf{M}$ definido como:\n",
    "$$ \\mathbf{M} = \\mathbf{p} \\times \\mathbf{v}$$\n",
    "onde $\\mathbf{p}$ é o vetor posição do ponto $P$ para qualquer ponto em $L$. Uma vez que $L$ tenha sido especificado, $\\mathbf{v}$ é dito como sendo um vetor vinculado, e é costume representar $\\mathbf{v}$ em $L$ nas representações típicas de $\\mathbf{v}$. Um vetor na qual nenhuma linha de ação é especificada é chamado de *vetor livre*."
   ]
  },
  {
   "cell_type": "markdown",
   "metadata": {
    "slideshow": {
     "slide_type": "subslide"
    }
   },
   "source": [
    "O resultante $\\mathbf{R}$ de um conjunto de vetores $\\mathbf{v}_1,...,\\mathbf{v}_\\nu$ é definido como:\n",
    "$$ \\sum_{i=1}^{\\nu} \\mathbf{v}_i $$\n",
    "\n",
    "E se $\\mathbf{v}_1,...,\\mathbf{v}_\\nu$ são vetores vinculados, a soma de seus momentos em relação ao ponto $P$ é chamada de *momento de S em P*. \n",
    "\n",
    "Algumas vezes é conveniente tratar a resultante $\\mathbf{R}$ de um conjunto $S$ de vetores vinculados como um vetor vinculado. Sumponha, por exemplo, que $\\mathbf{M}^{S/P}$ e $\\mathbf{M}^{S/Q}$ são os momentos de $S$ em relação aos pontos $P$ e $Q$, respectivamente, e $\\mathbf{R}$ é tratado como um vetor vinculado cuja linha de ação para por Q. Então pode-se obter $\\mathbf{M}^{S/P}$ simplesmente adicionando a $\\mathbf{M}^{S/Q}$ o momento de $\\mathbf{R}$ em relação a $P$, como\n",
    "$$\\mathbf{M}^{S/P} = \\mathbf{M}^{S/Q} + \\mathbf{r}^{PQ} \\times \\mathbf{R}$$\n",
    "onde $\\mathbf{r}^{PQ}$ é o vetor posição de $P$ para $Q$."
   ]
  },
  {
   "cell_type": "markdown",
   "metadata": {
    "slideshow": {
     "slide_type": "subslide"
    }
   },
   "source": [
    "### Exemplo 1\n",
    "\n",
    "Considere um conjunto de três partículas $P_1$, $P_2$ e $P$ conforme mostrado na figura a seguir. Considere que $P_1$ e $P_2$ possuem massa $m$ enquanto $P$ possui massa $M$. De acordo com a lei de gravitação universal de Newton, as forças gravitacionais, $\\mathbf{F}_1$ e $\\mathbf{F}_2$, exercidas, respectivamente, em $P_1$ e $P_2$ possuem as linhas de ação conforme mostrado na figura a seguir e são dadas por: \n",
    "$$\\mathbf{F}_1 = \\dfrac{GMm}{64L^2}\\hat{\\mathbf{n}}_1 \\qquad \\mathbf{F}_2 = \\dfrac{GMm}{100L^2}(0.8\\hat{\\mathbf{n}}_1 + 0.6\\hat{\\mathbf{n}}_2)$$\n",
    "\n",
    "Onde $G$ é a constante gravitacional universal, e $\\hat{\\mathbf{n}}_1$ e $\\hat{\\mathbf{n}}_2$ são vetores unitários. Sob essas circunstânceas, existe um ponto $Q$ na linha $P^{\\star}P_1$ onde $P^{\\star}$ é o centro de massa de $P_1$ e $P_2$, tal que $\\mathbf{M}^{Q}$, o momento resultante das forças $\\mathbf{F}_1$ e $\\mathbf{F}_2$ em relação a $Q$ é igual a zero. Localize Q.\n",
    "![](cap5-1-3.png)"
   ]
  },
  {
   "cell_type": "markdown",
   "metadata": {
    "slideshow": {
     "slide_type": "subslide"
    }
   },
   "source": [
    "Sejam $\\mathbf{p}_1$ e $\\mathbf{p}_2$ os vetores posição de $Q$ a $P_1$ e $P_2$ respectivamente."
   ]
  },
  {
   "cell_type": "code",
   "execution_count": 1,
   "metadata": {
    "slideshow": {
     "slide_type": "subslide"
    }
   },
   "outputs": [],
   "source": [
    "import sympy as sy\n",
    "import sympy.physics.mechanics as me"
   ]
  },
  {
   "cell_type": "code",
   "execution_count": 2,
   "metadata": {
    "slideshow": {
     "slide_type": "fragment"
    }
   },
   "outputs": [],
   "source": [
    "G,m,M,L,s = sy.symbols('G m M L s')"
   ]
  },
  {
   "cell_type": "code",
   "execution_count": 3,
   "metadata": {
    "slideshow": {
     "slide_type": "fragment"
    }
   },
   "outputs": [],
   "source": [
    "N = me.ReferenceFrame('N',indices=['1','2','3'])"
   ]
  },
  {
   "cell_type": "code",
   "execution_count": 4,
   "metadata": {
    "slideshow": {
     "slide_type": "fragment"
    }
   },
   "outputs": [
    {
     "data": {
      "text/latex": [
       "$\\displaystyle (3 L - s)\\mathbf{\\hat{n}_{2}}$"
      ],
      "text/plain": [
       "(3*L - s)*N['2']"
      ]
     },
     "execution_count": 4,
     "metadata": {},
     "output_type": "execute_result"
    }
   ],
   "source": [
    "p1 = (3*L - s)*N.y\n",
    "p1"
   ]
  },
  {
   "cell_type": "code",
   "execution_count": 5,
   "metadata": {
    "slideshow": {
     "slide_type": "fragment"
    }
   },
   "outputs": [
    {
     "data": {
      "text/latex": [
       "$\\displaystyle (- 3 L - s)\\mathbf{\\hat{n}_{2}}$"
      ],
      "text/plain": [
       "(-3*L - s)*N['2']"
      ]
     },
     "execution_count": 5,
     "metadata": {},
     "output_type": "execute_result"
    }
   ],
   "source": [
    "p2 = -(3*L + s)*N.y\n",
    "p2"
   ]
  },
  {
   "cell_type": "code",
   "execution_count": 6,
   "metadata": {
    "slideshow": {
     "slide_type": "fragment"
    }
   },
   "outputs": [
    {
     "data": {
      "text/latex": [
       "$\\displaystyle \\frac{G M m}{64 L^{2}}\\mathbf{\\hat{n}_{1}}$"
      ],
      "text/plain": [
       "G*M*m/(64*L**2)*N['1']"
      ]
     },
     "execution_count": 6,
     "metadata": {},
     "output_type": "execute_result"
    }
   ],
   "source": [
    "F1 = (G*M*m)/(64*L**2)*N.x\n",
    "F1"
   ]
  },
  {
   "cell_type": "code",
   "execution_count": 7,
   "metadata": {
    "slideshow": {
     "slide_type": "fragment"
    }
   },
   "outputs": [
    {
     "data": {
      "text/latex": [
       "$\\displaystyle \\frac{0.008 G M m}{L^{2}}\\mathbf{\\hat{n}_{1}} + \\frac{0.006 G M m}{L^{2}}\\mathbf{\\hat{n}_{2}}$"
      ],
      "text/plain": [
       "0.008*G*M*m/L**2*N['1'] + 0.006*G*M*m/L**2*N['2']"
      ]
     },
     "execution_count": 7,
     "metadata": {},
     "output_type": "execute_result"
    }
   ],
   "source": [
    "F2 = (G*M*m)/(100*L**2)*(0.8*N.x + 0.6*N.y)\n",
    "F2"
   ]
  },
  {
   "cell_type": "markdown",
   "metadata": {
    "slideshow": {
     "slide_type": "fragment"
    }
   },
   "source": [
    "O momento $\\mathbf{M}^Q$ será obtido como $\\mathbf{M}^Q = \\mathbf{p}_1 \\times \\mathbf{F}_1 + \\mathbf{p}_2 \\times \\mathbf{F}_2$ "
   ]
  },
  {
   "cell_type": "code",
   "execution_count": 8,
   "metadata": {
    "slideshow": {
     "slide_type": "fragment"
    }
   },
   "outputs": [
    {
     "data": {
      "text/latex": [
       "$\\displaystyle (- \\frac{0.008 G M m \\left(- 3 L - s\\right)}{L^{2}} - \\frac{G M m \\left(3 L - s\\right)}{64 L^{2}})\\mathbf{\\hat{n}_{3}}$"
      ],
      "text/plain": [
       "(-0.008*G*M*m*(-3*L - s)/L**2 - G*M*m*(3*L - s)/(64*L**2))*N['3']"
      ]
     },
     "execution_count": 8,
     "metadata": {},
     "output_type": "execute_result"
    }
   ],
   "source": [
    "MQ = p1.cross(F1) + p2.cross(F2)\n",
    "MQ"
   ]
  },
  {
   "cell_type": "code",
   "execution_count": 9,
   "metadata": {
    "scrolled": true,
    "slideshow": {
     "slide_type": "fragment"
    }
   },
   "outputs": [
    {
     "name": "stdout",
     "output_type": "stream",
     "text": [
      "(- \\frac{0.008 G M m \\left(- 3 L - s\\right)}{L^{2}} - \\frac{G M m \\left(3 L - s\\right)}{64 L^{2}})\\mathbf{\\hat{n}_{3}}\n"
     ]
    }
   ],
   "source": [
    "print(sy.latex(MQ))"
   ]
  },
  {
   "cell_type": "markdown",
   "metadata": {
    "slideshow": {
     "slide_type": "fragment"
    }
   },
   "source": [
    "$\\mathbf{M}^Q$ é igual a zero, conforme definido no enunciado do problema.\n",
    "$$(- \\frac{0.008 G M m \\left(- 3 L + s\\right)}{L^{2}} - \\frac{G M m \\left(3 L - s\\right)}{64 L^{2}})\\mathbf{\\hat{n}_{3}} = 0$$\n",
    "\n",
    "Observa-se que essa equação vetorial está apenas em $\\hat{\\mathbf{n}}_3$, logo podemos transformá-la em uma equação escalar:"
   ]
  },
  {
   "cell_type": "code",
   "execution_count": 10,
   "metadata": {
    "slideshow": {
     "slide_type": "fragment"
    }
   },
   "outputs": [
    {
     "data": {
      "text/latex": [
       "$\\displaystyle - \\frac{0.008 G M m \\left(- 3 L - s\\right)}{L^{2}} - \\frac{G M m \\left(3 L - s\\right)}{64 L^{2}}$"
      ],
      "text/plain": [
       "-0.008*G*M*m*(-3*L - s)/L**2 - G*M*m*(3*L - s)/(64*L**2)"
      ]
     },
     "execution_count": 10,
     "metadata": {},
     "output_type": "execute_result"
    }
   ],
   "source": [
    "MQ_esc = MQ.dot(N.z)\n",
    "MQ_esc"
   ]
  },
  {
   "cell_type": "code",
   "execution_count": 11,
   "metadata": {
    "slideshow": {
     "slide_type": "fragment"
    }
   },
   "outputs": [
    {
     "data": {
      "text/plain": [
       "[0.968253968253968*L]"
      ]
     },
     "execution_count": 11,
     "metadata": {},
     "output_type": "execute_result"
    }
   ],
   "source": [
    "s_sol = sy.solve(MQ_esc,s)\n",
    "s_sol"
   ]
  },
  {
   "cell_type": "code",
   "execution_count": 12,
   "metadata": {
    "slideshow": {
     "slide_type": "fragment"
    }
   },
   "outputs": [
    {
     "data": {
      "text/latex": [
       "$\\displaystyle 0.968253968253968 L$"
      ],
      "text/plain": [
       "0.968253968253968*L"
      ]
     },
     "execution_count": 12,
     "metadata": {},
     "output_type": "execute_result"
    }
   ],
   "source": [
    "s_sol = s_sol[0]\n",
    "s_sol"
   ]
  },
  {
   "cell_type": "markdown",
   "metadata": {
    "slideshow": {
     "slide_type": "slide"
    }
   },
   "source": [
    "## Binários e Torques"
   ]
  },
  {
   "cell_type": "markdown",
   "metadata": {
    "slideshow": {
     "slide_type": "subslide"
    }
   },
   "source": [
    "Um *binário* é um conjunto de vetores vinculados na qual a resultante é igual a zero. Um binário que consite de apenas dois vetores é chamado de binário simples. Deste modo, os vetores que formam um binário simples necessariamente terão magnitudes iguais e direções opostas. \n",
    "\n",
    "Binários não são vetores, porque um conjunto de vetores não é um vetor, assim como um conjunto de pontos não é um ponto; mas existe um único vetor chamado *torque* do binário que está intimamente associado com o binário, a saber, o momento do binário em relação a um ponto. Esse vetor é único, porque um binário possui o mesmo momento em relação a todos pontos."
   ]
  },
  {
   "cell_type": "markdown",
   "metadata": {
    "slideshow": {
     "slide_type": "subslide"
    }
   },
   "source": [
    "### Exemplo 2\n",
    "Quatro forças, $\\mathbf{F}_1$, ...,$\\mathbf{F}_4$, possuem as linhas de ação mostradas na figura a seguir, e as magnitudes de $\\mathbf{F}_1$, ...,$\\mathbf{F}_4$ são proporcionais aos comprimentos das linhas $AB$, $BC$, $CD$ e $DA$, respectivamente; tal que: \n",
    "$$\\mathbf{F}_1 = ka\\hat{\\mathbf{n}}_2 \\qquad \\mathbf{F}_2 = k(-b\\hat{\\mathbf{n}}_1 + c \\hat{\\mathbf{n}}_3)$$\n",
    "$$ \\mathbf{F}_3 = k(b \\hat{\\mathbf{n}}_1 -a \\hat{\\mathbf{n}}_2) \\qquad \\mathbf{F}_4 = -kc\\hat{\\mathbf{n}}_3$$\n",
    "\n",
    "![](fig5-2-1.png)\n",
    "\n",
    "Onde $k$ é uma constante e $\\hat{\\mathbf{n}}_1$, $\\hat{\\mathbf{n}}_2$ e $\\hat{\\mathbf{n}}_3$ são vetores unitários mutuamente perpendiculares. As forças $\\mathbf{F}_1$, ..., $\\mathbf{F}_4$ formam um binário desde que a resultante, $\\mathbf{F}_1 + \\mathbf{F}_2 + \\mathbf{F}_3 + \\mathbf{F}_4$ é igual a zero. O torque $\\mathbf{T}$ do binário é encontrado, por exemplo, através da adição dos momentos de  $\\mathbf{F}_1,...,\\mathbf{F}_4$ em relação ao ponto $C$, é dado por (note que os momentos de $\\mathbf{F}_2$ e $\\mathbf{F}_3$ em relação a $C$ são zero):\n",
    "$$ \\mathbf{T} = (-c\\hat{\\mathbf{n}}_3 + b\\hat{\\mathbf{n}}_1) \\times \\mathbf{F}_1 + (b \\hat{\\mathbf{n}}_1 - a \\hat{\\mathbf{n}}_2) \\times \\mathbf{F}_4 = k(2ca\\hat{\\mathbf{n}}_1 + b\\hat{\\mathbf{n}}_2 + ab\\hat{\\mathbf{n}}_3)$$"
   ]
  },
  {
   "cell_type": "code",
   "execution_count": 13,
   "metadata": {
    "slideshow": {
     "slide_type": "fragment"
    }
   },
   "outputs": [],
   "source": [
    "k,a,b,c = sy.symbols('k a b c')"
   ]
  },
  {
   "cell_type": "code",
   "execution_count": 14,
   "metadata": {
    "slideshow": {
     "slide_type": "fragment"
    }
   },
   "outputs": [],
   "source": [
    "F1 = k*a*N.y\n",
    "F2 = k*(-b*N.x + c*N.z)\n",
    "F3 = k*(b*N.x - a*N.y)\n",
    "F4 = -k*c*N.z"
   ]
  },
  {
   "cell_type": "code",
   "execution_count": 15,
   "metadata": {
    "slideshow": {
     "slide_type": "fragment"
    }
   },
   "outputs": [
    {
     "data": {
      "text/latex": [
       "$\\displaystyle 0$"
      ],
      "text/plain": [
       "0"
      ]
     },
     "execution_count": 15,
     "metadata": {},
     "output_type": "execute_result"
    }
   ],
   "source": [
    "Resultante = F1 + F2 + F3 + F4\n",
    "Resultante"
   ]
  },
  {
   "cell_type": "code",
   "execution_count": 16,
   "metadata": {
    "slideshow": {
     "slide_type": "fragment"
    }
   },
   "outputs": [
    {
     "data": {
      "text/latex": [
       "$\\displaystyle 2 a c k\\mathbf{\\hat{n}_{1}} + b c k\\mathbf{\\hat{n}_{2}} + a b k\\mathbf{\\hat{n}_{3}}$"
      ],
      "text/plain": [
       "2*a*c*k*N['1'] + b*c*k*N['2'] + a*b*k*N['3']"
      ]
     },
     "execution_count": 16,
     "metadata": {},
     "output_type": "execute_result"
    }
   ],
   "source": [
    "T = (-a*N.y + b*N.x - c*N.z).cross(F1) + (b*N.x - a*N.y).cross(F4)\n",
    "T"
   ]
  },
  {
   "cell_type": "markdown",
   "metadata": {
    "slideshow": {
     "slide_type": "slide"
    }
   },
   "source": [
    "## Forças Ativas Generalizadas"
   ]
  },
  {
   "cell_type": "markdown",
   "metadata": {
    "slideshow": {
     "slide_type": "subslide"
    }
   },
   "source": [
    "Considere que $S$ denota um sistema composto por partículas $P_1$,...,$P_\\nu$. Quando $S$ é um sistema holonômico que possui $n$ graus de liberdade em um sistema de referência $A$, e $u_1$,...,$u_n$ são as velocidades generalizadas de $S$ em $A$, então $n$ quantidades $F_1$,...,$F_n$ chamadas de forças ativas generalizadas de $S$ em $A$ são definidas como:\n",
    "$$ F_r = \\sum^{\\nu}_{i=1} \\mathbf{v}_{r}^{P_i} \\cdot \\mathbf{R}_i \\qquad (r=1,...,n)$$\n",
    "Onde $\\mathbf{v}_{r}^{P_i}$ é a velocidade parcial holonômica de $P_i$ em $A$, e $\\mathbf{R}_i$ é a resultante de todas as forças de contato (por exemplo, forças de atrito) e forças de campo (por exemplo, forças gravitacionais, forças magnéticas e assim por diante) atuando em $P_i$. "
   ]
  },
  {
   "cell_type": "markdown",
   "metadata": {
    "slideshow": {
     "slide_type": "skip"
    }
   },
   "source": [
    "Quando $S$ é sistema holnômico simples que possui $p$ graus de liberdade em $A$, e $u_1,...,u_p$ são as velocidades generalizadas de $S$ em $A$, então $p$ quantidades $\\tilde{F}_1$,...,$\\tilde{F}_p$ chamadas de forças generalizadas não holonômicas de $S$ em $A$ são definidas como:\n",
    "$$ \\tilde{F}_r = \\sum^{\\nu}_{i=1} \\tilde{\\mathbf{v}}_{r}^{P_i} \\cdot \\mathbf{R}_i \\qquad (r=1,...,p)$$\n",
    "Onde $\\tilde{\\mathbf{v}}_{r}^{P_{i}}$ é a velocidade parcial de $P_i$ em $A$. "
   ]
  },
  {
   "cell_type": "markdown",
   "metadata": {
    "slideshow": {
     "slide_type": "skip"
    }
   },
   "source": [
    "Quando $S$ é um sistema não holonômico complexo possuindo $c$ graus de liberdade em $A$, e $\\dot{u}_1$,...,$\\dot{u}_c$ são as derivadas temporais das variáveis de movimento de $S$ em $A$, então $c$ quantidades $\\tilde{\\tilde{F}}_1$, ..., $\\tilde{\\tilde{F}}_c$ são definidas como:\n",
    "$$\\tilde{\\tilde{F}}_r = \\sum_{i=1}^{\\nu} \\tilde{\\mathbf{a}}_{r}^{P_i} \\cdot \\mathbf{R}_i \\qquad (r=1,...,c)$$\n",
    "Onde $\\tilde{\\mathbf{a}}_{r}^{P_i}$ é a aceleração parcial não holonômica de $P$_i em $A$. O termo \"força ativa generalizada não holonômica\" pode também ser usado para $\\tilde{\\tilde{F}}_1$, ..., $\\tilde{\\tilde{F}}_c$."
   ]
  },
  {
   "cell_type": "markdown",
   "metadata": {
    "slideshow": {
     "slide_type": "subslide"
    }
   },
   "source": [
    "**Observação:**\n",
    "\n",
    "Como no caso das velocidades angulares parciais e das velocidades parciais holonômicas e não holonômicas, pode-se omitir os adjetivos \"holonômico\" e \"não holonômico\" quando se fala de forças generalizadas. "
   ]
  },
  {
   "cell_type": "markdown",
   "metadata": {
    "slideshow": {
     "slide_type": "subslide"
    }
   },
   "source": [
    "### Exemplo 3\n",
    "\n",
    "Na figura a seguir, $P_1$ e $P_2$ designam partículas de massas $m_1$ e $m_2$ que podem deslizar livremente em um tudo liso $T$ e são conectadas a molas lineares leves $\\sigma_1$ e $\\sigma_2$ possuindo as constante $k_1$ e $k_2$ e os comprimentos \"naturais\" $L_1$ e $L_2$. $T$ é feito para girar em relação a um eixo horizontal fixo que passa através de uma extremidade de $T$, de tal maneira que o ângulo entre a vertical e o eixo $T$ é uma função prescrita $\\theta(t)$ do tempo $t$. As velocidades generalizadas são definidas como:\n",
    "$$u_r = \\dot{q}_r \\qquad (r=1,2)$$\n",
    "Determine as forças generalizadas $F_1$ e $F_2$ para o sistema de partículas $S$ formado por duas partículas $P_1$ e $P_2$, com $q_1$ e $q_2$ designando os delocamentos de $P_1$ e $P_2$ da posição ocupada por $P_1$ e $P_2$ em $T$ quando $\\sigma_1$ e $\\sigma_2$ não estão deformados. \n",
    "\n",
    "![](5-4-1.png)\n"
   ]
  },
  {
   "cell_type": "markdown",
   "metadata": {
    "slideshow": {
     "slide_type": "subslide"
    }
   },
   "source": [
    "As velocidades $\\mathbf{v}^{P_1}$ e $\\mathbf{v}^{P_2}$ podem ser expressas comov{\n",
    "$$\\mathbf{v}^{P_1} = u_1 \\hat{\\mathbf{t}}_1 + (L_1 + q_1)\\dot{\\theta} \\hat{\\mathbf{t}}_2$$\n",
    "$$ \\mathbf{v}^{P_2} = u_2 \\hat{\\mathbf{t}}_1 + (L_1 + L_2 + q_2)\\dot{\\theta} \\hat{\\mathbf{t}}_2$$"
   ]
  },
  {
   "cell_type": "markdown",
   "metadata": {
    "slideshow": {
     "slide_type": "subslide"
    }
   },
   "source": [
    "$S$ é um sistema holonômico, e as velocidades parciais de $P_1$ e $P_2$ são:\n",
    "$$\\mathbf{v}_{1}^{P_1} = \\hat{\\mathbf{t}}_1 \\qquad \\mathbf{v}_2^{P_1} = 0 $$\n",
    "$$\\mathbf{v}_{1}^{P_2} = 0 \\qquad \\mathbf{v}_2^{P_2} = \\hat{\\mathbf{t}}_1$$"
   ]
  },
  {
   "cell_type": "markdown",
   "metadata": {
    "slideshow": {
     "slide_type": "subslide"
    }
   },
   "source": [
    "Forças de contato são aplicadas em $P_1$ por $\\sigma_1$, $\\sigma_2$ e $T$ e uma força gravitacional é exercida em $P_1$ pela Terra. As forças aplicadas em $P_1$ por $\\sigma_1$ e $\\sigma_2$ podem ser escritas como $-k_1q_1 \\hat{\\mathbf{t}}_1$ e $k_2(q_2 - q_1)\\hat{\\mathbf{t}}_2$, respectivamente, e a força exercida em $P_1$ por $T$ pode ser expressa por $T_{12}\\hat{\\mathbf{t}}_2$ + $T_{13}\\hat{\\mathbf{t}}_3$, onde $T_{12}$ e $T_{13}$ são escalares desconhecidos. Nenhum componente paralelo a $\\hat{\\mathbf{t}}_1$ foi incluído, porque é presumido que $T$ é liso. Finalmente, a força gravitacional exercida em $P_1$ pela terra é $m_1g \\hat{\\mathbf{k}}$, onde $g$ é a força gravitacional local por unidade de massa e $ \\hat{\\mathbf{k}}$ é um vetor unitario direcionado na vertical para baixo. Assim, se a força gravitacional exercida em $P_1$ por $P_2$ é ignorada, $\\mathbf{R}_1$, a resultante de todas as forças de contato atuando em $P_1$ é dado por:\n",
    "$$\\mathbf{R}_1 = -k_1q_1 \\hat{\\mathbf{t}}_1 + k_2(q2-q1)\\hat{\\mathbf{t}}_1 + T_{12}\\hat{\\mathbf{t}}_2 + T_{13}\\hat{\\mathbf{t}}_3 + m_1g\\hat{\\mathbf{k}}$$"
   ]
  },
  {
   "cell_type": "markdown",
   "metadata": {
    "slideshow": {
     "slide_type": "subslide"
    }
   },
   "source": [
    "E $(F_1)_{P_1}$, a contribuição para a força ativa generalizada $F_1$ de todas as forças de contato e forças de campo atuando em $P_1$, é:\n",
    "$$ (F_1)_{P_1} = \\mathbf{v}_{1}^{P_1} \\cdot \\mathbf{R}_1 = -k_1q_1 + k_2(q_2 - q_1) + m_1g \\cos \\theta$$\n",
    "De modo similar, a resultante $\\mathbf{R}_2$ de todas as forças de contato e forças de campo atuando em $P_2$ é:\n",
    "$$\\mathbf{R}_2 = -k_2(q_2 - q_1)\\hat{\\mathbf{t}}_1 + T_{22}\\hat{\\mathbf{t}}_2 + T_{23}\\hat{\\mathbf{t}}_3 + m_2g\\hat{\\mathbf{k}}$$\n",
    "Deste modo, $(F_1)_{P_2}$ a contribuição para a força ativasgeneralizada $F_1$ de todas as forças de contato e forças de campo atuando em $P_2$, é\n",
    "$$(F_1)_{P_2} = \\mathbf{v}_1^{P_2} \\cdot \\mathbf{R}_2 = 0$$"
   ]
  },
  {
   "cell_type": "markdown",
   "metadata": {
    "slideshow": {
     "slide_type": "subslide"
    }
   },
   "source": [
    "e, procedendo da mesma maneira, pode-se obter que $(F_2)_{P_1}$ e $(F_2)_{P_2}$, as contribuições para a força ativa generalizada $F2$ de todas as forças de contato e de campo atuando em $P_1$ e $P_2$, são respectivamente:\n",
    "$$(F_2)_{P_1} = \\mathbf{v}_{2}^{P_1} \\cdot \\mathbf{R}_1 = 0$$\n",
    "e\n",
    "$$(F_2)_{P_2} = \\mathbf{v}_2^{P_2} \\cdot \\mathbf{R}_2 = -k_2(q_2 - q_1) + m_2 g \\cos \\theta$$"
   ]
  },
  {
   "cell_type": "markdown",
   "metadata": {
    "slideshow": {
     "slide_type": "subslide"
    }
   },
   "source": [
    "As forças ativas generalizadas serão então: \n",
    "\n",
    "$$F_1 = (F_1)_{P_1} + (F_1)_{P_2} = -k_1q_1 + k_2(q_2 - q_1) + m_1g \\cos \\theta$$\n",
    "$$ F_2 = (F_2)_{P_1} + (F_2)_{P_2} =-k_2(q_2 - q_1) + m_2g \\cos \\theta$$"
   ]
  },
  {
   "cell_type": "markdown",
   "metadata": {
    "slideshow": {
     "slide_type": "subslide"
    }
   },
   "source": [
    "**Observação:**\n",
    "\n",
    "É importante destacar que as forças de contato (desconhecidas) exercidas em $P_1$ e $P_2$ por $T$ não contribuíram nada para as forças ativas generalizadas $F_1$ e $F_2$. "
   ]
  },
  {
   "cell_type": "markdown",
   "metadata": {
    "slideshow": {
     "slide_type": "subslide"
    }
   },
   "source": [
    "**Fazendo este exemplo no Python:**"
   ]
  },
  {
   "cell_type": "code",
   "execution_count": 17,
   "metadata": {
    "slideshow": {
     "slide_type": "fragment"
    }
   },
   "outputs": [],
   "source": [
    "L1,L2 = sy.symbols('L1 L2')\n",
    "q1,q2,theta = me.dynamicsymbols('q1 q2 theta')\n",
    "q1d,q2d = me.dynamicsymbols('q1 q2',1)\n",
    "u1,u2 = me.dynamicsymbols('u1 u2')"
   ]
  },
  {
   "cell_type": "code",
   "execution_count": 18,
   "metadata": {
    "slideshow": {
     "slide_type": "fragment"
    }
   },
   "outputs": [],
   "source": [
    "kde = [q1d-u1,q2d-u2]\n",
    "q_lista = [q1,q2]\n",
    "u_lista = [u1,u2]"
   ]
  },
  {
   "cell_type": "code",
   "execution_count": 19,
   "metadata": {
    "slideshow": {
     "slide_type": "fragment"
    }
   },
   "outputs": [],
   "source": [
    "A = me.ReferenceFrame('A')\n",
    "T = me.ReferenceFrame('T',indices=['1','2','3'])\n",
    "T.orient(A,'axis',[theta - sy.pi/2,A.z])"
   ]
  },
  {
   "cell_type": "code",
   "execution_count": 20,
   "metadata": {
    "slideshow": {
     "slide_type": "fragment"
    }
   },
   "outputs": [],
   "source": [
    "O = me.Point('O')\n",
    "O.set_vel(A,0)"
   ]
  },
  {
   "cell_type": "code",
   "execution_count": 21,
   "metadata": {
    "slideshow": {
     "slide_type": "fragment"
    }
   },
   "outputs": [],
   "source": [
    "P1 = me.Point('P_1')\n",
    "P1.set_pos(O,(L1+q1)*T.x)\n",
    "P1.set_vel(A,((L1+q1)*T.x).dt(A))"
   ]
  },
  {
   "cell_type": "code",
   "execution_count": 22,
   "metadata": {
    "slideshow": {
     "slide_type": "fragment"
    }
   },
   "outputs": [
    {
     "data": {
      "text/latex": [
       "$\\displaystyle \\dot{q}_{1}\\mathbf{\\hat{t}_{1}} + \\left(L_{1} + q_{1}\\right) \\dot{\\theta}\\mathbf{\\hat{t}_{2}}$"
      ],
      "text/plain": [
       "q1'*T['1'] + (L1 + q1)*theta'*T['2']"
      ]
     },
     "execution_count": 22,
     "metadata": {},
     "output_type": "execute_result"
    }
   ],
   "source": [
    "P1.vel(A)"
   ]
  },
  {
   "cell_type": "code",
   "execution_count": 23,
   "metadata": {
    "slideshow": {
     "slide_type": "fragment"
    }
   },
   "outputs": [],
   "source": [
    "P2 = me.Point('P_2')\n",
    "P2.set_pos(O,(L1+L2+q2)*T.x)\n",
    "P2.set_vel(A,((L1+L2+q2)*T.x).dt(A))"
   ]
  },
  {
   "cell_type": "code",
   "execution_count": 24,
   "metadata": {
    "slideshow": {
     "slide_type": "fragment"
    }
   },
   "outputs": [
    {
     "data": {
      "text/latex": [
       "$\\displaystyle \\dot{q}_{2}\\mathbf{\\hat{t}_{1}} + \\left(L_{1} + L_{2} + q_{2}\\right) \\dot{\\theta}\\mathbf{\\hat{t}_{2}}$"
      ],
      "text/plain": [
       "q2'*T['1'] + (L1 + L2 + q2)*theta'*T['2']"
      ]
     },
     "execution_count": 24,
     "metadata": {},
     "output_type": "execute_result"
    }
   ],
   "source": [
    "P2.vel(A)"
   ]
  },
  {
   "cell_type": "code",
   "execution_count": 25,
   "metadata": {
    "slideshow": {
     "slide_type": "fragment"
    }
   },
   "outputs": [],
   "source": [
    "m1,m2,g,k1,k2 = sy.symbols('m1 m2 g k1 k2')\n",
    "T12,T13,T22,T23 = sy.symbols('T12 T13 T22 T23')"
   ]
  },
  {
   "cell_type": "code",
   "execution_count": 26,
   "metadata": {
    "slideshow": {
     "slide_type": "fragment"
    }
   },
   "outputs": [],
   "source": [
    "ParP1 = me.Particle('P1',P1,m1)"
   ]
  },
  {
   "cell_type": "code",
   "execution_count": 27,
   "metadata": {
    "slideshow": {
     "slide_type": "fragment"
    }
   },
   "outputs": [],
   "source": [
    "ParP2 = me.Particle('P2',P2,m2)"
   ]
  },
  {
   "cell_type": "markdown",
   "metadata": {
    "slideshow": {
     "slide_type": "fragment"
    }
   },
   "source": [
    "Lista de forças:"
   ]
  },
  {
   "cell_type": "code",
   "execution_count": 28,
   "metadata": {
    "slideshow": {
     "slide_type": "fragment"
    }
   },
   "outputs": [],
   "source": [
    "Fl = [(P1,-k1*q1*T.x),(P1,k2*(q2-q1)*T.x),(P1,T12*T.y),(P1,T13*T.z),(P1,m1*g*(-A.y)),\n",
    "     (P2,-k2*(q2-q1)*T.x),(P2,T22*T.y),(P2,T23*T.z),(P2,m2*g*(-A.y))]"
   ]
  },
  {
   "cell_type": "markdown",
   "metadata": {
    "slideshow": {
     "slide_type": "fragment"
    }
   },
   "source": [
    "Lista de corpos:"
   ]
  },
  {
   "cell_type": "code",
   "execution_count": 29,
   "metadata": {
    "slideshow": {
     "slide_type": "fragment"
    }
   },
   "outputs": [],
   "source": [
    "Bl = [ParP1,ParP2]"
   ]
  },
  {
   "cell_type": "code",
   "execution_count": 30,
   "metadata": {
    "slideshow": {
     "slide_type": "fragment"
    }
   },
   "outputs": [],
   "source": [
    "KM = me.KanesMethod(A,q_ind = q_lista, u_ind = u_lista, kd_eqs = kde)"
   ]
  },
  {
   "cell_type": "code",
   "execution_count": 31,
   "metadata": {
    "slideshow": {
     "slide_type": "fragment"
    }
   },
   "outputs": [],
   "source": [
    "Fr,Frstar = KM.kanes_equations(Bl,Fl)"
   ]
  },
  {
   "cell_type": "code",
   "execution_count": 32,
   "metadata": {
    "slideshow": {
     "slide_type": "fragment"
    }
   },
   "outputs": [
    {
     "data": {
      "text/latex": [
       "$\\displaystyle \\left[\\begin{matrix}g m_{1} \\cos{\\left(\\theta{\\left(t \\right)} \\right)} - k_{1} \\operatorname{q_{1}}{\\left(t \\right)} + k_{2} \\left(- \\operatorname{q_{1}}{\\left(t \\right)} + \\operatorname{q_{2}}{\\left(t \\right)}\\right)\\\\g m_{2} \\cos{\\left(\\theta{\\left(t \\right)} \\right)} - k_{2} \\left(- \\operatorname{q_{1}}{\\left(t \\right)} + \\operatorname{q_{2}}{\\left(t \\right)}\\right)\\end{matrix}\\right]$"
      ],
      "text/plain": [
       "Matrix([\n",
       "[g*m1*cos(theta(t)) - k1*q1(t) + k2*(-q1(t) + q2(t))],\n",
       "[           g*m2*cos(theta(t)) - k2*(-q1(t) + q2(t))]])"
      ]
     },
     "execution_count": 32,
     "metadata": {},
     "output_type": "execute_result"
    }
   ],
   "source": [
    "Fr"
   ]
  },
  {
   "cell_type": "code",
   "execution_count": 33,
   "metadata": {
    "slideshow": {
     "slide_type": "fragment"
    }
   },
   "outputs": [
    {
     "data": {
      "text/latex": [
       "$\\displaystyle g m_{1} \\cos{\\left(\\theta{\\left(t \\right)} \\right)} - k_{1} \\operatorname{q_{1}}{\\left(t \\right)} + k_{2} \\left(- \\operatorname{q_{1}}{\\left(t \\right)} + \\operatorname{q_{2}}{\\left(t \\right)}\\right)$"
      ],
      "text/plain": [
       "g*m1*cos(theta(t)) - k1*q1(t) + k2*(-q1(t) + q2(t))"
      ]
     },
     "execution_count": 33,
     "metadata": {},
     "output_type": "execute_result"
    }
   ],
   "source": [
    "Fr1 = Fr[0]\n",
    "Fr1"
   ]
  },
  {
   "cell_type": "code",
   "execution_count": 34,
   "metadata": {
    "slideshow": {
     "slide_type": "fragment"
    }
   },
   "outputs": [
    {
     "data": {
      "text/latex": [
       "$\\displaystyle g m_{2} \\cos{\\left(\\theta{\\left(t \\right)} \\right)} - k_{2} \\left(- \\operatorname{q_{1}}{\\left(t \\right)} + \\operatorname{q_{2}}{\\left(t \\right)}\\right)$"
      ],
      "text/plain": [
       "g*m2*cos(theta(t)) - k2*(-q1(t) + q2(t))"
      ]
     },
     "execution_count": 34,
     "metadata": {},
     "output_type": "execute_result"
    }
   ],
   "source": [
    "Fr2 = Fr[1]\n",
    "Fr2"
   ]
  },
  {
   "cell_type": "markdown",
   "metadata": {
    "slideshow": {
     "slide_type": "slide"
    }
   },
   "source": [
    "## Forças Atuando em um Corpo Rígido"
   ]
  },
  {
   "cell_type": "markdown",
   "metadata": {
    "slideshow": {
     "slide_type": "subslide"
    }
   },
   "source": [
    "Suponha que $B$ é um corpo rígido pertencente ao sistema $S$, e um conjunto de forças de contato e de campo autantes em $B$ é equivalente ao torque $\\mathbf{T}$ juntamente com a força $\\mathbf{R}$, na qual a linha de ação passa pelo ponto $Q$ de $B$. Quando $S$ é holonômico, não holonômico simples ou não holonômico complexo, possuindo respectivamente $n$, $p$ e $c$ graus de liberdade em um sistema de referência $A$, então o conjunto de forças atuantes em $B$ contribuem para as foças ativas generalizadas como:\n",
    "\n",
    "$$(F_r)_B = {}^{A} \\mathbf{\\omega}_{r}^{B} \\cdot \\mathbf{T} + {}^{A}\\mathbf{v}_{r}^{Q} \\cdot \\mathbf{R} \\qquad (r = 1,...,n)$$\n",
    "\n",
    "Onde ${}^{A}\\mathbf{\\omega}^{B}$ é a velocidade angular parcial de $B$ em $A$, e ${}^{A}\\mathbf{v}_{r}^{Q}$ é a velocidade holonômica parcial de $Q$ em $A$."
   ]
  },
  {
   "cell_type": "markdown",
   "metadata": {
    "slideshow": {
     "slide_type": "subslide"
    }
   },
   "source": [
    "$$(\\tilde{F}_r)_B = {}^{A} \\tilde{\\mathbf{\\omega}}_{r}^{B} \\cdot \\mathbf{T} + {}^{A}\\tilde{\\mathbf{v}}_{r}^{Q} \\cdot \\mathbf{R} \\qquad (r = 1,...,n)$$\n",
    "Onde $\\tilde{\\mathbf{\\omega}}_{r}^{B}$ é a velocidade parcial angular não holonômica de $B$ em $A$, e ${}^{A}\\tilde{\\mathbf{v}}_{r}^{Q}$ é a velocidade parcial não holonômica de $Q$ em $A$, e\n",
    "\n",
    "$$(\\tilde{\\tilde{F}}_r)_B = {}^{A} \\tilde{\\tilde{\\mathbf{\\alpha}}}_{r}^{B} \\cdot \\mathbf{T} + {}^{A}\\tilde{\\tilde{\\mathbf{v}}}_{r}^{Q} \\cdot \\mathbf{R} \\qquad (r = 1,...,n)$$\n",
    "\n",
    "Onde ${}^{A} \\tilde{\\tilde{\\mathbf{\\alpha}}}_{r}^{B}$ é a aceleração angular parcial não holonômica de $B$ em $A$, e ${}^{A}\\tilde{\\tilde{\\mathbf{v}}}_{r}^{Q}$ é a aceleração parcial não holonômica de Q em A. "
   ]
  },
  {
   "cell_type": "markdown",
   "metadata": {
    "slideshow": {
     "slide_type": "subslide"
    }
   },
   "source": [
    "### Exemplo 4\n",
    "Na figura a seguir, é mostrado uma barra uniforme $B$ de massa $M$ e comprimento $L$. $B$ é livre para se mover no plano $A$, e $P$ é uma partícula de massa $m$, fixada em $A$. Obtenha $F_r$. \n",
    "![](fig5-5-1.png)"
   ]
  },
  {
   "cell_type": "markdown",
   "metadata": {
    "slideshow": {
     "slide_type": "subslide"
    }
   },
   "source": [
    "Podemos considerar que um conjunto de forças gravitacionais exercidas por $P$ em $B$ é aproximadamente equivalente a um torque $\\mathbf{T}$ em conjunto com a força $\\mathbf{R}$, na qual a linha de ação passa pelo centro de massa $B^{*}$ de $B$, com $\\mathbf{T}$ e $\\mathbf{R}$ dado por:\n",
    "$$\\mathbf{T} = \\dfrac{GMmL^2}{8q_{2}^{3}}\\sin 2q_3 \\hat{\\mathbf{a}}_3$$\n",
    "e\n",
    "$$\\mathbf{R} = - \\dfrac{GMm}{q_{2}^{2}} \\left( \\hat{\\mathbf{a}}_1 \\left[ 1 + \\dfrac{L^2}{8q_2^2}(2-3\\sin^2q_3) \\right] - \\hat{\\mathbf{a}}_2 \\dfrac{L^2}{8q_2^2}\\sin 2q_3 \\right) $$\n",
    "\n",
    "Onde $G$ é a constante de gravitação universal, $\\hat{\\mathbf{a}}_1$ e $\\hat{\\mathbf{a}}_2$ são vetores unitários conforme mostrado na figura e $q_1$, $q_2$ e $q_3$ são coordenadas generalizadas que caracterizam a configuração de $B$ em $A$. Se as variáveis de movimento $u_1$, $u_2$ e $u_3$ forem definidas como:\n",
    "$$u_r = \\dot{q}_r \\qquad (r=1,2,3)$$\n",
    "\n",
    "Então $\\mathbf{\\omega}$, a velocidade angular de $B$ em $A$, e $\\mathbf{v}$, a velocidade de $B^{*}$ em $A$, são dados por:\n",
    "$$ \\mathbf{\\omega} = (u_1 + u_2) \\hat{\\mathbf{a}}_3 \\qquad \\mathbf{v} = u_2 \\hat{\\mathbf{a}}_1 + u_1q_2 \\hat{\\mathbf{a}}_2$$\n",
    "\n",
    "Então, a velociade angular parcial de $B$ em $A$ e a velociade parcial de $B^*$ em $A$ são:\n",
    "\n",
    "$$\\mathbf{\\omega}_1 = \\hat{\\mathbf{a}}_3 \\qquad \\mathbf{\\omega}_2 = 0 \\qquad \\mathbf{\\omega}_3 = \\hat{\\mathbf{a}}_3$$\n",
    "$$\\mathbf{v}_1 = q_2 \\hat{\\mathbf{a}}_2 \\qquad \\mathbf{v}_2 = \\hat{\\mathbf{a}}_1 \\qquad \\mathbf{v}_3 = 0$$\n",
    "\n",
    "A contribuição das forças gravitacionais exercidas pelo ponto $P$ em $B$ às forças ativas generaçizadas de $B$ em $A$ são:\n",
    "\n",
    "$$(F_1)_B = \\hat{\\mathbf{a}}_3 \\cdot \\mathbf{T} + q_2 \\hat{\\mathbf{a}}_2 \\cdot \\mathbf{R}= - \\dfrac{GMmL^2}{8q_2^3}\\sin 2 q_3 + \\dfrac{GMmL^2}{8q_2}\\sin 2q_3 = 0$$\n",
    "\n",
    "$$(F_2)_B = - \\dfrac{GMm}{q_2^2} \\left[ 1 + \\dfrac{L^2}{8q_2^2} (2-3 \\sin^2 q_3) \\right]$$\n",
    "\n",
    "$$(F_3)_B = \\dfrac{GMmL^2}{8q_2^3} \\sin 2q_3$$"
   ]
  },
  {
   "cell_type": "code",
   "execution_count": null,
   "metadata": {
    "slideshow": {
     "slide_type": "subslide"
    }
   },
   "outputs": [],
   "source": []
  },
  {
   "cell_type": "markdown",
   "metadata": {
    "slideshow": {
     "slide_type": "slide"
    }
   },
   "source": [
    "## Forças de Inércia Generalizadas"
   ]
  },
  {
   "cell_type": "markdown",
   "metadata": {
    "slideshow": {
     "slide_type": "subslide"
    }
   },
   "source": [
    "Considere que $S$ denota um sistema composto por partículas $P_1$,...,$P_\\nu$. Onde $S$ é um sistema holonômico possuindo $n$ graus de liberdade em um sistema de referência $A$, e $u_1$,...,$u_n$ são as velocidades generalizadas de $S$ em $A$, então $n$ quantidades $F_1^{\\star}$,...,$F_n^{\\star}$ chamadas de *foças de inércia generalizadas holonômicas* de $S$ em $A$ são definidas como:\n",
    "$$F_r^{\\star} = \\sum_{i=1}^{\\nu} {}^{A}\\mathbf{v}_r^{P_i} \\cdot \\mathbf{R}_i^{\\star} \\qquad (r=1,...,n)$$\n",
    "Onde ${}^{A}\\mathbf{v}_r^{P_i}$ é a velocidade parcial holonômica de $P_i$ em $A$."
   ]
  },
  {
   "cell_type": "markdown",
   "metadata": {
    "slideshow": {
     "slide_type": "subslide"
    }
   },
   "source": [
    "Quando $S$ é um sistema não holonômico simples, possuindo $p$ graus de liberdade em $A$, e $u_1$,...,$u_p$ são as velocidades generalizadas de $S$ em $A$, então as quantidades $\\tilde{F}^{\\star}_1$,...,$\\tilde{F}^{\\star}_p$ chamadas de forças de inércia generalizadas não holonômicas de $S$ em $A$ são definidas como: \n",
    "$$\\tilde{F}_r^{\\star} = \\sum_{i=1}^{\\nu} {}^{A}\\tilde{\\mathbf{v}}_r^{P_i} \\cdot \\mathbf{R}_i^{\\star} \\qquad (r=1,...,p)$$\n",
    "Onde ${}^{A}\\tilde{\\mathbf{v}}_r^{P_i}$ é a velocidade parcial não holonômica de $P_i$ em $A$.\n",
    "\n",
    "Quando $S$ é um sistema não holonômico complexo, possuindo $c$ graus de liberdade em $A$, e $\\dot{u}_1$,...,$\\dot{u}_c$ são as derivadas temporais das velocidades generalizadas de $S$ em $A$, então as quantidades $\\tilde{\\tilde{F}}^{\\star}_1$,...,$\\tilde{\\tilde{F}}^{\\star}_c$ são definidas como: \n",
    "$$\\tilde{\\tilde{F}}_r^{\\star} = \\sum_{i=1}^{\\nu} {}^{A}\\tilde{\\tilde{\\mathbf{a}}}_r^{P_i} \\cdot \\mathbf{R}_i^{\\star} \\qquad (r=1,...,c)$$\n",
    "Onde ${}^{A}\\tilde{\\mathbf{v}}_r^{P_i}$ é a aceleração parcial não holonômica de $P_i$ em $A$."
   ]
  },
  {
   "cell_type": "markdown",
   "metadata": {
    "slideshow": {
     "slide_type": "subslide"
    }
   },
   "source": [
    "O vetor $\\mathbf{R}^{\\star}_i$ é a força de inércia de $P_i$ em $A$:\n",
    "$$\\mathbf{R}^{\\star}_i = - m_i {}^{A}\\mathbf{a}^{P_i} (i = 1,...,\\nu)$$\n",
    "\n",
    "Onde $m_i$ é a massa de $P_i$ e ${}^{A}\\mathbf{a}^{P_i}$ é a aceleração de $P_i$ em $A$."
   ]
  },
  {
   "cell_type": "markdown",
   "metadata": {
    "slideshow": {
     "slide_type": "subslide"
    }
   },
   "source": [
    "Quando $B$ é um corpo rígido pertencente a $S$, todas as forças de inércia das partículas constituintes de $B$ fazem contribuições denotadas por $(F_r)^{\\star}_B$ para as forças de inércia definidas como:\n",
    "$$(F_r^{\\star}) = {}^{A} \\mathbf{\\omega}_{r}^{B} \\cdot \\mathbf{T}^{\\star} + {}^{A} \\mathbf{v}_{r}^{B^*} \\cdot \\mathbf{R}^{\\star} \\qquad (r=1,...,n)$$"
   ]
  },
  {
   "cell_type": "markdown",
   "metadata": {
    "slideshow": {
     "slide_type": "subslide"
    }
   },
   "source": [
    "O vetor $\\mathbf{T}^{\\star}$ é chamado de torque de inércia de $B$ em $A$, e pode ser definido como:\n",
    "$$\\mathbf{T}^{\\star} = - \\sum^{\\beta}_{i=1} m_i \\mathbf{r}_i \\times {}^{A}\\mathbf{a}^{P_i}$$\n",
    "\n",
    "Onde $\\beta$ é o numero de partículas que formam $B$, $m_i$ é a massa de uma partícula genérica de $B$, $\\mathbf{r}_i$ é o vetor posição de $B^*$ até $P_i$, e ${}^{A}\\mathbf{a}^{P_i}$  é a aceleração de $P_i$ em $A$. $\\mathbf{R}^\\star$ é chamado de força de inércia de $B$ em $A$, e é definido como:\n",
    "$$\\mathbf{R}^{\\star} = - M {}^{A}\\mathbf{a}^{B^*}$$\n",
    "\n",
    "O torque de inércia pode ser escrito de um modo mais vantajoso como:\n",
    "$$\\mathbf{T}^{\\star} = -{}^{A}\\mathbf{\\alpha}^B \\cdot \\mathbf{I} - {}^{A}\\mathbf{\\omega}^{B} \\times \\mathbf{I} \\cdot {}^{A}\\mathbf{\\omega}^{B} $$"
   ]
  },
  {
   "cell_type": "markdown",
   "metadata": {
    "slideshow": {
     "slide_type": "subslide"
    }
   },
   "source": [
    "## Exemplo 5\n",
    "\n",
    "Voltando ao **Exemplo 3**, obtermos agora as forças de inércia generalizadas usando o python:"
   ]
  },
  {
   "cell_type": "code",
   "execution_count": 35,
   "metadata": {
    "slideshow": {
     "slide_type": "fragment"
    }
   },
   "outputs": [
    {
     "data": {
      "text/latex": [
       "$\\displaystyle \\left[\\begin{matrix}m_{1} \\left(L_{1} + \\operatorname{q_{1}}{\\left(t \\right)}\\right) \\left(\\frac{d}{d t} \\theta{\\left(t \\right)}\\right)^{2} - m_{1} \\frac{d}{d t} \\operatorname{u_{1}}{\\left(t \\right)}\\\\m_{2} \\left(L_{1} + L_{2} + \\operatorname{q_{2}}{\\left(t \\right)}\\right) \\left(\\frac{d}{d t} \\theta{\\left(t \\right)}\\right)^{2} - m_{2} \\frac{d}{d t} \\operatorname{u_{2}}{\\left(t \\right)}\\end{matrix}\\right]$"
      ],
      "text/plain": [
       "Matrix([\n",
       "[     m1*(L1 + q1(t))*Derivative(theta(t), t)**2 - m1*Derivative(u1(t), t)],\n",
       "[m2*(L1 + L2 + q2(t))*Derivative(theta(t), t)**2 - m2*Derivative(u2(t), t)]])"
      ]
     },
     "execution_count": 35,
     "metadata": {},
     "output_type": "execute_result"
    }
   ],
   "source": [
    "Frstar"
   ]
  },
  {
   "cell_type": "code",
   "execution_count": 36,
   "metadata": {
    "slideshow": {
     "slide_type": "fragment"
    }
   },
   "outputs": [
    {
     "data": {
      "text/latex": [
       "$\\displaystyle m_{1} \\left(L_{1} + \\operatorname{q_{1}}{\\left(t \\right)}\\right) \\left(\\frac{d}{d t} \\theta{\\left(t \\right)}\\right)^{2} - m_{1} \\frac{d}{d t} \\operatorname{u_{1}}{\\left(t \\right)}$"
      ],
      "text/plain": [
       "m1*(L1 + q1(t))*Derivative(theta(t), t)**2 - m1*Derivative(u1(t), t)"
      ]
     },
     "execution_count": 36,
     "metadata": {},
     "output_type": "execute_result"
    }
   ],
   "source": [
    "Frstar_1 = Frstar[0]\n",
    "Frstar_1"
   ]
  },
  {
   "cell_type": "code",
   "execution_count": 37,
   "metadata": {
    "slideshow": {
     "slide_type": "fragment"
    }
   },
   "outputs": [
    {
     "data": {
      "text/latex": [
       "$\\displaystyle m_{2} \\left(L_{1} + L_{2} + \\operatorname{q_{2}}{\\left(t \\right)}\\right) \\left(\\frac{d}{d t} \\theta{\\left(t \\right)}\\right)^{2} - m_{2} \\frac{d}{d t} \\operatorname{u_{2}}{\\left(t \\right)}$"
      ],
      "text/plain": [
       "m2*(L1 + L2 + q2(t))*Derivative(theta(t), t)**2 - m2*Derivative(u2(t), t)"
      ]
     },
     "execution_count": 37,
     "metadata": {},
     "output_type": "execute_result"
    }
   ],
   "source": [
    "Frstar_2 = Frstar[1]\n",
    "Frstar_2"
   ]
  }
 ],
 "metadata": {
  "kernelspec": {
   "display_name": "Python 3",
   "language": "python",
   "name": "python3"
  },
  "language_info": {
   "codemirror_mode": {
    "name": "ipython",
    "version": 3
   },
   "file_extension": ".py",
   "mimetype": "text/x-python",
   "name": "python",
   "nbconvert_exporter": "python",
   "pygments_lexer": "ipython3",
   "version": "3.8.10"
  }
 },
 "nbformat": 4,
 "nbformat_minor": 4
}
