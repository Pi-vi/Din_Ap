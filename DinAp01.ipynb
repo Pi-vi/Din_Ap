{
 "cells": [
  {
   "cell_type": "markdown",
   "metadata": {},
   "source": [
    "# 1. Diferenciação de Vetores\n",
    "Professor Paulo Victor <br>\n",
    "E-mail: paulo.gomes@cefet-rj.br <br>\n",
    "CEFET-RJ Campus Angra dos Reis Sala 6E\n",
    "\n",
    "A disciplina de dinâmica lida com variações de diversos tipos, como mudanças na posição de uma partícula em um sistema de referência e mudanças na configuração de um sistema mecânico. Para se caracterizar como alguma dessas mudanças ocorrem, emprega-se o cálculo diferencial de vetores. \n",
    "\n",
    "Os **sistemas de referência** tem um importante papel no estudo da dinâmica de sistemas mecânicos. Podemos considerá-los como um corpo rígido sem massa, e um corpo rígido pode servir como sistema de referência.\n",
    "* Um dado sistema de referência pode incluir diversos sistemas de coordenadas.\n",
    "\n",
    "![Sistemas de Referência](batata01.svg)\n",
    "\n",
    "\n",
    "Ao se trabalhar com princípios básicos da dinâmica, como a segunda lei de Newton, necessita-se apenas de cálculo diferencial de funções vetoriais de uma única variável escalar, o tempo. Ao se estudar princípios avançados de dinâmica, como o método de Kane, torna-se necessário derivar vetores em relação a diferentes variáveis, como coordenadas generalizadas e variáveis de movimento. \n",
    "\n",
    "### Criando um sistema de referência:"
   ]
  },
  {
   "cell_type": "code",
   "execution_count": 1,
   "metadata": {},
   "outputs": [],
   "source": [
    "import sympy.physics.mechanics as me"
   ]
  },
  {
   "cell_type": "code",
   "execution_count": 62,
   "metadata": {},
   "outputs": [],
   "source": [
    "A = me.ReferenceFrame('A')"
   ]
  },
  {
   "cell_type": "markdown",
   "metadata": {},
   "source": [
    "ou:"
   ]
  },
  {
   "cell_type": "code",
   "execution_count": 64,
   "metadata": {},
   "outputs": [],
   "source": [
    "A = me.ReferenceFrame('A', indices=('1','2','3'))"
   ]
  },
  {
   "cell_type": "code",
   "execution_count": 65,
   "metadata": {},
   "outputs": [
    {
     "data": {
      "text/latex": [
       "$\\displaystyle 5\\mathbf{\\hat{a}_{1}} + 4\\mathbf{\\hat{a}_{2}} - 2\\mathbf{\\hat{a}_{3}}$"
      ],
      "text/plain": [
       "5*A['1'] + 4*A['2'] - 2*A['3']"
      ]
     },
     "execution_count": 65,
     "metadata": {},
     "output_type": "execute_result"
    }
   ],
   "source": [
    "r = 5*A.x + 4*A.y - 2*A.z\n",
    "r"
   ]
  },
  {
   "cell_type": "markdown",
   "metadata": {},
   "source": [
    "## 1.1. Rotação Simples"
   ]
  },
  {
   "cell_type": "markdown",
   "metadata": {},
   "source": [
    "![Rotação Simples](RefMov07letras.svg)"
   ]
  },
  {
   "cell_type": "code",
   "execution_count": 69,
   "metadata": {},
   "outputs": [],
   "source": [
    "q = me.dynamicsymbols('q')\n",
    "B = me.ReferenceFrame('B')\n",
    "B.orient(A,'Axis',[q,A.x])"
   ]
  },
  {
   "cell_type": "markdown",
   "metadata": {},
   "source": [
    "Ou:"
   ]
  },
  {
   "cell_type": "code",
   "execution_count": 70,
   "metadata": {},
   "outputs": [
    {
     "data": {
      "text/plain": [
       "B"
      ]
     },
     "execution_count": 70,
     "metadata": {},
     "output_type": "execute_result"
    }
   ],
   "source": [
    "A.orientnew('B','Axis',[q,A.x])"
   ]
  },
  {
   "cell_type": "markdown",
   "metadata": {},
   "source": [
    "## 1.2. Matriz de Cossenos Diretores\n",
    "\n",
    "Qualquer vetor $\\textbf{v}$ pode ser expresso em termos de um conjunto de vetores unitários $\\hat{\\textbf{a}}_1$, $\\hat{\\textbf{a}}_2$ e $\\hat{\\textbf{a}}_3$, ou em termos de $\\hat{\\textbf{b}}_1$, $\\hat{\\textbf{b}}_2$ e $\\hat{\\textbf{b}}_3$.\n",
    "\n",
    "O estudo de dinâmica frequentemente envolve transformar uma expressão para $\\textbf{v}$ em termos de $\\hat{\\textbf{a}}_1$, $\\hat{\\textbf{a}}_2$ e $\\hat{\\textbf{a}}_3$ para uma expressão que envolva $\\hat{\\textbf{b}}_1$, $\\hat{\\textbf{b}}_2$ e $\\hat{\\textbf{b}}_3$, ou vice versa, e essa tarefa é facilitada ao se ter em mão os nove cossenos diretores $\\hat{\\textbf{a}}_i \\cdot \\hat{\\textbf{b}}_j$, onde $(i,j = 1,2,3)$.\n",
    "\n",
    "| | $\\hat{\\textbf{b}}_1$ | $\\hat{\\textbf{b}}_2$ | $\\hat{\\textbf{b}}_3$ |\n",
    "|---|---|---|---|\n",
    "|$\\hat{\\textbf{a}}_1$ | $1$ | $0$ | $0$ |\n",
    "|$\\hat{\\textbf{a}}_2$ | $0$ |  $cos (q)$ | $-sen (q)$ |\n",
    "|$\\hat{\\textbf{a}}_3$ | $0$ |$sen (q)$ | $cos (q)$ |"
   ]
  },
  {
   "cell_type": "code",
   "execution_count": 71,
   "metadata": {},
   "outputs": [
    {
     "data": {
      "text/latex": [
       "$\\displaystyle \\left[\\begin{matrix}1 & 0 & 0\\\\0 & \\cos{\\left(q{\\left(t \\right)} \\right)} & - \\sin{\\left(q{\\left(t \\right)} \\right)}\\\\0 & \\sin{\\left(q{\\left(t \\right)} \\right)} & \\cos{\\left(q{\\left(t \\right)} \\right)}\\end{matrix}\\right]$"
      ],
      "text/plain": [
       "Matrix([\n",
       "[1,         0,          0],\n",
       "[0, cos(q(t)), -sin(q(t))],\n",
       "[0, sin(q(t)),  cos(q(t))]])"
      ]
     },
     "execution_count": 71,
     "metadata": {},
     "output_type": "execute_result"
    }
   ],
   "source": [
    "A.dcm(B)"
   ]
  },
  {
   "cell_type": "markdown",
   "metadata": {},
   "source": [
    "### Explicação do nome \"cossenos diretores\" (*Direction Cosine Matrix*)"
   ]
  },
  {
   "cell_type": "code",
   "execution_count": 74,
   "metadata": {},
   "outputs": [
    {
     "data": {
      "text/latex": [
       "$\\displaystyle 2 \\cos{\\left(q{\\left(t \\right)} \\right)} + 1$"
      ],
      "text/plain": [
       "2*cos(q(t)) + 1"
      ]
     },
     "execution_count": 74,
     "metadata": {},
     "output_type": "execute_result"
    }
   ],
   "source": [
    "aCb = A.dcm(B)\n",
    "aCb.trace()"
   ]
  },
  {
   "cell_type": "markdown",
   "metadata": {},
   "source": [
    "Identificaremos esta matriz de transformação como ${}^{A}C^{B}$, onde seus elementos são definidos por:\n",
    "$${}^{A}C^{B}_{ij} = \\hat{\\textbf{a}}_{i} \\cdot \\hat{\\textbf{b}}_{j} \\qquad (i,j=1,2,3)$$"
   ]
  },
  {
   "cell_type": "markdown",
   "metadata": {},
   "source": [
    "## 1.3. Rotações Sucessivas\n",
    "\n",
    "![Exemplo de Rotações Sucessivas](cubos.png)\n",
    "\n",
    "$${}^{A}C^{B} $$\n",
    "\n",
    "| | $\\hat{\\textbf{b}}_1$ | $\\hat{\\textbf{b}}_2$ | $\\hat{\\textbf{b}}_3$ |\n",
    "|---|---|---|---|\n",
    "|$\\hat{\\textbf{a}}_1$ | $1$ | $0$ | $0$ |\n",
    "|$\\hat{\\textbf{a}}_2$ | $0$ |  $cos (q_1)$ | $-sen (q_1)$ |\n",
    "|$\\hat{\\textbf{a}}_3$ | $0$ |$sen (q_1)$ | $cos (q_1)$ |\n",
    "\n",
    "\n",
    "\n",
    "$${}^{B}C^{C} $$\n",
    "\n",
    "| | $\\hat{\\textbf{c}}_1$ | $\\hat{\\textbf{c}}_2$ | $\\hat{\\textbf{c}}_3$ |\n",
    "|---|---|---|---|\n",
    "|$\\hat{\\textbf{b}}_1$ | $cos (q_2)$| $0$ | $sen (q_2)$|\n",
    "|$\\hat{\\textbf{b}}_2$ | $0$ |  $1$ | $0$ |\n",
    "|$\\hat{\\textbf{b}}_3$ | $$-sen (q_2)$$ |$0$ | $cos (q2)$ |\n",
    "\n",
    "\n",
    "\n",
    "$${}^{C}C^{D} $$\n",
    "\n",
    "| | $\\hat{\\textbf{d}}_1$ | $\\hat{\\textbf{d}}_2$ | $\\hat{\\textbf{d}}_3$ |\n",
    "|---|---|---|---|\n",
    "|$\\hat{\\textbf{c}}_1$ | $cos (q_3)$ | $-sen (q_3)$ | $0$ |\n",
    "|$\\hat{\\textbf{c}}_2$ | $sen (q_3)$|  $cos (q_3)$| $0$ |\n",
    "|$\\hat{\\textbf{c}}_3$ | $0$ |$0$ | $1$ |\n",
    "\n",
    "\n",
    "$${}^{A}C^{C} = {}^{A}C^{B} {}^{B}C^{C} $$\n",
    "\n",
    "$${}^{A}C^{D} = {}^{A}C^{B} {}^{B}C^{C} {}^{C}C^{D}$$"
   ]
  },
  {
   "cell_type": "code",
   "execution_count": 86,
   "metadata": {},
   "outputs": [],
   "source": [
    "q1,q2,q3 = me.dynamicsymbols('q_1 q_2 q_3')"
   ]
  },
  {
   "cell_type": "code",
   "execution_count": 87,
   "metadata": {},
   "outputs": [],
   "source": [
    "B.orient(A,'Axis',[q1,A.x])"
   ]
  },
  {
   "cell_type": "code",
   "execution_count": 88,
   "metadata": {},
   "outputs": [],
   "source": [
    "C = me.ReferenceFrame('C',indices=('1','2','3'))\n",
    "D = me.ReferenceFrame('D',indices=('1','2','3'))"
   ]
  },
  {
   "cell_type": "code",
   "execution_count": 89,
   "metadata": {},
   "outputs": [],
   "source": [
    "C.orient(B,'Axis',[q2,B.y])\n",
    "D.orient(C,'Axis',[q3,C.z])"
   ]
  },
  {
   "cell_type": "code",
   "execution_count": 90,
   "metadata": {
    "scrolled": true
   },
   "outputs": [
    {
     "data": {
      "text/latex": [
       "$\\displaystyle \\left[\\begin{matrix}\\cos{\\left(\\operatorname{q_{2}}{\\left(t \\right)} \\right)} \\cos{\\left(\\operatorname{q_{3}}{\\left(t \\right)} \\right)} & - \\sin{\\left(\\operatorname{q_{3}}{\\left(t \\right)} \\right)} \\cos{\\left(\\operatorname{q_{2}}{\\left(t \\right)} \\right)} & \\sin{\\left(\\operatorname{q_{2}}{\\left(t \\right)} \\right)}\\\\\\sin{\\left(\\operatorname{q_{1}}{\\left(t \\right)} \\right)} \\sin{\\left(\\operatorname{q_{2}}{\\left(t \\right)} \\right)} \\cos{\\left(\\operatorname{q_{3}}{\\left(t \\right)} \\right)} + \\sin{\\left(\\operatorname{q_{3}}{\\left(t \\right)} \\right)} \\cos{\\left(\\operatorname{q_{1}}{\\left(t \\right)} \\right)} & - \\sin{\\left(\\operatorname{q_{1}}{\\left(t \\right)} \\right)} \\sin{\\left(\\operatorname{q_{2}}{\\left(t \\right)} \\right)} \\sin{\\left(\\operatorname{q_{3}}{\\left(t \\right)} \\right)} + \\cos{\\left(\\operatorname{q_{1}}{\\left(t \\right)} \\right)} \\cos{\\left(\\operatorname{q_{3}}{\\left(t \\right)} \\right)} & - \\sin{\\left(\\operatorname{q_{1}}{\\left(t \\right)} \\right)} \\cos{\\left(\\operatorname{q_{2}}{\\left(t \\right)} \\right)}\\\\\\sin{\\left(\\operatorname{q_{1}}{\\left(t \\right)} \\right)} \\sin{\\left(\\operatorname{q_{3}}{\\left(t \\right)} \\right)} - \\sin{\\left(\\operatorname{q_{2}}{\\left(t \\right)} \\right)} \\cos{\\left(\\operatorname{q_{1}}{\\left(t \\right)} \\right)} \\cos{\\left(\\operatorname{q_{3}}{\\left(t \\right)} \\right)} & \\sin{\\left(\\operatorname{q_{1}}{\\left(t \\right)} \\right)} \\cos{\\left(\\operatorname{q_{3}}{\\left(t \\right)} \\right)} + \\sin{\\left(\\operatorname{q_{2}}{\\left(t \\right)} \\right)} \\sin{\\left(\\operatorname{q_{3}}{\\left(t \\right)} \\right)} \\cos{\\left(\\operatorname{q_{1}}{\\left(t \\right)} \\right)} & \\cos{\\left(\\operatorname{q_{1}}{\\left(t \\right)} \\right)} \\cos{\\left(\\operatorname{q_{2}}{\\left(t \\right)} \\right)}\\end{matrix}\\right]$"
      ],
      "text/plain": [
       "Matrix([\n",
       "[                                      cos(q_2(t))*cos(q_3(t)),                                       -sin(q_3(t))*cos(q_2(t)),              sin(q_2(t))],\n",
       "[sin(q_1(t))*sin(q_2(t))*cos(q_3(t)) + sin(q_3(t))*cos(q_1(t)), -sin(q_1(t))*sin(q_2(t))*sin(q_3(t)) + cos(q_1(t))*cos(q_3(t)), -sin(q_1(t))*cos(q_2(t))],\n",
       "[sin(q_1(t))*sin(q_3(t)) - sin(q_2(t))*cos(q_1(t))*cos(q_3(t)),  sin(q_1(t))*cos(q_3(t)) + sin(q_2(t))*sin(q_3(t))*cos(q_1(t)),  cos(q_1(t))*cos(q_2(t))]])"
      ]
     },
     "execution_count": 90,
     "metadata": {},
     "output_type": "execute_result"
    }
   ],
   "source": [
    "A.dcm(D)"
   ]
  },
  {
   "cell_type": "markdown",
   "metadata": {},
   "source": [
    "## 1.4. Funções Vetoriais\n",
    "\n",
    "\n",
    "Quando a magnitude do vetor $\\textbf{v}$ e/ou sua direção no sistema de referência $A$ dependem da variável escalar $q$, $\\textbf{v}$ é chamado de uma função vetorial de $q$ em $A$. Do contrário, $\\textbf{v}$ é dito como sendo independente em relação a $A$. \n",
    "\n",
    "![Função vetorial](funcvet1.png)\n",
    "\n",
    "No exemplo a cima: \n",
    "* $\\textbf{p}$ é dependente de $q_1$ e $q_2$ em $S$.\n",
    "* $\\textbf{r}$ é dependente de $q_3$ em $S$.\n",
    "* $\\textbf{q}$ é dependente de $q_1$, $q_2$ e $q_3$ em $S$. \n",
    "\n",
    "\n",
    "\n",
    "## 1.5. Vários Sistemas de Referência\n",
    "\n",
    "Um vetor $\\textbf{v}$ pode ser uma função de uma variável $q$ em um sistema de referência, mas ser independente de $q$ em outro sistema de referência. \n",
    "\n",
    "Exemplo: \n",
    "\n",
    "![Giroscópio](giro01.png)\n",
    "\n",
    "$\\textbf{p}$ é uma função de $q_1$ em $A$ e em $B$, mas é independente de $q_1$ em $C$. $\\textbf{p}$ é uma função de $q_2$ em $A$ mas independente de $q_2$ em $B$ e em $C$. E $\\textbf{p}$ é independente de $q_3$ em $A$, $B$ e $C$, mas é uma função de $q_3$ no sistema de referência $D$. "
   ]
  },
  {
   "cell_type": "code",
   "execution_count": 14,
   "metadata": {},
   "outputs": [
    {
     "data": {
      "text/html": [
       "<video src=\"giro.mp4\" controls  width=\"720\" >\n",
       "      Your browser does not support the <code>video</code> element.\n",
       "    </video>"
      ],
      "text/plain": [
       "<IPython.core.display.Video object>"
      ]
     },
     "execution_count": 14,
     "metadata": {},
     "output_type": "execute_result"
    }
   ],
   "source": [
    "from IPython.display import Video\n",
    "Video('giro.mp4', width = 720)"
   ]
  },
  {
   "cell_type": "code",
   "execution_count": 92,
   "metadata": {},
   "outputs": [],
   "source": [
    "import sympy as sy\n",
    "R = sy.symbols('R')"
   ]
  },
  {
   "cell_type": "code",
   "execution_count": 93,
   "metadata": {},
   "outputs": [],
   "source": [
    "D = me.ReferenceFrame('D',indices=('1','2','3'))\n",
    "C = me.ReferenceFrame('C',indices=('1','2','3'))\n",
    "B = me.ReferenceFrame('B',indices=('1','2','3'))\n",
    "A = me.ReferenceFrame('A',indices=('1','2','3'))\n",
    "A.orient(D,'Axis',[q3,D.z])\n",
    "B.orient(A,'Axis',[q2,A.y])\n",
    "C.orient(B,'Axis',[q1,B.z])"
   ]
  },
  {
   "cell_type": "code",
   "execution_count": 113,
   "metadata": {},
   "outputs": [
    {
     "data": {
      "text/latex": [
       "$\\displaystyle R\\mathbf{\\hat{c}_{2}}$"
      ],
      "text/plain": [
       "R*C['2']"
      ]
     },
     "execution_count": 113,
     "metadata": {},
     "output_type": "execute_result"
    }
   ],
   "source": [
    "p = R*C.y\n",
    "p"
   ]
  },
  {
   "cell_type": "code",
   "execution_count": 114,
   "metadata": {},
   "outputs": [
    {
     "data": {
      "text/latex": [
       "$\\displaystyle -  R \\operatorname{sin}\\left(q_{1}\\right) \\operatorname{cos}\\left(q_{2}\\right)\\mathbf{\\hat{a}_{1}} + R \\operatorname{cos}\\left(q_{1}\\right)\\mathbf{\\hat{a}_{2}} + R \\operatorname{sin}\\left(q_{1}\\right) \\operatorname{sin}\\left(q_{2}\\right)\\mathbf{\\hat{a}_{3}}$"
      ],
      "text/plain": [
       "- R*sin(q_1)*cos(q_2)*A['1'] + R*cos(q_1)*A['2'] + R*sin(q_1)*sin(q_2)*A['3']"
      ]
     },
     "execution_count": 114,
     "metadata": {},
     "output_type": "execute_result"
    }
   ],
   "source": [
    "p.express(A)"
   ]
  },
  {
   "cell_type": "markdown",
   "metadata": {},
   "source": [
    "## 1.6. Funções Escalares"
   ]
  },
  {
   "cell_type": "markdown",
   "metadata": {},
   "source": [
    "Dado um sistema de referência $A$ e uma função vetorial $\\textbf{v}$ de $n$ variáveis escalares $q_1,...,q_n$ em $A$, seja $\\hat{\\textbf{a}}_1,\\hat{\\textbf{a}}_2,\\hat{\\textbf{a}}_3$ um conjunto de vetores unitários não-paralelos, não-planares (mas não necessariamente mutuamente perpendiculares) fixados em $A$. Então existem três funções escalares únicas $v_1,v_2,v_3$ de $q_1,...,q_n$ tal que:\n",
    "$$ \\textbf{v} = v_1 \\hat{\\textbf{a}}_1 + v_2 \\hat{\\textbf{a}}_2 + v_3 \\hat{\\textbf{a}}_3 $$\n",
    "\n",
    "O vetor $v_i \\hat{\\textbf{a}}_i$ é chamado de componente de $\\textbf{v}$ em $\\hat{\\textbf{a}}_i$, e $v_i$ é a magnitude de $\\textbf{v}$ em $\\hat{\\textbf{a}}_i$ <br>\n",
    "Quando $\\hat{\\textbf{a}}_1,\\hat{\\textbf{a}}_2,\\hat{\\textbf{a}}_3$ são mutuamente perpendiculares e unitários:\n",
    "$$v_i = \\textbf{v} \\cdot \\hat{\\textbf{a}}_i \\qquad (i=1,2,3)$$\n",
    "\n",
    "\n",
    "Logo:\n",
    "$$\\textbf{v} = \\textbf{v} \\cdot \\hat{\\textbf{a}}_1 \\hat{\\textbf{a}}_1 + \\textbf{v} \\cdot \\hat{\\textbf{a}}_2 \\hat{\\textbf{a}}_2 + \\textbf{v} \\cdot \\hat{\\textbf{a}}_3 \\hat{\\textbf{a}}_3 $$"
   ]
  },
  {
   "cell_type": "code",
   "execution_count": 19,
   "metadata": {},
   "outputs": [],
   "source": [
    "v1,v2,v3 = sy.symbols('v_1 v_2 v_3')"
   ]
  },
  {
   "cell_type": "code",
   "execution_count": 20,
   "metadata": {},
   "outputs": [
    {
     "data": {
      "text/latex": [
       "$\\displaystyle v_{1}\\mathbf{\\hat{a}_{1}} + v_{2}\\mathbf{\\hat{a}_{2}} + v_{3}\\mathbf{\\hat{a}_{3}}$"
      ],
      "text/plain": [
       "v_1*A['1'] + v_2*A['2'] + v_3*A['3']"
      ]
     },
     "execution_count": 20,
     "metadata": {},
     "output_type": "execute_result"
    }
   ],
   "source": [
    "v = v1*A.x + v2*A.y + v3*A.z \n",
    "v"
   ]
  },
  {
   "cell_type": "code",
   "execution_count": 21,
   "metadata": {},
   "outputs": [
    {
     "data": {
      "text/latex": [
       "$\\displaystyle v_{1}$"
      ],
      "text/plain": [
       "v_1"
      ]
     },
     "execution_count": 21,
     "metadata": {},
     "output_type": "execute_result"
    }
   ],
   "source": [
    "me.dot(v,A.x)"
   ]
  },
  {
   "cell_type": "markdown",
   "metadata": {},
   "source": [
    "Ou:"
   ]
  },
  {
   "cell_type": "code",
   "execution_count": 22,
   "metadata": {},
   "outputs": [
    {
     "data": {
      "text/latex": [
       "$\\displaystyle v_{1}$"
      ],
      "text/plain": [
       "v_1"
      ]
     },
     "execution_count": 22,
     "metadata": {},
     "output_type": "execute_result"
    }
   ],
   "source": [
    "v.dot(A.x)"
   ]
  },
  {
   "cell_type": "code",
   "execution_count": 23,
   "metadata": {},
   "outputs": [
    {
     "data": {
      "text/latex": [
       "$\\displaystyle v_{1}\\mathbf{\\hat{a}_{1}}$"
      ],
      "text/plain": [
       "v_1*A['1']"
      ]
     },
     "execution_count": 23,
     "metadata": {},
     "output_type": "execute_result"
    }
   ],
   "source": [
    "v.dot(A.x)*A.x"
   ]
  },
  {
   "cell_type": "code",
   "execution_count": 118,
   "metadata": {},
   "outputs": [
    {
     "data": {
      "text/latex": [
       "$\\displaystyle v_{1}$"
      ],
      "text/plain": [
       "v_1"
      ]
     },
     "execution_count": 118,
     "metadata": {},
     "output_type": "execute_result"
    }
   ],
   "source": [
    "v.args[0][0][0]"
   ]
  },
  {
   "cell_type": "code",
   "execution_count": 25,
   "metadata": {},
   "outputs": [
    {
     "data": {
      "text/latex": [
       "$\\displaystyle \\left[\\begin{matrix}v_{1}\\\\v_{2}\\\\v_{3}\\end{matrix}\\right]$"
      ],
      "text/plain": [
       "Matrix([\n",
       "[v_1],\n",
       "[v_2],\n",
       "[v_3]])"
      ]
     },
     "execution_count": 25,
     "metadata": {},
     "output_type": "execute_result"
    }
   ],
   "source": [
    "v.args[0][0]"
   ]
  },
  {
   "cell_type": "markdown",
   "metadata": {},
   "source": [
    "## 1.7. Derivadas de Primeira Ordem\n",
    "\n",
    "$$\\dfrac{{}^A \\partial \\textbf{v}}{\\partial q_r}$$  \n",
    "ou  \n",
    "$$\\dfrac{{}^A \\partial}{\\partial q_r}(\\textbf{v})$$  \n",
    "ou  \n",
    "$${}^A \\partial \\textbf{v}/\\partial{q}_r \\qquad (r=1,...,n)$$  \n",
    "\n",
    "\n",
    "\n",
    "\n",
    "Definição: \n",
    "$$\\dfrac{{}^{A}\\partial \\textbf{v}}{\\partial q_r} = \\sum^{3}_{i=3} \\dfrac{\\partial v_i}{\\partial q_r} \\hat{\\textbf{a}}_i $$"
   ]
  },
  {
   "cell_type": "markdown",
   "metadata": {},
   "source": [
    "![Rotação Simples](RefMov07letras.svg)"
   ]
  },
  {
   "cell_type": "code",
   "execution_count": 124,
   "metadata": {},
   "outputs": [],
   "source": [
    "A = me.ReferenceFrame('A',indices = ('1','2','3'))\n",
    "B = me.ReferenceFrame('B',indices = ('1','2','3'))\n",
    "B.orient(A,'Axis',[q1,A.x])"
   ]
  },
  {
   "cell_type": "code",
   "execution_count": 125,
   "metadata": {},
   "outputs": [
    {
     "data": {
      "text/latex": [
       "$\\displaystyle \\alpha_{1}\\mathbf{\\hat{b}_{1}} + \\alpha_{2}\\mathbf{\\hat{b}_{2}} + \\alpha_{3}\\mathbf{\\hat{b}_{3}}$"
      ],
      "text/plain": [
       "alpha_1*B['1'] + alpha_2*B['2'] + alpha_3*B['3']"
      ]
     },
     "execution_count": 125,
     "metadata": {},
     "output_type": "execute_result"
    }
   ],
   "source": [
    "alfa1,alfa2,alfa3 = sy.symbols('alpha_1 alpha_2 alpha_3')\n",
    "p = alfa1*B.x + alfa2*B.y + alfa3*B.z\n",
    "p"
   ]
  },
  {
   "cell_type": "code",
   "execution_count": 131,
   "metadata": {},
   "outputs": [
    {
     "data": {
      "text/latex": [
       "$\\displaystyle (\\left(- \\alpha_{2} \\operatorname{sin}\\left(q_{1}\\right) - \\alpha_{3} \\operatorname{cos}\\left(q_{1}\\right)\\right) \\operatorname{cos}\\left(q_{1}\\right) + \\left(\\alpha_{2} \\operatorname{cos}\\left(q_{1}\\right) - \\alpha_{3} \\operatorname{sin}\\left(q_{1}\\right)\\right) \\operatorname{sin}\\left(q_{1}\\right))\\mathbf{\\hat{b}_{2}} + (- \\left(- \\alpha_{2} \\operatorname{sin}\\left(q_{1}\\right) - \\alpha_{3} \\operatorname{cos}\\left(q_{1}\\right)\\right) \\operatorname{sin}\\left(q_{1}\\right) + \\left(\\alpha_{2} \\operatorname{cos}\\left(q_{1}\\right) - \\alpha_{3} \\operatorname{sin}\\left(q_{1}\\right)\\right) \\operatorname{cos}\\left(q_{1}\\right))\\mathbf{\\hat{b}_{3}}$"
      ],
      "text/plain": [
       "((-alpha_2*sin(q_1) - alpha_3*cos(q_1))*cos(q_1) + (alpha_2*cos(q_1) - alpha_3*sin(q_1))*sin(q_1))*B['2'] + (-(-alpha_2*sin(q_1) - alpha_3*cos(q_1))*sin(q_1) + (alpha_2*cos(q_1) - alpha_3*sin(q_1))*cos(q_1))*B['3']"
      ]
     },
     "execution_count": 131,
     "metadata": {},
     "output_type": "execute_result"
    }
   ],
   "source": [
    "p.diff(q1,A)"
   ]
  },
  {
   "cell_type": "code",
   "execution_count": 29,
   "metadata": {},
   "outputs": [
    {
     "data": {
      "text/latex": [
       "$\\displaystyle \\alpha_{1}\\mathbf{\\hat{a}_{1}} + (\\alpha_{2} \\operatorname{cos}\\left(q_{1}\\right) - \\alpha_{3} \\operatorname{sin}\\left(q_{1}\\right))\\mathbf{\\hat{a}_{2}} + (\\alpha_{2} \\operatorname{sin}\\left(q_{1}\\right) + \\alpha_{3} \\operatorname{cos}\\left(q_{1}\\right))\\mathbf{\\hat{a}_{3}}$"
      ],
      "text/plain": [
       "alpha_1*A['1'] + (alpha_2*cos(q_1) - alpha_3*sin(q_1))*A['2'] + (alpha_2*sin(q_1) + alpha_3*cos(q_1))*A['3']"
      ]
     },
     "execution_count": 29,
     "metadata": {},
     "output_type": "execute_result"
    }
   ],
   "source": [
    "p.express(A)"
   ]
  },
  {
   "cell_type": "code",
   "execution_count": 30,
   "metadata": {},
   "outputs": [
    {
     "data": {
      "text/latex": [
       "$\\displaystyle 0$"
      ],
      "text/plain": [
       "0"
      ]
     },
     "execution_count": 30,
     "metadata": {},
     "output_type": "execute_result"
    }
   ],
   "source": [
    "p.diff(q1,B)"
   ]
  },
  {
   "cell_type": "code",
   "execution_count": 31,
   "metadata": {},
   "outputs": [
    {
     "data": {
      "text/latex": [
       "$\\displaystyle \\alpha_{1}\\mathbf{\\hat{b}_{1}} + \\alpha_{2}\\mathbf{\\hat{b}_{2}} + \\alpha_{3}\\mathbf{\\hat{b}_{3}}$"
      ],
      "text/plain": [
       "alpha_1*B['1'] + alpha_2*B['2'] + alpha_3*B['3']"
      ]
     },
     "execution_count": 31,
     "metadata": {},
     "output_type": "execute_result"
    }
   ],
   "source": [
    "p.express(B)"
   ]
  },
  {
   "cell_type": "markdown",
   "metadata": {},
   "source": [
    "$$ \\dfrac{{}^{A}d \\textbf{v}}{dt} = \\sum^{3}_{i=1} \\dfrac{dv_i}{dt}\\hat{\\textbf{a}}_i$$"
   ]
  },
  {
   "cell_type": "code",
   "execution_count": 32,
   "metadata": {},
   "outputs": [],
   "source": [
    "t = me.dynamicsymbols._t"
   ]
  },
  {
   "cell_type": "code",
   "execution_count": 136,
   "metadata": {
    "scrolled": true
   },
   "outputs": [
    {
     "data": {
      "text/latex": [
       "$\\displaystyle -  \\alpha_{3} \\dot{q}_{1}\\mathbf{\\hat{b}_{2}} + \\alpha_{2} \\dot{q}_{1}\\mathbf{\\hat{b}_{3}}$"
      ],
      "text/plain": [
       "- alpha_3*q_1'*B['2'] + alpha_2*q_1'*B['3']"
      ]
     },
     "execution_count": 136,
     "metadata": {},
     "output_type": "execute_result"
    }
   ],
   "source": [
    "p.diff(t,A).simplify()"
   ]
  },
  {
   "cell_type": "code",
   "execution_count": 34,
   "metadata": {},
   "outputs": [
    {
     "data": {
      "text/latex": [
       "$\\displaystyle -  \\alpha_{3} \\dot{q}_{1}\\mathbf{\\hat{b}_{2}} + \\alpha_{2} \\dot{q}_{1}\\mathbf{\\hat{b}_{3}}$"
      ],
      "text/plain": [
       "- alpha_3*q_1'*B['2'] + alpha_2*q_1'*B['3']"
      ]
     },
     "execution_count": 34,
     "metadata": {},
     "output_type": "execute_result"
    }
   ],
   "source": [
    "p.dt(A)"
   ]
  },
  {
   "cell_type": "code",
   "execution_count": 137,
   "metadata": {},
   "outputs": [
    {
     "data": {
      "text/latex": [
       "$\\displaystyle 0$"
      ],
      "text/plain": [
       "0"
      ]
     },
     "execution_count": 137,
     "metadata": {},
     "output_type": "execute_result"
    }
   ],
   "source": [
    "p.diff(t,B)"
   ]
  },
  {
   "cell_type": "code",
   "execution_count": 36,
   "metadata": {},
   "outputs": [
    {
     "data": {
      "text/latex": [
       "$\\displaystyle 0$"
      ],
      "text/plain": [
       "0"
      ]
     },
     "execution_count": 36,
     "metadata": {},
     "output_type": "execute_result"
    }
   ],
   "source": [
    "p.dt(B)"
   ]
  },
  {
   "cell_type": "markdown",
   "metadata": {},
   "source": [
    "## 1.8. Representação das Derivadas\n",
    "\n",
    "É importante destacar a diferença entre o sistema de referêncial na qual o vetor está sendo derivado e a base vetorial na qual ele está sendo representado. "
   ]
  },
  {
   "cell_type": "code",
   "execution_count": 37,
   "metadata": {},
   "outputs": [
    {
     "data": {
      "text/latex": [
       "$\\displaystyle (- \\alpha_{2} \\operatorname{sin}\\left(q_{1}\\right) \\dot{q}_{1} - \\alpha_{3} \\operatorname{cos}\\left(q_{1}\\right) \\dot{q}_{1})\\mathbf{\\hat{a}_{2}} + (\\alpha_{2} \\operatorname{cos}\\left(q_{1}\\right) \\dot{q}_{1} - \\alpha_{3} \\operatorname{sin}\\left(q_{1}\\right) \\dot{q}_{1})\\mathbf{\\hat{a}_{3}}$"
      ],
      "text/plain": [
       "(-alpha_2*sin(q_1)*q_1' - alpha_3*cos(q_1)*q_1')*A['2'] + (alpha_2*cos(q_1)*q_1' - alpha_3*sin(q_1)*q_1')*A['3']"
      ]
     },
     "execution_count": 37,
     "metadata": {},
     "output_type": "execute_result"
    }
   ],
   "source": [
    "p.dt(A).express(A)"
   ]
  },
  {
   "cell_type": "code",
   "execution_count": 38,
   "metadata": {},
   "outputs": [
    {
     "data": {
      "text/latex": [
       "$\\displaystyle -  \\alpha_{3} \\dot{q}_{1}\\mathbf{\\hat{b}_{2}} + \\alpha_{2} \\dot{q}_{1}\\mathbf{\\hat{b}_{3}}$"
      ],
      "text/plain": [
       "- alpha_3*q_1'*B['2'] + alpha_2*q_1'*B['3']"
      ]
     },
     "execution_count": 38,
     "metadata": {},
     "output_type": "execute_result"
    }
   ],
   "source": [
    "p.dt(A).express(B)"
   ]
  },
  {
   "cell_type": "code",
   "execution_count": 144,
   "metadata": {},
   "outputs": [
    {
     "data": {
      "text/latex": [
       "$\\displaystyle 0$"
      ],
      "text/plain": [
       "0"
      ]
     },
     "execution_count": 144,
     "metadata": {},
     "output_type": "execute_result"
    }
   ],
   "source": [
    "(p.dt(A).express(A) - p.dt(A).express(B)).express(A).simplify()"
   ]
  },
  {
   "cell_type": "markdown",
   "metadata": {},
   "source": [
    "## 1.9. Notação para as Derivadas\n",
    "\n",
    "Vimos que é muito importante expressar em qual sistema de referência a derivada está sendo operada. Só é despensada a indicação do sistema de referência quando fica muito claro pelo contexto qual é o sistema em que a derivada é efetuada, ou se houver apenas um sistema no problema. "
   ]
  },
  {
   "cell_type": "markdown",
   "metadata": {},
   "source": [
    "## 1.10. Diferenciação de Somas e Produtos\n",
    "\n",
    "Considere que $\\textbf{v}_1,...,\\textbf{v}_N$ são vetores em função das variáveis escalares $q_1,...,q_n$ em algum sistema de referência. \n",
    "\n",
    "$$\\dfrac{\\partial}{\\partial q_r} \\sum^{N}_{i=1} \\textbf{v}_i = \\sum^{N}_{i=1} \\dfrac{\\partial \\textbf{v}_{i}}{\\partial q_r} \\qquad (r=1,...,n)$$  \n",
    "\n",
    "\n",
    "Se $s$ é uma função escalar de $q_1,...,q_n$ e $\\textbf{v}$ e $\\textbf{w}$ são funções vetoriais dessas variáveis em algum sistema de referência, então: \n",
    "$$\\dfrac{\\partial}{\\partial q_r}(s \\textbf{v}) = \\dfrac{\\partial s}{\\partial q_r} \\textbf{v} + s \\dfrac{\\partial \\textbf{v}}{\\partial q_r} \\qquad (r=1,...,n)$$\n",
    "$$\\dfrac{\\partial}{\\partial q_r}(\\textbf{v} \\cdot \\textbf{w}) = \\dfrac{\\partial \\textbf{v}}{\\partial q_r} \\cdot \\textbf{w} + \\textbf{v} \\cdot \\dfrac{\\partial \\textbf{w}}{\\partial q_r} \\qquad (r=1,...,n)$$\n",
    "$$\\dfrac{\\partial}{\\partial q_r}(\\textbf{v} \\times \\textbf{w}) = \\dfrac{\\partial \\textbf{v}}{\\partial q_r} \\times \\textbf{w} + \\textbf{v} \\times \\dfrac{\\partial \\textbf{w}}{\\partial q_r} \\qquad (r=1,...,n)$$"
   ]
  },
  {
   "cell_type": "code",
   "execution_count": 161,
   "metadata": {},
   "outputs": [],
   "source": [
    "q1 = sy.symbols('q1')\n",
    "v1 = sy.Function('v1')(q1)\n",
    "v2 = sy.Function('v2')(q1)\n",
    "v3 = sy.Function('v3')(q1)\n",
    "w1 = sy.Function('w1')(q1)\n",
    "w2 = sy.Function('w2')(q1)\n",
    "w3 = sy.Function('w3')(q1)\n",
    "s = sy.Function('s')(q1)\n",
    "v = v1*A.x + v2*A.y + v3*A.z\n",
    "w = w1*A.x + w2*A.y + w3*A.z"
   ]
  },
  {
   "cell_type": "code",
   "execution_count": 164,
   "metadata": {},
   "outputs": [
    {
     "data": {
      "text/latex": [
       "$\\displaystyle \\frac{d}{d q_{1}} s{\\left(q_{1} \\right)}$"
      ],
      "text/plain": [
       "Derivative(s(q1), q1)"
      ]
     },
     "execution_count": 164,
     "metadata": {},
     "output_type": "execute_result"
    }
   ],
   "source": [
    "sy.diff(s,q1)\n",
    "s.diff(q1)"
   ]
  },
  {
   "cell_type": "code",
   "execution_count": 167,
   "metadata": {},
   "outputs": [
    {
     "data": {
      "text/latex": [
       "$\\displaystyle 0$"
      ],
      "text/plain": [
       "0"
      ]
     },
     "execution_count": 167,
     "metadata": {},
     "output_type": "execute_result"
    }
   ],
   "source": [
    "sy.diff(s*v,q1,A) - sy.diff(s,q1)*v - s*sy.diff(v,q1,A)"
   ]
  },
  {
   "cell_type": "code",
   "execution_count": 168,
   "metadata": {},
   "outputs": [
    {
     "data": {
      "text/latex": [
       "$\\displaystyle \\operatorname{v_{1}}{\\left(q_{1} \\right)} \\operatorname{w_{1}}{\\left(q_{1} \\right)} + \\operatorname{v_{2}}{\\left(q_{1} \\right)} \\operatorname{w_{2}}{\\left(q_{1} \\right)} + \\operatorname{v_{3}}{\\left(q_{1} \\right)} \\operatorname{w_{3}}{\\left(q_{1} \\right)}$"
      ],
      "text/plain": [
       "v1(q1)*w1(q1) + v2(q1)*w2(q1) + v3(q1)*w3(q1)"
      ]
     },
     "execution_count": 168,
     "metadata": {},
     "output_type": "execute_result"
    }
   ],
   "source": [
    "v.dot(w)\n",
    "me.dot(v,w)"
   ]
  },
  {
   "cell_type": "code",
   "execution_count": 169,
   "metadata": {},
   "outputs": [
    {
     "data": {
      "text/latex": [
       "$\\displaystyle 0$"
      ],
      "text/plain": [
       "0"
      ]
     },
     "execution_count": 169,
     "metadata": {},
     "output_type": "execute_result"
    }
   ],
   "source": [
    "sy.diff(v.dot(w),q1) - sy.diff(v,q1,A).dot(w) - v.dot(sy.diff(w,q1,A))"
   ]
  },
  {
   "cell_type": "code",
   "execution_count": 159,
   "metadata": {},
   "outputs": [
    {
     "data": {
      "text/latex": [
       "$\\displaystyle (\\operatorname{v2}\\left(q_{1}\\right) \\operatorname{w3}\\left(q_{1}\\right) - \\operatorname{v3}\\left(q_{1}\\right) \\operatorname{w2}\\left(q_{1}\\right))\\mathbf{\\hat{a}_{1}} + (- \\operatorname{v1}\\left(q_{1}\\right) \\operatorname{w3}\\left(q_{1}\\right) + \\operatorname{v3}\\left(q_{1}\\right) \\operatorname{w1}\\left(q_{1}\\right))\\mathbf{\\hat{a}_{2}} + (\\operatorname{v1}\\left(q_{1}\\right) \\operatorname{w2}\\left(q_{1}\\right) - \\operatorname{v2}\\left(q_{1}\\right) \\operatorname{w1}\\left(q_{1}\\right))\\mathbf{\\hat{a}_{3}}$"
      ],
      "text/plain": [
       "(v2(q1)*w3(q1) - v3(q1)*w2(q1))*A['1'] + (-v1(q1)*w3(q1) + v3(q1)*w1(q1))*A['2'] + (v1(q1)*w2(q1) - v2(q1)*w1(q1))*A['3']"
      ]
     },
     "execution_count": 159,
     "metadata": {},
     "output_type": "execute_result"
    }
   ],
   "source": [
    "v.cross(w)\n",
    "me.cross(v,w)"
   ]
  },
  {
   "cell_type": "code",
   "execution_count": 170,
   "metadata": {},
   "outputs": [
    {
     "data": {
      "text/latex": [
       "$\\displaystyle 0$"
      ],
      "text/plain": [
       "0"
      ]
     },
     "execution_count": 170,
     "metadata": {},
     "output_type": "execute_result"
    }
   ],
   "source": [
    "sy.diff(v.cross(w),q1,A) - sy.diff(v,q1,A).cross(w) - v.cross(sy.diff(w,q1,A))"
   ]
  },
  {
   "cell_type": "markdown",
   "metadata": {},
   "source": [
    "## 1.11. Derivadas de Segunda Ordem\n",
    "Em geral, ${}^{A}\\partial \\textbf{v} / \\partial q_r $ é uma função vetorial de $q_1,...,q_n$ tanto em $A$ quanto em um outro sistema de referência $B$, e portanto, pode ser derivado com respeito a $q_1,...,q_n$ tanto em $A$ quanto em $B$. \n",
    "$$ \\dfrac{{}^{B} \\partial}{\\partial q_r}\\left( \\dfrac{{}^{A} \\partial \\textbf{v}}{\\partial q_r} \\right) \\neq \\dfrac{{}^{A} \\partial}{\\partial q_r}\\left( \\dfrac{{}^{B} \\partial \\textbf{v}}{\\partial q_r} \\right) \\qquad (r,s=1,...,n)$$\n",
    "\n",
    "e\n",
    "\n",
    "$$\\dfrac{{}^{B} d}{d t}\\left( \\dfrac{{}^{A} d \\textbf{v}}{d t} \\right) \\neq \\dfrac{{}^{A} d}{d t}\\left( \\dfrac{{}^{B} d \\textbf{v}}{d t} \\right)$$\n",
    "\n",
    "No entanto, se todas as derivadas forem feitas em relação a um mesmo sistema de referência, a ordem das derivadas não importa:\n",
    "\n",
    "$$\\dfrac{\\partial}{\\partial q_s} \\left(\\dfrac{\\partial \\textbf{v}}{\\partial q_r}\\right) = \\dfrac{\\partial}{\\partial q_r} \\left(\\dfrac{\\partial \\textbf{v}}{\\partial q_s}\\right) \\qquad (r,s=1,...,n)$$\n",
    "\n",
    "e\n",
    "\n",
    "$$\\dfrac{\\partial}{\\partial t}\\left( \\dfrac{\\partial \\textbf{v}}{\\partial q_r} \\right) = \\dfrac{\\partial}{\\partial q_r} \\left( \\dfrac{\\partial \\textbf{v}}{\\partial t} \\right) \\qquad (r=1,...,n)$$"
   ]
  },
  {
   "cell_type": "code",
   "execution_count": 176,
   "metadata": {},
   "outputs": [
    {
     "data": {
      "text/latex": [
       "$\\displaystyle \\frac{d^{2}}{d q_{1}^{2}} \\operatorname{v_{1}}{\\left(q_{1} \\right)}\\mathbf{\\hat{a}_{1}} + \\frac{d^{2}}{d q_{1}^{2}} \\operatorname{v_{2}}{\\left(q_{1} \\right)}\\mathbf{\\hat{a}_{2}} + \\frac{d^{2}}{d q_{1}^{2}} \\operatorname{v_{3}}{\\left(q_{1} \\right)}\\mathbf{\\hat{a}_{3}}$"
      ],
      "text/plain": [
       "Derivative(v1(q1), (q1, 2))*A['1'] + Derivative(v2(q1), (q1, 2))*A['2'] + Derivative(v3(q1), (q1, 2))*A['3']"
      ]
     },
     "execution_count": 176,
     "metadata": {},
     "output_type": "execute_result"
    }
   ],
   "source": [
    "v.diff(q1,A).diff(q1,A)"
   ]
  },
  {
   "cell_type": "markdown",
   "metadata": {},
   "source": [
    "## 1.12. Derivadas Parciais e Totais\n",
    "\n",
    "Se $q_1,...,q_n$ são funções escalares de uma única variável $t$, torna-se conveniente expressar o vetor $\\textbf{v}$ como uma função vetorial de $n+1$ variáveis independentes $q_1,...q_n$ e $t$ em um sistema de referência $A$. \n",
    "\n",
    "$$ \\dfrac{{}^A d \\textbf{v}}{d t} = \\sum^{n}_{r=1} \\dfrac{{}^A \\partial\\textbf{v}}{\\partial q_r} \\dot{q}_r + \\dfrac{{}^{A} \\partial \\textbf{v}}{\\partial t} $$\n",
    "\n",
    "Observa-se que:\n",
    "\n",
    "$$\\dfrac{d}{dt} \\dfrac{\\partial \\textbf{v}}{\\partial q_r} = \\dfrac{\\partial}{\\partial q_r} \\dfrac{d \\textbf{v}}{dt} \\qquad (r=1,...,n) $$"
   ]
  },
  {
   "cell_type": "markdown",
   "metadata": {},
   "source": [
    "## 1.13 Funções Escalares de Vetores\n",
    "\n",
    "Uma variável escalar pode, em alguns casos, ser considerada como uma função de variáveis vetoriais. Como por exemplo: $s = \\textbf{v} \\cdot \\textbf{w}$. De modo similar: $r = \\textbf{a} \\cdot (\\textbf{b} \\times \\textbf{c})$. Podemos expressar a derivada temporal de $s$ como:\n",
    "\n",
    "$$\\dfrac{d s}{d t} = \\sum^{n}_{i=1} \\dfrac{\\partial s}{\\partial \\textbf{v}_{i}} \\cdot \\dfrac{d \\textbf{v}_{i}}{d t} + \\dfrac{\\partial s}{\\partial t}$$"
   ]
  }
 ],
 "metadata": {
  "kernelspec": {
   "display_name": "Python 3",
   "language": "python",
   "name": "python3"
  },
  "language_info": {
   "codemirror_mode": {
    "name": "ipython",
    "version": 3
   },
   "file_extension": ".py",
   "mimetype": "text/x-python",
   "name": "python",
   "nbconvert_exporter": "python",
   "pygments_lexer": "ipython3",
   "version": "3.8.5"
  }
 },
 "nbformat": 4,
 "nbformat_minor": 4
}
