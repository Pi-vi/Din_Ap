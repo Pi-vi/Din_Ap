{
 "cells": [
  {
   "cell_type": "markdown",
   "metadata": {
    "slideshow": {
     "slide_type": "slide"
    }
   },
   "source": [
    "# Dinâmica Aplicada\n",
    "Professor Paulo Victor <br>\n",
    "E-mail: paulo.gomes@cefet-rj.br <br>\n",
    "CEFET-RJ Campus Angra dos Reis Sala 6E"
   ]
  },
  {
   "cell_type": "markdown",
   "metadata": {
    "slideshow": {
     "slide_type": "slide"
    }
   },
   "source": [
    "## Ementa:\n",
    "\n",
    "1. [Diferenciação de Vetores](DinAp01.ipynb)\n",
    "2. [Cinemática](DinAp02.ipynb)\n",
    "3. [Restrições Cinemáticas](DinAp03.ipynb)\n",
    "4. [Distribuição de Massa](DinAp04.ipynb)\n",
    "5. [Forças Generalizadas](DinAp05.ipynb)\n",
    "6. [Formulação das Equações de Movimento](DinAp06.ipynb)\n",
    "7. [Extraindo Informações das Equações de Movimento](DinAp07.ipynb)\n",
    "8. [Dinâmica Computacional](DinAp08.ipynb)"
   ]
  },
  {
   "cell_type": "markdown",
   "metadata": {
    "slideshow": {
     "slide_type": "slide"
    }
   },
   "source": [
    "## Objetivos Gerais:\n",
    "\n",
    "Apresentar a modelagem, análise e simulação da dinâmica de sistemas mecânicos de vários corpos por meio do Método de Kane, permitindo ao aluno o estudo da dinâmica de sistemas complexos."
   ]
  },
  {
   "cell_type": "markdown",
   "metadata": {
    "slideshow": {
     "slide_type": "slide"
    }
   },
   "source": [
    "## Bibliografia Básica:\n",
    "\n",
    "* ROITHMAYR, Carlos M.; HODGES, Dewey H. Dynamics: Theory and Application of Kane’s Method. Cambridge University Press, 2016.\n",
    "* [KANE, Thomas R.; LEVINSON, David A. Dynamics, theory and applications. McGraw Hill, 1985.](https://www.ecommons.cornell.edu/handle/1813/638)\n",
    "* [KANE, Thomas R.; LIKINS, Peter W.; LEVINSON, David A. Spacecraft dynamics. New York, McGraw-Hill Book Co, 1983.](https://ecommons.cornell.edu/handle/1813/637)"
   ]
  },
  {
   "cell_type": "markdown",
   "metadata": {
    "slideshow": {
     "slide_type": "fragment"
    }
   },
   "source": [
    "\n",
    "## Bibliografia Complementar:\n",
    "\n",
    "* LESSER, Martin. The Analysis of Complex Nonlinear Mechanical Systems: A Computer Algebra Assisted Approach. World Scientific Publishing Company, 1995.\n",
    "* NORTON, Robert L. Cinemática e dinâmica dos mecanismos. AMGH Editora, 2010.\n"
   ]
  },
  {
   "cell_type": "markdown",
   "metadata": {
    "slideshow": {
     "slide_type": "slide"
    }
   },
   "source": [
    "\n",
    "## Avaliação:\n",
    "\n",
    "Trabalhos\n",
    "\n",
    "\n",
    "### Datas Importantes:\n",
    "\n",
    "* Período de Trancamento:\n",
    " > até 15/03\n",
    "* Avaliações:\n",
    "\n",
    " >P1: 24/04 <br>\n",
    " >P2: 19/06 <br>\n",
    " >P3: 10/07"
   ]
  },
  {
   "cell_type": "markdown",
   "metadata": {},
   "source": [
    "[Avançar para o próximo capítulo](DinAp01.ipynb)"
   ]
  }
 ],
 "metadata": {
  "kernelspec": {
   "display_name": "Python 3 (ipykernel)",
   "language": "python",
   "name": "python3"
  },
  "language_info": {
   "codemirror_mode": {
    "name": "ipython",
    "version": 3
   },
   "file_extension": ".py",
   "mimetype": "text/x-python",
   "name": "python",
   "nbconvert_exporter": "python",
   "pygments_lexer": "ipython3",
   "version": "3.10.6"
  }
 },
 "nbformat": 4,
 "nbformat_minor": 4
}
