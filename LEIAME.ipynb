{
 "cells": [
  {
   "cell_type": "markdown",
   "metadata": {},
   "source": [
    "# Dinâmica Aplicada\n",
    "Professor Paulo Victor <br>\n",
    "E-mail: paulo.gomes@cefet-rj.br <br>\n",
    "CEFET-RJ Campus Angra dos Reis Sala 6E\n",
    "\n",
    "\n",
    "\n",
    "## Ementa:\n",
    "\n",
    "1. [Diferenciação de Vetores](DinAp01.ipynb)\n",
    "2. [Cinemática](DinAp02.ipynb)\n",
    "3. [Restrições Cinemáticas](DinAp03.ipynb)\n",
    "4. [Distribuição de Massa](DinAp04.ipynb)\n",
    "5. [Forças Generalizadas](DinAp01.ipynb)\n",
    "6. [Formulação das Equações de Movimento](DinAp01.ipynb)\n",
    "7. [Extraindo Informações das Equações de Movimento](DinAp01.ipynb)\n",
    "8. [Dinâmica Computacional](DinAp01.ipynb)\n",
    "\n",
    "\n",
    "\n",
    "## Objetivos Gerais:\n",
    "\n",
    "Apresentar a modelagem, análise e simulação da dinâmica de sistemas mecânicos de vários corpos por meio do Método de Kane, permitindo ao aluno o estudo da dinâmica de sistemas complexos.\n",
    "\n",
    "\n",
    "\n",
    "## Bibliografia Básica:\n",
    "\n",
    "* ROITHMAYR, Carlos M.; HODGES, Dewey H. Dynamics: Theory and Application of Kane’s Method. Cambridge University Press, 2016.\n",
    "* [KANE, Thomas R.; LEVINSON, David A. Dynamics, theory and applications. McGraw Hill, 1985.](https://www.ecommons.cornell.edu/handle/1813/638)\n",
    "* [KANE, Thomas R.; LIKINS, Peter W.; LEVINSON, David A. Spacecraft dynamics. New York, McGraw-Hill Book Co, 1983.](https://ecommons.cornell.edu/handle/1813/637)\n",
    "\n",
    "\n",
    "\n",
    "## Bibliografia Complementar:\n",
    "\n",
    "* LESSER, Martin. The Analysis of Complex Nonlinear Mechanical Systems: A Computer Algebra Assisted Approach. World Scientific Publishing Company, 1995.\n",
    "* NORTON, Robert L. Cinemática e dinâmica dos mecanismos. AMGH Editora, 2010.\n",
    "\n",
    "\n",
    "\n",
    "## Avaliação:\n",
    "\n",
    "2 Trabalhos em dupla\n",
    "\n",
    "\n",
    "\n",
    "\n",
    "### Datas Importantes:\n",
    "\n",
    " * Período de trancamento\n",
    " > 01/02 a 20/02 \\\n",
    " >01/03 a 27/05 \n",
    "  \n",
    " * Avaliações:\n",
    " >P1: 26/03 \\\n",
    " >P2: 14/05 \\\n",
    " >P3: 28/05 "
   ]
  }
 ],
 "metadata": {
  "kernelspec": {
   "display_name": "Python 3",
   "language": "python",
   "name": "python3"
  },
  "language_info": {
   "codemirror_mode": {
    "name": "ipython",
    "version": 3
   },
   "file_extension": ".py",
   "mimetype": "text/x-python",
   "name": "python",
   "nbconvert_exporter": "python",
   "pygments_lexer": "ipython3",
   "version": "3.8.5"
  }
 },
 "nbformat": 4,
 "nbformat_minor": 4
}
