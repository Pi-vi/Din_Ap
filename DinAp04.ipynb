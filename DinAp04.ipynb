{
 "cells": [
  {
   "cell_type": "markdown",
   "metadata": {
    "slideshow": {
     "slide_type": "slide"
    }
   },
   "source": [
    "# Distribuição de Massa\n",
    "Professor Paulo Victor <br>\n",
    "E-mail: paulo.gomes@cefet-rj.br <br>\n",
    "CEFET-RJ Campus Angra dos Reis Sala 6E\n"
   ]
  },
  {
   "cell_type": "markdown",
   "metadata": {
    "slideshow": {
     "slide_type": "subslide"
    }
   },
   "source": [
    "O movimento que resulta quando forças atuam em um sistema material não depende somente das forças, mas também da constituição do sistema. Particularmente, a maneira na qual a massa está distribuida no sistema afeta o seu comportamento. <br>"
   ]
  },
  {
   "cell_type": "markdown",
   "metadata": {
    "slideshow": {
     "slide_type": "slide"
    }
   },
   "source": [
    "## Centro de Massa"
   ]
  },
  {
   "cell_type": "markdown",
   "metadata": {
    "slideshow": {
     "slide_type": "subslide"
    }
   },
   "source": [
    "Se $S$ é um conjunto de partículas $P_1,...,P_{\\nu}$ de massas $m_1,...,m_{\\nu}$, respectivamente, existe um único ponto $S^*$ tal que:\n",
    "$$\\sum_{i=1}^{\\nu} m_i \\mathbf{r}_i = \\mathbf{0}$$\n",
    "onde $\\mathbf{r}_i$ é o vetor posição de $P_i(i = 1,...,\\nu)$ em relação a $S^*$. O ponto $S^*$ é chamado de centro de massa de $S$ e pode ser localizado da seguinte forma:\n",
    "$$\\mathbf{p}^{*} = \\dfrac{\\sum_{i=1}^{\\nu} m_i \\mathbf{p}_i}{\\sum_{i=1}^{\\nu} m_i}$$\n",
    "onde $\\mathbf{p}_i$ é o vetor posição de $P_i$ em relação ao ponto $O$, em que $O$ é um ponto qualquer e $\\mathbf{p}^*$ é o vetor posição do centro de massa em relação ao ponto $O$. "
   ]
  },
  {
   "cell_type": "markdown",
   "metadata": {
    "slideshow": {
     "slide_type": "subslide"
    }
   },
   "source": [
    "**Exemplo 1:** <br>\n",
    "Obter o centro de massa do sistema mostrado na figura abaixo: \n",
    "![](ex4-1.png)"
   ]
  },
  {
   "cell_type": "code",
   "execution_count": 1,
   "metadata": {
    "slideshow": {
     "slide_type": "subslide"
    }
   },
   "outputs": [],
   "source": [
    "import sympy as sy\n",
    "import sympy.physics.mechanics as me"
   ]
  },
  {
   "cell_type": "code",
   "execution_count": 2,
   "metadata": {
    "slideshow": {
     "slide_type": "fragment"
    }
   },
   "outputs": [],
   "source": [
    "m1,m2,m3 = sy.symbols('m1 m2 m3')"
   ]
  },
  {
   "cell_type": "code",
   "execution_count": 3,
   "metadata": {
    "slideshow": {
     "slide_type": "fragment"
    }
   },
   "outputs": [],
   "source": [
    "N = me.ReferenceFrame('N')"
   ]
  },
  {
   "cell_type": "code",
   "execution_count": 4,
   "metadata": {
    "slideshow": {
     "slide_type": "fragment"
    }
   },
   "outputs": [],
   "source": [
    "p1 = 2*N.x + 2*N.y + 5*N.z\n",
    "p2 = 3*N.x + 4*N.y + 3*N.z\n",
    "p3 = 5*N.x + 4*N.y + 2*N.z"
   ]
  },
  {
   "cell_type": "code",
   "execution_count": 5,
   "metadata": {
    "slideshow": {
     "slide_type": "fragment"
    }
   },
   "outputs": [
    {
     "data": {
      "text/plain": [
       "[2*m1*N.x + 2*m1*N.y + 5*m1*N.z,\n",
       " 3*m2*N.x + 4*m2*N.y + 3*m2*N.z,\n",
       " 5*m3*N.x + 4*m3*N.y + 2*m3*N.z]"
      ]
     },
     "execution_count": 5,
     "metadata": {},
     "output_type": "execute_result"
    }
   ],
   "source": [
    "lista1a = [m1*p1,m2*p2,m3*p3]\n",
    "lista1a"
   ]
  },
  {
   "cell_type": "code",
   "execution_count": 6,
   "metadata": {
    "slideshow": {
     "slide_type": "fragment"
    }
   },
   "outputs": [],
   "source": [
    "lista1b = [m1,m2,m3]"
   ]
  },
  {
   "cell_type": "code",
   "execution_count": 7,
   "metadata": {
    "slideshow": {
     "slide_type": "fragment"
    }
   },
   "outputs": [
    {
     "data": {
      "text/latex": [
       "$\\displaystyle \\frac{2 m_{1} + 3 m_{2} + 5 m_{3}}{m_{1} + m_{2} + m_{3}}\\mathbf{\\hat{n}_x} + \\frac{2 m_{1} + 4 m_{2} + 4 m_{3}}{m_{1} + m_{2} + m_{3}}\\mathbf{\\hat{n}_y} + \\frac{5 m_{1} + 3 m_{2} + 2 m_{3}}{m_{1} + m_{2} + m_{3}}\\mathbf{\\hat{n}_z}$"
      ],
      "text/plain": [
       "(2*m1 + 3*m2 + 5*m3)/(m1 + m2 + m3)*N.x + (2*m1 + 4*m2 + 4*m3)/(m1 + m2 + m3)*N.y + (5*m1 + 3*m2 + 2*m3)/(m1 + m2 + m3)*N.z"
      ]
     },
     "execution_count": 7,
     "metadata": {},
     "output_type": "execute_result"
    }
   ],
   "source": [
    "cm = sum(lista1a)/sum(lista1b)\n",
    "cm"
   ]
  },
  {
   "cell_type": "code",
   "execution_count": 8,
   "metadata": {
    "slideshow": {
     "slide_type": "fragment"
    }
   },
   "outputs": [],
   "source": [
    "dic1 = {m1:5,m2:10,m3:2} "
   ]
  },
  {
   "cell_type": "code",
   "execution_count": 9,
   "metadata": {
    "slideshow": {
     "slide_type": "fragment"
    }
   },
   "outputs": [
    {
     "data": {
      "text/latex": [
       "$\\displaystyle \\frac{50}{17}\\mathbf{\\hat{n}_x} + \\frac{58}{17}\\mathbf{\\hat{n}_y} + \\frac{59}{17}\\mathbf{\\hat{n}_z}$"
      ],
      "text/plain": [
       "50/17*N.x + 58/17*N.y + 59/17*N.z"
      ]
     },
     "execution_count": 9,
     "metadata": {},
     "output_type": "execute_result"
    }
   ],
   "source": [
    "cm.subs(dic1)"
   ]
  },
  {
   "cell_type": "markdown",
   "metadata": {
    "slideshow": {
     "slide_type": "slide"
    }
   },
   "source": [
    "## Curvas, Superfícies e Sólidos"
   ]
  },
  {
   "cell_type": "markdown",
   "metadata": {
    "slideshow": {
     "slide_type": "subslide"
    }
   },
   "source": [
    "Quando um corpo $B$ é modelado como matéria distribuída em uma curva, em uma superfície, ou em um sólido, existe um ponto único $B^*$ tal que:\n",
    "$$\\int_F \\rho \\mathbf{r} d \\tau = \\mathbf{0}$$\n",
    "onde $\\rho$ é a massa específica de $B$ em um ponto genérico $P$ de $B$, $\\mathbf{r}$ é o vetor posição de $P$ em relação a $B^*$; $d\\tau$ é o comprimento, a area, ou o volume de um elemento infinitesimal da figura $F$ (curva, superfície ou um sólido) ocupado por $B$; e a integração é feita em $F$. $B^*$, chamado de centro de massa de $B$, pode ser localizado como mostrado a seguir. Seja $O$ um ponto qualquer e seja $\\mathbf{p}$ o vetor posição de $P$ em relação a $O$. Desse modo, $\\mathbf{p}^*$, o vetor posição de $B^*$ em relação a $O$, é dado por:\n",
    "$$\\mathbf{p}^* = \\dfrac{\\int_F \\rho \\mathbf{p} d \\tau}{\\int_F \\rho d \\tau}$$"
   ]
  },
  {
   "cell_type": "markdown",
   "metadata": {
    "slideshow": {
     "slide_type": "slide"
    }
   },
   "source": [
    "## Vetores de Inércia e Escalares de Inércia"
   ]
  },
  {
   "cell_type": "markdown",
   "metadata": {
    "slideshow": {
     "slide_type": "subslide"
    }
   },
   "source": [
    "Se $S$ é um conjunto de partículas $P_1,...,P_\\nu$ das massas $m_1,...,m_\\nu$, respectivamente, $\\mathbf{p}_i$ é um conjunto de vetores posição do ponto $P_i(i=1,...,\\nu)$, e $\\mathbf{\\hat{n}}_a$ é um vetor unitário, então o vetor $\\mathbf{I}_a$, chamados de **vetores de inércia** de $S$ em relação a $O$ para  $\\mathbf{\\hat{n}}_a$, é definido como: \n",
    "$$\\mathbf{I}_a = \\sum^{\\nu}_{i=1} m_i \\mathbf{p}_i \\times (\\mathbf{\\hat{n}}_a \\times \\mathbf{p}_i)$$\n",
    "\n",
    "Um escalar $I_{ab}$, chamado de escalar de inércia de $S$ em relação a $O$ para $\\mathbf{\\hat{n}}_a$ e $\\mathbf{\\hat{n}}_b$ é definido como: \n",
    "\n",
    "$$I_{ab} = \\mathbf{I}_a \\cdot \\mathbf{\\hat{n}}_b$$\n",
    "\n",
    "Podemos, então, expressar $I_{ab}$ como: \n",
    "\n",
    "$$ I_{ab} = \\sum^{\\nu}_{i=1} m_i (\\mathbf{p}_i \\times \\mathbf{\\hat{n}}_a ) \\cdot (\\mathbf{p}_i \\times \\mathbf{\\hat{n}}_b) $$\n",
    "\n",
    "Observa-se que: \n",
    "\n",
    "$$I_{ab} = I_{ba} $$\n",
    "\n",
    "**Observação:**\n",
    "* se $\\mathbf{\\hat{n}}_a \\neq \\mathbf{\\hat{n}}_b$, $I_{ab}$ é chamado de **produto de inércia** de $S$ em relação a $O$ para $\\mathbf{\\hat{n}}_a$ e $\\mathbf{\\hat{n}}_b$. \n",
    "* se $\\mathbf{\\hat{n}}_a = \\mathbf{\\hat{n}}_b$, $I_{ab}$, o escalar de inércia é muitas vezes denotado por $I_a$ (ao invés de $I_{aa}$ e é chamado de **momento de inércia** de $S$ em relação a linha $L_a$, onde $L_a$ é a linha passando pelo ponto $O$ e paralelo a $\\mathbf{\\hat{n}}_a$."
   ]
  },
  {
   "cell_type": "markdown",
   "metadata": {
    "slideshow": {
     "slide_type": "subslide"
    }
   },
   "source": [
    "O momento de inércia de $S$ com respeito a linha $L_a$ pode sempre ser expresso como:\n",
    "$$I_a = \\sum^{\\nu}_{i=1} m_i l_i^2$$\n",
    "Onde $l_i$ é a distância de $P_i$ em relação a linha $L_a$. Ou, pode ser expresso como:\n",
    "$$I_a = mk_a^2$$\n",
    "Onde $m$ é a massa total de $S$, e $k_a$ é uma quantidade real não negativa chamada de raio de giração de $S$ com respeito a linha $L_a$. "
   ]
  },
  {
   "cell_type": "markdown",
   "metadata": {
    "slideshow": {
     "slide_type": "subslide"
    }
   },
   "source": [
    "Os vetores de inércia, produtos de inércia, momentos de inércia e raios de giração de um corpo $B$ modelado como uma massa distribuída ao longo de uma curva, uma superfície ou um sólido são definidos de modo análogo. Se $\\rho$ é a massa específica de $B$ em um ponto genérico $P$, pertencente a $B$, $\\mathbf{p}$ é o vetor posição de $P$ em relação ao ponto $O$, $d\\tau$ é o comprimento, área, ou o volume de um elemento diferencial da forma $F$ (curva, superfície, ou sólido) ocupado por $B$, e $\\mathbf{\\hat{n}}_a$ e $\\mathbf{\\hat{n}}_b$ são vetores unitários:\n",
    "\n",
    "$$\\mathbf{I}_a = \\int_F \\rho \\mathbf{p} \\times (\\mathbf{\\hat{n}}_a \\times \\mathbf{p}) d \\tau $$\n",
    "$$ I_{ab} = \\mathbf{I}_a \\cdot \\mathbf{\\hat{n}}_b = \\int_F \\rho (\\mathbf{p} \\times \\mathbf{\\hat{n}}_a) \\cdot (\\mathbf{p} \\times \\mathbf{\\hat{n}}_b) d \\tau $$\n",
    "$$ I_a = \\int_F \\rho l^2 d \\tau $$\n"
   ]
  },
  {
   "cell_type": "markdown",
   "metadata": {
    "slideshow": {
     "slide_type": "slide"
    }
   },
   "source": [
    "## Vetores Unitários Mutuamente Perpendiculares"
   ]
  },
  {
   "cell_type": "markdown",
   "metadata": {
    "slideshow": {
     "slide_type": "subslide"
    }
   },
   "source": [
    "Ao se saber os vetores de inércia $\\mathbf{I}_1$, $\\mathbf{I}_2$ e $\\mathbf{I}_3$ do corpo $B$ relativos ao ponto $O$ para três vetores unitários mutuamente perpendiculares $\\mathbf{\\hat{n}}_1$, $\\mathbf{\\hat{n}}_2$ e $\\mathbf{\\hat{n}}_3$, torna-se possível obter $\\mathbf{\\hat{I}}_a$, o vetor de inércia de $B$ relativo a $O$ para qualquer vetor unitário $\\mathbf{\\hat{n}}_a$. "
   ]
  },
  {
   "cell_type": "markdown",
   "metadata": {
    "slideshow": {
     "slide_type": "slide"
    }
   },
   "source": [
    "## Matriz de Inércia e Tensor de Inércia"
   ]
  },
  {
   "cell_type": "markdown",
   "metadata": {
    "slideshow": {
     "slide_type": "subslide"
    }
   },
   "source": [
    "Os escalares de inércia $I_{jk}$ de um conjunto $S$ de partículas relacionadas a um ponto $O$ para os vetores unitários $\\mathbf{\\hat{n}}_j$ e $\\mathbf{\\hat{n}}_k$ $(j,k = 1,2,3)$ podem ser usados para definir uma matriz quadrada $I$, chamada de matriz de inércia de $S$ em relação a $O$ para $\\mathbf{\\hat{n}}_1$, $\\mathbf{\\hat{n}}_2$ e $\\mathbf{\\hat{n}}_3$ como se segue: \n",
    "\n",
    "$$\n",
    "I = \\left[ \\begin{array}{c} I_{11} & I_{12} & I_{13} \\\\ I_{21} & I_{22} & I_{23} \\\\ I_{31} & I_{32} & I_{33}  \\end{array} \\right]\n",
    "$$\n",
    "\n",
    "O escalar de inércia $I_{ab}$ de $S$ em relação a $O$ para $\\mathbf{\\hat{n}}_a$ e $\\mathbf{\\hat{n}}_b$ é dado por: \n",
    "\n",
    "$$I_{ab} = \\mathbf{\\hat{n}}_a \\cdot I \\cdot \\mathbf{\\hat{n}}_b $$\n",
    "\n",
    "**Observação:** <br>\n",
    "O sistema $S$ **não** possui uma única matriz de inércia em relação a $O$. "
   ]
  },
  {
   "cell_type": "markdown",
   "metadata": {
    "slideshow": {
     "slide_type": "slide"
    }
   },
   "source": [
    "### Tensores:\n",
    "\n",
    "Se $\\mathbf{Q}$ é um tensor:\n",
    "$$ \\mathbf{u} = \\mathbf{w} \\cdot \\mathbf{Q} $$\n",
    "e\n",
    "$$\\mathbf{v} = \\mathbf{Q} \\cdot \\mathbf{w} $$\n",
    "\n",
    "O tensor unitário $\\mathbf{U}$ é um tipo especial de tensor:\n",
    "$$ \\mathbf{v} \\cdot \\mathbf{U} = \\mathbf{v} $$\n",
    "$$\\mathbf{U} \\cdot \\mathbf{v} = \\mathbf{v} $$\n",
    "\n",
    "**Tensores de Inércia:** <br>\n",
    "$$\\mathbf{I}_a = \\mathbf{\\hat{n}}_a \\cdot \\mathbf{I} = \\mathbf{I} \\cdot \\mathbf{\\hat{n}}_a$$\n",
    "$$I_{ab} = \\mathbf{\\hat{n}}_a \\cdot \\mathbf{I} \\cdot \\mathbf{\\hat{n}}_b $$\n",
    "\n",
    "O tensor $\\mathbf{I}$ é chamado  de tensor de inércia. <br>\n",
    "Quando o corpo $B$ é modelado como uma matéria ocupando a forma $F$ (curva, superfície, ou sólido), então:\n",
    "$$\\mathbf{I} = \\int_{F} \\rho (\\mathbf{U}\\mathbf{p}^2 - \\mathbf{p} \\otimes \\mathbf{p}) d \\tau$$\n",
    "\n",
    "**Observação:** <br>\n",
    "$$\\mathbf{I} = \\mathbf{I} \\cdot \\mathbf{\\hat{n}}_1 \\mathbf{\\hat{n}}_1 + \\mathbf{I} \\cdot \\mathbf{\\hat{n}}_2 \\mathbf{\\hat{n}}_2 + \\mathbf{I} \\cdot \\mathbf{\\hat{n}}_3 \\mathbf{\\hat{n}}_3 = \\mathbf{I}_1 \\mathbf{\\hat{n}}_1 + \\mathbf{I}_2 \\mathbf{\\hat{n}}_2 + \\mathbf{I}_3 \\mathbf{\\hat{n}}_3 $$ \n",
    "$$\\mathbf{I} = (I_11 \\mathbf{\\hat{n}}_1 + I_12 \\mathbf{\\hat{n}}_2 + I_13 \\mathbf{\\hat{n}}_3)\\mathbf{\\hat{n}}_1 + (I_21 \\mathbf{\\hat{n}}_1 + I_22 \\mathbf{\\hat{n}}_2 + I_23 \\mathbf{\\hat{n}}_3)\\mathbf{\\hat{n}}_2 + (I_31 \\mathbf{\\hat{n}}_1 + I_32 \\mathbf{\\hat{n}}_2 + I_33 \\mathbf{\\hat{n}}_3)\\mathbf{\\hat{n}}_3 $$"
   ]
  },
  {
   "cell_type": "markdown",
   "metadata": {
    "slideshow": {
     "slide_type": "slide"
    }
   },
   "source": [
    "## Teorema dos Eixos Paralelos"
   ]
  },
  {
   "cell_type": "markdown",
   "metadata": {
    "slideshow": {
     "slide_type": "subslide"
    }
   },
   "source": [
    "O tensor de inércia $\\mathbf{I}^{S/O}$ de um sistema $S$ em relação ao ponto $O$ está relacionado de um modo simples ao tensor de inércia central de $S$, $\\mathbf{I}^{S/S^*}$, que é o tensor de inércia de $S$ em relação ao centro de massa $S^*$ de $S$. \n",
    "$$\\mathbf{I}^{S/O} = \\mathbf{I}^{S/S^*} + \\mathbf{I}^{S^*/O}$$"
   ]
  },
  {
   "cell_type": "markdown",
   "metadata": {
    "slideshow": {
     "slide_type": "slide"
    }
   },
   "source": [
    "## Momentos Principais de Inércia"
   ]
  },
  {
   "cell_type": "markdown",
   "metadata": {
    "slideshow": {
     "slide_type": "subslide"
    }
   },
   "source": [
    "Em geral, o vetor de inércia $\\mathbf{I}_a$ não é paralelo a $\\mathbf{\\hat{n}}_a$. Quando $\\mathbf{\\hat{n}}_z$ é um vetor unitário tal que $\\mathbf{I}_z$ é paralelo a $\\mathbf{\\hat{n}}_z$, a linha $L_z$ passando por $O$ e paralelo a $\\mathbf{\\hat{n}}_z$ é chamada de eixo principal de $S$ para $O$. O momento de inércia $I_z$ de $S$ em relação a $L_z$ é chamado de momento principal de $S$ em relação a $O$, e o raio de giração de $S$ em relação a $L_z$ é chamado de raio de giração principal de $S$ para $O$.\n",
    "$$\n",
    "I = \\left[ \\begin{array}{c} I_{11} & 0 & 0 \\\\ 0 & I_{22} & 0 \\\\ 0 & 0 & I_{33}  \\end{array} \\right]\n",
    "$$\n"
   ]
  },
  {
   "cell_type": "markdown",
   "metadata": {
    "slideshow": {
     "slide_type": "subslide"
    }
   },
   "source": [
    "**Exemplo 2:** <br>\n",
    "Obtenha o tensor de inércia do sistema mostrado no exemplo 1. "
   ]
  },
  {
   "cell_type": "code",
   "execution_count": 10,
   "metadata": {
    "slideshow": {
     "slide_type": "fragment"
    }
   },
   "outputs": [
    {
     "data": {
      "text/latex": [
       "$\\displaystyle 29 m_{1}\\mathbf{\\hat{n}_x}\\otimes \\mathbf{\\hat{n}_x} + 29 m_{1}\\mathbf{\\hat{n}_y}\\otimes \\mathbf{\\hat{n}_y} + 8 m_{1}\\mathbf{\\hat{n}_z}\\otimes \\mathbf{\\hat{n}_z} -  4 m_{1}\\mathbf{\\hat{n}_x}\\otimes \\mathbf{\\hat{n}_y} -  10 m_{1}\\mathbf{\\hat{n}_x}\\otimes \\mathbf{\\hat{n}_z} -  4 m_{1}\\mathbf{\\hat{n}_y}\\otimes \\mathbf{\\hat{n}_x} -  10 m_{1}\\mathbf{\\hat{n}_y}\\otimes \\mathbf{\\hat{n}_z} -  10 m_{1}\\mathbf{\\hat{n}_z}\\otimes \\mathbf{\\hat{n}_x} -  10 m_{1}\\mathbf{\\hat{n}_z}\\otimes \\mathbf{\\hat{n}_y}$"
      ],
      "text/plain": [
       "29*m1*(N.x|N.x) + 29*m1*(N.y|N.y) + 8*m1*(N.z|N.z) - 4*m1*(N.x|N.y) - 10*m1*(N.x|N.z) - 4*m1*(N.y|N.x) - 10*m1*(N.y|N.z) - 10*m1*(N.z|N.x) - 10*m1*(N.z|N.y)"
      ]
     },
     "execution_count": 10,
     "metadata": {},
     "output_type": "execute_result"
    }
   ],
   "source": [
    "Ip1 = me.inertia_of_point_mass(m1,p1,N)\n",
    "Ip1"
   ]
  },
  {
   "cell_type": "code",
   "execution_count": 11,
   "metadata": {
    "slideshow": {
     "slide_type": "fragment"
    }
   },
   "outputs": [
    {
     "data": {
      "text/latex": [
       "$\\displaystyle \\left[\\begin{matrix}29 m_{1} & - 4 m_{1} & - 10 m_{1}\\\\- 4 m_{1} & 29 m_{1} & - 10 m_{1}\\\\- 10 m_{1} & - 10 m_{1} & 8 m_{1}\\end{matrix}\\right]$"
      ],
      "text/plain": [
       "Matrix([\n",
       "[ 29*m1,  -4*m1, -10*m1],\n",
       "[ -4*m1,  29*m1, -10*m1],\n",
       "[-10*m1, -10*m1,   8*m1]])"
      ]
     },
     "execution_count": 11,
     "metadata": {},
     "output_type": "execute_result"
    }
   ],
   "source": [
    "Ip1.to_matrix(N)"
   ]
  },
  {
   "cell_type": "code",
   "execution_count": 12,
   "metadata": {
    "slideshow": {
     "slide_type": "fragment"
    }
   },
   "outputs": [],
   "source": [
    "Ip2 = me.inertia_of_point_mass(m2,p2,N)\n",
    "Ip3 = me.inertia_of_point_mass(m3,p3,N)"
   ]
  },
  {
   "cell_type": "code",
   "execution_count": 13,
   "metadata": {
    "slideshow": {
     "slide_type": "fragment"
    }
   },
   "outputs": [
    {
     "data": {
      "text/latex": [
       "$\\displaystyle (29 m_{1} + 25 m_{2} + 20 m_{3})\\mathbf{\\hat{n}_x}\\otimes \\mathbf{\\hat{n}_x} + (29 m_{1} + 18 m_{2} + 29 m_{3})\\mathbf{\\hat{n}_y}\\otimes \\mathbf{\\hat{n}_y} + (8 m_{1} + 25 m_{2} + 41 m_{3})\\mathbf{\\hat{n}_z}\\otimes \\mathbf{\\hat{n}_z} + (- 4 m_{1} - 12 m_{2} - 20 m_{3})\\mathbf{\\hat{n}_x}\\otimes \\mathbf{\\hat{n}_y} + (- 10 m_{1} - 9 m_{2} - 10 m_{3})\\mathbf{\\hat{n}_x}\\otimes \\mathbf{\\hat{n}_z} + (- 4 m_{1} - 12 m_{2} - 20 m_{3})\\mathbf{\\hat{n}_y}\\otimes \\mathbf{\\hat{n}_x} + (- 10 m_{1} - 12 m_{2} - 8 m_{3})\\mathbf{\\hat{n}_y}\\otimes \\mathbf{\\hat{n}_z} + (- 10 m_{1} - 9 m_{2} - 10 m_{3})\\mathbf{\\hat{n}_z}\\otimes \\mathbf{\\hat{n}_x} + (- 10 m_{1} - 12 m_{2} - 8 m_{3})\\mathbf{\\hat{n}_z}\\otimes \\mathbf{\\hat{n}_y}$"
      ],
      "text/plain": [
       "(29*m1 + 25*m2 + 20*m3)*(N.x|N.x) + (29*m1 + 18*m2 + 29*m3)*(N.y|N.y) + (8*m1 + 25*m2 + 41*m3)*(N.z|N.z) + (-4*m1 - 12*m2 - 20*m3)*(N.x|N.y) + (-10*m1 - 9*m2 - 10*m3)*(N.x|N.z) + (-4*m1 - 12*m2 - 20*m3)*(N.y|N.x) + (-10*m1 - 12*m2 - 8*m3)*(N.y|N.z) + (-10*m1 - 9*m2 - 10*m3)*(N.z|N.x) + (-10*m1 - 12*m2 - 8*m3)*(N.z|N.y)"
      ]
     },
     "execution_count": 13,
     "metadata": {},
     "output_type": "execute_result"
    }
   ],
   "source": [
    "Isis = Ip1 + Ip2 + Ip3\n",
    "Isis"
   ]
  },
  {
   "cell_type": "code",
   "execution_count": 14,
   "metadata": {
    "scrolled": true,
    "slideshow": {
     "slide_type": "fragment"
    }
   },
   "outputs": [
    {
     "data": {
      "text/latex": [
       "$\\displaystyle \\left[\\begin{matrix}29 m_{1} + 25 m_{2} + 20 m_{3} & - 4 m_{1} - 12 m_{2} - 20 m_{3} & - 10 m_{1} - 9 m_{2} - 10 m_{3}\\\\- 4 m_{1} - 12 m_{2} - 20 m_{3} & 29 m_{1} + 18 m_{2} + 29 m_{3} & - 10 m_{1} - 12 m_{2} - 8 m_{3}\\\\- 10 m_{1} - 9 m_{2} - 10 m_{3} & - 10 m_{1} - 12 m_{2} - 8 m_{3} & 8 m_{1} + 25 m_{2} + 41 m_{3}\\end{matrix}\\right]$"
      ],
      "text/plain": [
       "Matrix([\n",
       "[29*m1 + 25*m2 + 20*m3, -4*m1 - 12*m2 - 20*m3, -10*m1 - 9*m2 - 10*m3],\n",
       "[-4*m1 - 12*m2 - 20*m3, 29*m1 + 18*m2 + 29*m3, -10*m1 - 12*m2 - 8*m3],\n",
       "[-10*m1 - 9*m2 - 10*m3, -10*m1 - 12*m2 - 8*m3,  8*m1 + 25*m2 + 41*m3]])"
      ]
     },
     "execution_count": 14,
     "metadata": {},
     "output_type": "execute_result"
    }
   ],
   "source": [
    "Isis.to_matrix(N)"
   ]
  },
  {
   "cell_type": "code",
   "execution_count": 15,
   "metadata": {
    "slideshow": {
     "slide_type": "fragment"
    }
   },
   "outputs": [
    {
     "data": {
      "text/latex": [
       "$\\displaystyle \\left[\\begin{matrix}435 & -180 & -160\\\\-180 & 383 & -186\\\\-160 & -186 & 372\\end{matrix}\\right]$"
      ],
      "text/plain": [
       "Matrix([\n",
       "[ 435, -180, -160],\n",
       "[-180,  383, -186],\n",
       "[-160, -186,  372]])"
      ]
     },
     "execution_count": 15,
     "metadata": {},
     "output_type": "execute_result"
    }
   ],
   "source": [
    "Isis.to_matrix(N).subs(dic1)"
   ]
  },
  {
   "cell_type": "markdown",
   "metadata": {
    "slideshow": {
     "slide_type": "subslide"
    }
   },
   "source": [
    "**Exemplo 3:** <br>\n",
    "Obtenha o tensor de inércia do sistema mostrado na figura a seguir.\n",
    "![](ex4-3.png)"
   ]
  },
  {
   "cell_type": "code",
   "execution_count": 16,
   "metadata": {
    "slideshow": {
     "slide_type": "fragment"
    }
   },
   "outputs": [],
   "source": [
    "L,R,mcubo,mcilindro = sy.symbols('L R m_{cubo} m_{cilindro}')"
   ]
  },
  {
   "cell_type": "markdown",
   "metadata": {
    "slideshow": {
     "slide_type": "fragment"
    }
   },
   "source": [
    "![](https://external-content.duckduckgo.com/iu/?u=https%3A%2F%2F1.bp.blogspot.com%2F_u8AaRqhq2BQ%2FTNcjTrL2sTI%2FAAAAAAAAACU%2Fm57_Ag15E4s%2Fs1600%2FImagen20.png&f=1&nofb=1)"
   ]
  },
  {
   "cell_type": "code",
   "execution_count": 17,
   "metadata": {
    "slideshow": {
     "slide_type": "fragment"
    }
   },
   "outputs": [
    {
     "data": {
      "text/latex": [
       "$\\displaystyle \\frac{L^{2} m_{cubo}}{6}\\mathbf{\\hat{n}_x}\\otimes \\mathbf{\\hat{n}_x} + \\frac{L^{2} m_{cubo}}{6}\\mathbf{\\hat{n}_y}\\otimes \\mathbf{\\hat{n}_y} + \\frac{L^{2} m_{cubo}}{6}\\mathbf{\\hat{n}_z}\\otimes \\mathbf{\\hat{n}_z}$"
      ],
      "text/plain": [
       "L**2*m_{cubo}/6*(N.x|N.x) + L**2*m_{cubo}/6*(N.y|N.y) + L**2*m_{cubo}/6*(N.z|N.z)"
      ]
     },
     "execution_count": 17,
     "metadata": {},
     "output_type": "execute_result"
    }
   ],
   "source": [
    "Icubo = me.inertia(N,mcubo*L**2/6,mcubo*L**2/6,mcubo*L**2/6)\n",
    "Icubo"
   ]
  },
  {
   "cell_type": "code",
   "execution_count": 18,
   "metadata": {
    "slideshow": {
     "slide_type": "fragment"
    }
   },
   "outputs": [
    {
     "data": {
      "text/latex": [
       "$\\displaystyle \\left[\\begin{matrix}\\frac{L^{2} m_{cubo}}{6} & 0 & 0\\\\0 & \\frac{L^{2} m_{cubo}}{6} & 0\\\\0 & 0 & \\frac{L^{2} m_{cubo}}{6}\\end{matrix}\\right]$"
      ],
      "text/plain": [
       "Matrix([\n",
       "[L**2*m_{cubo}/6,               0,               0],\n",
       "[              0, L**2*m_{cubo}/6,               0],\n",
       "[              0,               0, L**2*m_{cubo}/6]])"
      ]
     },
     "execution_count": 18,
     "metadata": {},
     "output_type": "execute_result"
    }
   ],
   "source": [
    "Icubo.to_matrix(N)"
   ]
  },
  {
   "cell_type": "markdown",
   "metadata": {
    "slideshow": {
     "slide_type": "fragment"
    }
   },
   "source": [
    "![](https://external-content.duckduckgo.com/iu/?u=https%3A%2F%2Ftse4.mm.bing.net%2Fth%3Fid%3DOIP.LPJfO5qHR8POVD11zPgOXAHaH1%26pid%3DApi&f=1)"
   ]
  },
  {
   "cell_type": "code",
   "execution_count": 19,
   "metadata": {
    "slideshow": {
     "slide_type": "fragment"
    }
   },
   "outputs": [
    {
     "data": {
      "text/latex": [
       "$\\displaystyle \\left[\\begin{matrix}\\frac{R^{2} m_{cilindro}}{2} & 0 & 0\\\\0 & \\frac{m_{cilindro} \\left(L^{2} + 3 R^{2}\\right)}{12} & 0\\\\0 & 0 & \\frac{m_{cilindro} \\left(L^{2} + 3 R^{2}\\right)}{12}\\end{matrix}\\right]$"
      ],
      "text/plain": [
       "Matrix([\n",
       "[R**2*m_{cilindro}/2,                               0,                               0],\n",
       "[                  0, m_{cilindro}*(L**2 + 3*R**2)/12,                               0],\n",
       "[                  0,                               0, m_{cilindro}*(L**2 + 3*R**2)/12]])"
      ]
     },
     "execution_count": 19,
     "metadata": {},
     "output_type": "execute_result"
    }
   ],
   "source": [
    "Icilindro = me.inertia(N,mcilindro*R**2/2,mcilindro*(3*R**2 + L**2)/12,mcilindro*(3*R**2 + L**2)/12)\n",
    "Icilindro.to_matrix(N)"
   ]
  },
  {
   "cell_type": "code",
   "execution_count": 20,
   "metadata": {
    "slideshow": {
     "slide_type": "fragment"
    }
   },
   "outputs": [],
   "source": [
    "p = (L/2 + R*sy.cos(sy.pi/4))*N.x + (L/2 + R*sy.sin(sy.pi/4))*N.z # vetor posição do centro do cubo para o centro do cilindro"
   ]
  },
  {
   "cell_type": "markdown",
   "metadata": {
    "slideshow": {
     "slide_type": "fragment"
    }
   },
   "source": [
    "Usando o teorema dos eixos paralelos:"
   ]
  },
  {
   "cell_type": "code",
   "execution_count": 21,
   "metadata": {
    "slideshow": {
     "slide_type": "fragment"
    }
   },
   "outputs": [
    {
     "data": {
      "text/latex": [
       "$\\displaystyle \\left[\\begin{matrix}\\frac{R^{2} m_{cilindro}}{2} + m_{cilindro} \\left(\\frac{L}{2} + \\frac{\\sqrt{2} R}{2}\\right)^{2} & 0 & - m_{cilindro} \\left(\\frac{L}{2} + \\frac{\\sqrt{2} R}{2}\\right)^{2}\\\\0 & 2 m_{cilindro} \\left(\\frac{L}{2} + \\frac{\\sqrt{2} R}{2}\\right)^{2} + \\frac{m_{cilindro} \\left(L^{2} + 3 R^{2}\\right)}{12} & 0\\\\- m_{cilindro} \\left(\\frac{L}{2} + \\frac{\\sqrt{2} R}{2}\\right)^{2} & 0 & m_{cilindro} \\left(\\frac{L}{2} + \\frac{\\sqrt{2} R}{2}\\right)^{2} + \\frac{m_{cilindro} \\left(L^{2} + 3 R^{2}\\right)}{12}\\end{matrix}\\right]$"
      ],
      "text/plain": [
       "Matrix([\n",
       "[R**2*m_{cilindro}/2 + m_{cilindro}*(L/2 + sqrt(2)*R/2)**2,                                                                       0,                                  -m_{cilindro}*(L/2 + sqrt(2)*R/2)**2],\n",
       "[                                                        0, 2*m_{cilindro}*(L/2 + sqrt(2)*R/2)**2 + m_{cilindro}*(L**2 + 3*R**2)/12,                                                                     0],\n",
       "[                     -m_{cilindro}*(L/2 + sqrt(2)*R/2)**2,                                                                       0, m_{cilindro}*(L/2 + sqrt(2)*R/2)**2 + m_{cilindro}*(L**2 + 3*R**2)/12]])"
      ]
     },
     "execution_count": 21,
     "metadata": {},
     "output_type": "execute_result"
    }
   ],
   "source": [
    "Ici2 = Icilindro + me.inertia_of_point_mass(mcilindro,p,N)\n",
    "Ici2.to_matrix(N)"
   ]
  },
  {
   "cell_type": "code",
   "execution_count": 22,
   "metadata": {
    "slideshow": {
     "slide_type": "fragment"
    }
   },
   "outputs": [
    {
     "data": {
      "text/latex": [
       "$\\displaystyle \\left[\\begin{matrix}\\frac{L^{2} m_{cubo}}{6} + \\frac{R^{2} m_{cilindro}}{2} + m_{cilindro} \\left(\\frac{L}{2} + \\frac{\\sqrt{2} R}{2}\\right)^{2} & 0 & - m_{cilindro} \\left(\\frac{L}{2} + \\frac{\\sqrt{2} R}{2}\\right)^{2}\\\\0 & \\frac{L^{2} m_{cubo}}{6} + 2 m_{cilindro} \\left(\\frac{L}{2} + \\frac{\\sqrt{2} R}{2}\\right)^{2} + \\frac{m_{cilindro} \\left(L^{2} + 3 R^{2}\\right)}{12} & 0\\\\- m_{cilindro} \\left(\\frac{L}{2} + \\frac{\\sqrt{2} R}{2}\\right)^{2} & 0 & \\frac{L^{2} m_{cubo}}{6} + m_{cilindro} \\left(\\frac{L}{2} + \\frac{\\sqrt{2} R}{2}\\right)^{2} + \\frac{m_{cilindro} \\left(L^{2} + 3 R^{2}\\right)}{12}\\end{matrix}\\right]$"
      ],
      "text/plain": [
       "Matrix([\n",
       "[L**2*m_{cubo}/6 + R**2*m_{cilindro}/2 + m_{cilindro}*(L/2 + sqrt(2)*R/2)**2,                                                                                         0,                                                    -m_{cilindro}*(L/2 + sqrt(2)*R/2)**2],\n",
       "[                                                                          0, L**2*m_{cubo}/6 + 2*m_{cilindro}*(L/2 + sqrt(2)*R/2)**2 + m_{cilindro}*(L**2 + 3*R**2)/12,                                                                                       0],\n",
       "[                                       -m_{cilindro}*(L/2 + sqrt(2)*R/2)**2,                                                                                         0, L**2*m_{cubo}/6 + m_{cilindro}*(L/2 + sqrt(2)*R/2)**2 + m_{cilindro}*(L**2 + 3*R**2)/12]])"
      ]
     },
     "execution_count": 22,
     "metadata": {},
     "output_type": "execute_result"
    }
   ],
   "source": [
    "Isis2 = Icubo + Ici2\n",
    "Isis2.to_matrix(N)"
   ]
  },
  {
   "cell_type": "markdown",
   "metadata": {
    "slideshow": {
     "slide_type": "fragment"
    }
   },
   "source": [
    "O centro de massa desses sistema será:"
   ]
  },
  {
   "cell_type": "code",
   "execution_count": 23,
   "metadata": {
    "slideshow": {
     "slide_type": "fragment"
    }
   },
   "outputs": [],
   "source": [
    "cm_cubo = L/2*N.x + L/2*N.y + L/2*N.z\n",
    "cm_cilindro = (L + R*sy.cos(sy.pi/4))*N.x + L/2*N.y + (L + R*sy.cos(sy.pi/4))*N.z"
   ]
  },
  {
   "cell_type": "code",
   "execution_count": 24,
   "metadata": {
    "slideshow": {
     "slide_type": "fragment"
    }
   },
   "outputs": [
    {
     "data": {
      "text/latex": [
       "$\\displaystyle \\frac{\\frac{L m_{cubo}}{2} + m_{cilindro} \\left(L + \\frac{\\sqrt{2} R}{2}\\right)}{m_{cilindro} + m_{cubo}}\\mathbf{\\hat{n}_x} + \\frac{\\frac{L m_{cilindro}}{2} + \\frac{L m_{cubo}}{2}}{m_{cilindro} + m_{cubo}}\\mathbf{\\hat{n}_y} + \\frac{\\frac{L m_{cubo}}{2} + m_{cilindro} \\left(L + \\frac{\\sqrt{2} R}{2}\\right)}{m_{cilindro} + m_{cubo}}\\mathbf{\\hat{n}_z}$"
      ],
      "text/plain": [
       "(L*m_{cubo}/2 + m_{cilindro}*(L + sqrt(2)*R/2))/(m_{cilindro} + m_{cubo})*N.x + (L*m_{cilindro}/2 + L*m_{cubo}/2)/(m_{cilindro} + m_{cubo})*N.y + (L*m_{cubo}/2 + m_{cilindro}*(L + sqrt(2)*R/2))/(m_{cilindro} + m_{cubo})*N.z"
      ]
     },
     "execution_count": 24,
     "metadata": {},
     "output_type": "execute_result"
    }
   ],
   "source": [
    "cm_sis2 = (cm_cubo*mcubo + cm_cilindro*mcilindro)/(mcubo+mcilindro)\n",
    "cm_sis2"
   ]
  }
 ],
 "metadata": {
  "kernelspec": {
   "display_name": "Python 3",
   "language": "python",
   "name": "python3"
  },
  "language_info": {
   "codemirror_mode": {
    "name": "ipython",
    "version": 3
   },
   "file_extension": ".py",
   "mimetype": "text/x-python",
   "name": "python",
   "nbconvert_exporter": "python",
   "pygments_lexer": "ipython3",
   "version": "3.8.10"
  }
 },
 "nbformat": 4,
 "nbformat_minor": 4
}
